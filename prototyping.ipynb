{
 "cells": [
  {
   "cell_type": "code",
   "execution_count": 11,
   "metadata": {},
   "outputs": [
    {
     "name": "stderr",
     "output_type": "stream",
     "text": [
      "c:\\Users\\seelc\\OneDrive\\Desktop\\Lucas Desktop Items\\Projects\\Air Polution Forecasting\\.venv\\Lib\\site-packages\\tqdm\\auto.py:21: TqdmWarning:\n",
      "\n",
      "IProgress not found. Please update jupyter and ipywidgets. See https://ipywidgets.readthedocs.io/en/stable/user_install.html\n",
      "\n"
     ]
    }
   ],
   "source": [
    "import requests\n",
    "import pandas as pd\n",
    "import plotly.express as px\n",
    "from prophet import Prophet"
   ]
  },
  {
   "cell_type": "markdown",
   "metadata": {},
   "source": [
    "### Setting API parameters"
   ]
  },
  {
   "cell_type": "code",
   "execution_count": 2,
   "metadata": {},
   "outputs": [],
   "source": [
    "country_id = 13 # For the United States\n",
    "\n",
    "# City keys\n",
    "city1 = \"Portland-South Portland-Biddeford\"\n",
    "city2 = \"Portland-Vancouver-Beaverton\"\n",
    "\n",
    "# sensor id's\n",
    "city1_ids = [855, 19840, 1195, 1923, 1083851]\n",
    "city2_ids = [233585, 1067, 1068, 1069, 1502, 1527, 233545, 1064]\n",
    "\n",
    "# Measurement parameters\n",
    "measurement_param = \"pm25\"\n",
    "\n",
    "# time period\n",
    "start = \"2024-10-06\"\n",
    "end = \"2024-09-06\""
   ]
  },
  {
   "cell_type": "markdown",
   "metadata": {},
   "source": [
    "### Running API Request"
   ]
  },
  {
   "cell_type": "code",
   "execution_count": 3,
   "metadata": {},
   "outputs": [
    {
     "name": "stdout",
     "output_type": "stream",
     "text": [
      "<Response [200]>\n"
     ]
    }
   ],
   "source": [
    "api_file = open(\"api_key.txt\", \"r\")\n",
    "key = api_file.read()\n",
    "res = requests.get(\"https://api.openaq.org/v2/locations/2178\", headers={\"X-API-Key\": key})\n",
    "\n",
    "print(res)"
   ]
  },
  {
   "cell_type": "markdown",
   "metadata": {},
   "source": [
    "### Testing City Pull"
   ]
  },
  {
   "cell_type": "code",
   "execution_count": 4,
   "metadata": {},
   "outputs": [
    {
     "name": "stdout",
     "output_type": "stream",
     "text": [
      "{\"meta\":{\"name\":\"openaq-api\",\"license\":\"\",\"website\":\"/\",\"page\":1,\"limit\":100,\"found\":\">100\"},\"results\":[{\"code\":\"AF\",\"name\":\"Afghanistan\",\"locations\":2,\"firstUpdated\":\"2019-10-20 22:30:00+00\",\"lastUpdated\":\"2021-08-16 18:00:00+00\",\"parameters\":[\"pm25\"],\"count\":23640,\"cities\":1,\"sources\":2},{\"code\":\"DZ\",\"name\":\"Algeria\",\"locations\":1,\"firstUpdated\":\"2019-06-15 22:00:00+00\",\"lastUpdated\":\"2024-06-16 02:00:00+00\",\"parameters\":[\"pm25\"],\"count\":39072,\"cities\":1,\"sources\":1},{\"code\":\"AQ\",\"name\":\"Antarctica\",\"locations\":2,\"firstUpdated\":\"2018-11-30 11:00:00+00\",\"lastUpdated\":\"2021-02-04 14:00:00+00\",\"parameters\":[\"co\",\"no2\",\"o3\",\"pm10\",\"pm25\",\"so2\"],\"count\":9180,\"cities\":0,\"sources\":2},{\"code\":\"AR\",\"name\":\"Argentina\",\"locations\":17,\"firstUpdated\":\"2016-01-01 03:00:00+00\",\"lastUpdated\":\"2024-06-16 03:00:00+00\",\"parameters\":[\"co\",\"no\",\"no2\",\"nox\",\"o3\",\"pm1\",\"pm10\",\"pm25\",\"relativehumidity\",\"so2\",\"temperature\",\"um003\"],\"count\":295945,\"cities\":1,\"sources\":6},{\"code\":\"AM\",\"name\":\"Armenia\",\"locations\":1,\"firstUpdated\":\"2022-11-14 08:00:00+00\",\"lastUpdated\":\"2023-06-15 11:00:00+00\",\"parameters\":[\"pm25\"],\"count\":1284,\"cities\":1,\"sources\":1},{\"code\":\"AU\",\"name\":\"Australia\",\"locations\":246,\"firstUpdated\":\"2016-01-28 19:00:00+00\",\"lastUpdated\":\"2024-06-16 13:44:19+00\",\"parameters\":[\"co\",\"no2\",\"o3\",\"pm1\",\"pm10\",\"pm25\",\"relativehumidity\",\"so2\",\"temperature\",\"um003\"],\"count\":13974292,\"cities\":56,\"sources\":10},{\"code\":\"AT\",\"name\":\"Austria\",\"locations\":376,\"firstUpdated\":\"2016-11-18 05:00:00+00\",\"lastUpdated\":\"2024-06-16 02:00:00+00\",\"parameters\":[\"co\",\"no\",\"no2\",\"o3\",\"pm1\",\"pm10\",\"pm25\",\"relativehumidity\",\"so2\",\"temperature\",\"um003\"],\"count\":13541765,\"cities\":163,\"sources\":4},{\"code\":\"AZ\",\"name\":\"Azerbaijan\",\"locations\":1,\"firstUpdated\":\"2022-06-23 12:00:00+00\",\"lastUpdated\":\"2024-06-16 01:00:00+00\",\"parameters\":[\"pm25\"],\"count\":13169,\"cities\":1,\"sources\":1},{\"code\":\"BD\",\"name\":\"Bangladesh\",\"locations\":4,\"firstUpdated\":\"2016-03-10 22:00:00+00\",\"lastUpdated\":\"2024-06-16 01:00:00+00\",\"parameters\":[\"co\",\"no2\",\"o3\",\"pm10\",\"pm25\",\"so2\"],\"count\":140373,\"cities\":1,\"sources\":2},{\"code\":\"BE\",\"name\":\"Belgium\",\"locations\":174,\"firstUpdated\":\"2016-01-30 01:00:00+00\",\"lastUpdated\":\"2024-06-16 02:00:00+00\",\"parameters\":[\"co\",\"no\",\"no2\",\"o3\",\"pm1\",\"pm10\",\"pm25\",\"relativehumidity\",\"so2\",\"temperature\",\"um003\"],\"count\":4898111,\"cities\":77,\"sources\":6},{\"code\":\"BZ\",\"name\":\"Belize\",\"locations\":1,\"firstUpdated\":\"2023-03-19 20:00:00+00\",\"lastUpdated\":\"2024-06-16 01:00:00+00\",\"parameters\":[\"pm25\"],\"count\":8184,\"cities\":1,\"sources\":1},{\"code\":\"BA\",\"name\":\"Bosnia and Herz.\",\"locations\":47,\"firstUpdated\":\"2016-04-26 21:30:00+00\",\"lastUpdated\":\"2024-06-16 02:00:00+00\",\"parameters\":[\"co\",\"no2\",\"o3\",\"pm1\",\"pm10\",\"pm25\",\"relativehumidity\",\"so2\",\"temperature\",\"um003\"],\"count\":1381902,\"cities\":23,\"sources\":7},{\"code\":\"BR\",\"name\":\"Brazil\",\"locations\":75,\"firstUpdated\":\"2017-07-01 00:00:00+00\",\"lastUpdated\":\"2024-06-16 01:00:00+00\",\"parameters\":[\"co\",\"humidity\",\"no\",\"no2\",\"nox\",\"o3\",\"pm1\",\"pm10\",\"pm25\",\"pressure\",\"so2\",\"temperature\",\"um003\",\"um005\",\"um010\",\"um025\",\"um050\",\"um100\",\"voc\"],\"count\":3063351,\"cities\":39,\"sources\":5},{\"code\":\"BG\",\"name\":\"Bulgaria\",\"locations\":105,\"firstUpdated\":\"2020-04-20 18:00:00+00\",\"lastUpdated\":\"2024-06-16 02:53:00+00\",\"parameters\":[\"co\",\"humidity\",\"no\",\"no2\",\"o3\",\"pm1\",\"pm10\",\"pm25\",\"pm4\",\"pressure\",\"so2\",\"temperature\"],\"count\":132351417,\"cities\":2,\"sources\":2},{\"code\":\"CA\",\"name\":\"Canada\",\"locations\":368,\"firstUpdated\":\"2016-03-06 19:00:00+00\",\"lastUpdated\":\"2024-06-16 02:07:05.609+00\",\"parameters\":[\"co\",\"no\",\"no2\",\"nox\",\"o3\",\"pm1\",\"pm10\",\"pm25\",\"relativehumidity\",\"so2\",\"temperature\",\"um003\"],\"count\":18671552,\"cities\":18,\"sources\":5},{\"code\":\"TD\",\"name\":\"Chad\",\"locations\":1,\"firstUpdated\":\"2020-08-02 20:00:00+00\",\"lastUpdated\":\"2024-06-16 02:00:00+00\",\"parameters\":[\"pm25\"],\"count\":29398,\"cities\":1,\"sources\":1},{\"code\":\"CL\",\"name\":\"Chile\",\"locations\":154,\"firstUpdated\":\"2016-01-30 01:00:00+00\",\"lastUpdated\":\"2024-06-16 02:00:00+00\",\"parameters\":[\"co\",\"no2\",\"o3\",\"pm1\",\"pm10\",\"pm25\",\"relativehumidity\",\"so2\",\"temperature\",\"um003\"],\"count\":10917908,\"cities\":62,\"sources\":2},{\"code\":\"CN\",\"name\":\"China\",\"locations\":1873,\"firstUpdated\":\"2016-01-01 01:00:00+00\",\"lastUpdated\":\"2024-06-16 02:00:00+00\",\"parameters\":[\"co\",\"no2\",\"o3\",\"pm1\",\"pm10\",\"pm25\",\"relativehumidity\",\"so2\",\"temperature\",\"um003\"],\"count\":170632315,\"cities\":18,\"sources\":19},{\"code\":\"CO\",\"name\":\"Colombia\",\"locations\":60,\"firstUpdated\":\"2016-03-17 15:00:00+00\",\"lastUpdated\":\"2024-06-16 02:05:37.576+00\",\"parameters\":[\"co\",\"no2\",\"o3\",\"pm1\",\"pm10\",\"pm25\",\"relativehumidity\",\"so2\",\"temperature\",\"um003\"],\"count\":2435460,\"cities\":10,\"sources\":5},{\"code\":\"CR\",\"name\":\"Costa Rica\",\"locations\":1,\"firstUpdated\":\"2019-10-28 18:00:00+00\",\"lastUpdated\":\"2024-06-16 02:00:00+00\",\"parameters\":[\"pm25\"],\"count\":33522,\"cities\":1,\"sources\":1},{\"code\":\"CI\",\"name\":\"Côte d'Ivoire\",\"locations\":1,\"firstUpdated\":\"2020-03-15 21:00:00+00\",\"lastUpdated\":\"2024-06-16 02:00:00+00\",\"parameters\":[\"pm25\"],\"count\":30139,\"cities\":1,\"sources\":1},{\"code\":\"HR\",\"name\":\"Croatia\",\"locations\":27,\"firstUpdated\":\"2016-11-17 22:00:00+00\",\"lastUpdated\":\"2024-06-16 02:00:00+00\",\"parameters\":[\"co\",\"no2\",\"o3\",\"pm1\",\"pm10\",\"pm25\",\"relativehumidity\",\"so2\",\"temperature\",\"um003\"],\"count\":1511399,\"cities\":16,\"sources\":3},{\"code\":\"CY\",\"name\":\"Cyprus\",\"locations\":11,\"firstUpdated\":\"2020-04-20 16:00:00+00\",\"lastUpdated\":\"2024-06-16 02:00:00+00\",\"parameters\":[\"co\",\"no\",\"no2\",\"nox\",\"o3\",\"pm10\",\"pm25\",\"so2\"],\"count\":673825,\"cities\":11,\"sources\":2},{\"code\":\"CZ\",\"name\":\"Czechia\",\"locations\":125,\"firstUpdated\":\"2016-11-21 11:00:00+00\",\"lastUpdated\":\"2024-06-16 02:00:00+00\",\"parameters\":[\"co\",\"no\",\"no2\",\"o3\",\"pm1\",\"pm10\",\"pm25\",\"relativehumidity\",\"so2\",\"temperature\",\"um003\"],\"count\":11889565,\"cities\":72,\"sources\":4},{\"code\":\"CD\",\"name\":\"Dem. Rep. Congo\",\"locations\":1,\"firstUpdated\":\"2022-06-16 16:00:00+00\",\"lastUpdated\":\"2024-05-31 10:00:00+00\",\"parameters\":[\"pm25\"],\"count\":3812,\"cities\":1,\"sources\":1},{\"code\":\"DK\",\"name\":\"Denmark\",\"locations\":15,\"firstUpdated\":\"2016-11-21 11:00:00+00\",\"lastUpdated\":\"2024-06-16 01:00:00+00\",\"parameters\":[\"co\",\"no\",\"no2\",\"o3\",\"pm10\",\"pm25\",\"so2\",\"temperature\"],\"count\":1053342,\"cities\":9,\"sources\":3},{\"code\":\"EC\",\"name\":\"Ecuador\",\"locations\":10,\"firstUpdated\":\"2020-12-29 05:00:00+00\",\"lastUpdated\":\"2024-06-16 02:00:00+00\",\"parameters\":[\"co\",\"no2\",\"o3\",\"pm1\",\"pm10\",\"pm25\",\"relativehumidity\",\"so2\",\"temperature\",\"um003\"],\"count\":97765,\"cities\":0,\"sources\":2},{\"code\":\"EG\",\"name\":\"Egypt\",\"locations\":2,\"firstUpdated\":\"2022-06-20 18:00:00+00\",\"lastUpdated\":\"2024-06-16 01:00:00+00\",\"parameters\":[\"pm25\"],\"count\":11240,\"cities\":1,\"sources\":1},{\"code\":\"EE\",\"name\":\"Estonia\",\"locations\":7,\"firstUpdated\":\"2020-04-20 20:00:00+00\",\"lastUpdated\":\"2024-06-16 01:00:00+00\",\"parameters\":[\"co\",\"no2\",\"o3\",\"pm10\",\"pm25\",\"so2\"],\"count\":265560,\"cities\":5,\"sources\":1},{\"code\":\"ET\",\"name\":\"Ethiopia\",\"locations\":3,\"firstUpdated\":\"2016-08-18 22:00:00+00\",\"lastUpdated\":\"2024-06-16 02:00:00+00\",\"parameters\":[\"pm25\"],\"count\":114404,\"cities\":2,\"sources\":3},{\"code\":\"FI\",\"name\":\"Finland\",\"locations\":81,\"firstUpdated\":\"2016-12-10 19:00:00+00\",\"lastUpdated\":\"2024-06-16 01:00:00+00\",\"parameters\":[\"no2\",\"o3\",\"pm10\",\"pm25\",\"so2\"],\"count\":4480221,\"cities\":32,\"sources\":2},{\"code\":\"FR\",\"name\":\"France\",\"locations\":793,\"firstUpdated\":\"2016-11-17 23:00:00+00\",\"lastUpdated\":\"2024-06-16 02:02:11.651+00\",\"parameters\":[\"co\",\"humidity\",\"no\",\"no2\",\"o3\",\"pm1\",\"pm10\",\"pm25\",\"pressure\",\"relativehumidity\",\"so2\",\"temperature\",\"um003\",\"um005\",\"um010\",\"um025\",\"um050\",\"um100\"],\"count\":46409774,\"cities\":418,\"sources\":8},{\"code\":\"GA\",\"name\":\"Gabon\",\"locations\":1,\"firstUpdated\":\"2021-10-06 12:00:00+00\",\"lastUpdated\":\"2022-02-27 19:00:00+00\",\"parameters\":[\"pm25\"],\"count\":2828,\"cities\":0,\"sources\":1},{\"code\":\"GM\",\"name\":\"Gambia\",\"locations\":1,\"firstUpdated\":\"2022-10-20 01:00:00+00\",\"lastUpdated\":\"2023-09-15 23:03:55.489+00\",\"parameters\":[\"no2\",\"pm1\",\"pm10\",\"pm25\"],\"count\":12354,\"cities\":0,\"sources\":1},{\"code\":\"DE\",\"name\":\"Germany\",\"locations\":514,\"firstUpdated\":\"2016-01-30 01:00:00+00\",\"lastUpdated\":\"2024-06-16 02:00:00+00\",\"parameters\":[\"co\",\"no\",\"no2\",\"o3\",\"pm1\",\"pm10\",\"pm25\",\"relativehumidity\",\"so2\",\"temperature\",\"um003\"],\"count\":24564059,\"cities\":291,\"sources\":5},{\"code\":\"GH\",\"name\":\"Ghana\",\"locations\":12,\"firstUpdated\":\"2020-05-01 01:00:00+00\",\"lastUpdated\":\"2024-06-16 02:00:00+00\",\"parameters\":[\"no2\",\"pm1\",\"pm10\",\"pm25\",\"relativehumidity\",\"temperature\",\"um003\"],\"count\":1180096,\"cities\":1,\"sources\":3},{\"code\":\"GR\",\"name\":\"Greece\",\"locations\":52,\"firstUpdated\":\"2020-04-20 18:00:00+00\",\"lastUpdated\":\"2024-06-16 02:53:00+00\",\"parameters\":[\"co\",\"humidity\",\"no\",\"no2\",\"o3\",\"pm1\",\"pm10\",\"pm25\",\"pm4\",\"pressure\",\"so2\",\"temperature\"],\"count\":7728315,\"cities\":8,\"sources\":3},{\"code\":\"GT\",\"name\":\"Guatemala\",\"locations\":2,\"firstUpdated\":\"2019-10-20 21:00:00+00\",\"lastUpdated\":\"2024-06-16 02:00:00+00\",\"parameters\":[\"o3\",\"pm10\",\"pm25\"],\"count\":97591,\"cities\":2,\"sources\":2},{\"code\":\"GN\",\"name\":\"Guinea\",\"locations\":1,\"firstUpdated\":\"2020-05-01 02:00:00+00\",\"lastUpdated\":\"2024-06-16 02:00:00+00\",\"parameters\":[\"pm25\"],\"count\":28806,\"cities\":1,\"sources\":1},{\"code\":\"HU\",\"name\":\"Hungary\",\"locations\":97,\"firstUpdated\":\"2016-12-12 14:00:00+00\",\"lastUpdated\":\"2024-06-16 16:00:00+00\",\"parameters\":[\"co\",\"no2\",\"o3\",\"pm1\",\"pm10\",\"pm25\",\"relativehumidity\",\"so2\",\"temperature\",\"um003\"],\"count\":5821330,\"cities\":64,\"sources\":3},{\"code\":\"IS\",\"name\":\"Iceland\",\"locations\":24,\"firstUpdated\":\"2020-02-28 01:00:00+00\",\"lastUpdated\":\"2024-06-16 02:00:00+00\",\"parameters\":[\"co\",\"no\",\"no2\",\"o3\",\"pm1\",\"pm10\",\"pm25\",\"relativehumidity\",\"so2\",\"temperature\",\"um003\"],\"count\":852044,\"cities\":8,\"sources\":3},{\"code\":\"IN\",\"name\":\"India\",\"locations\":421,\"firstUpdated\":\"2016-01-30 00:30:00+00\",\"lastUpdated\":\"2024-06-16 02:00:00+00\",\"parameters\":[\"co\",\"no2\",\"o3\",\"pm1\",\"pm10\",\"pm25\",\"relativehumidity\",\"so2\",\"temperature\",\"um003\"],\"count\":42143851,\"cities\":6,\"sources\":10},{\"code\":\"ID\",\"name\":\"Indonesia\",\"locations\":12,\"firstUpdated\":\"2016-01-30 01:00:00+00\",\"lastUpdated\":\"2024-06-16 02:05:53.135+00\",\"parameters\":[\"o3\",\"pm1\",\"pm10\",\"pm25\",\"relativehumidity\",\"temperature\",\"um003\"],\"count\":146394,\"cities\":2,\"sources\":6},{\"code\":\"IQ\",\"name\":\"Iraq\",\"locations\":5,\"firstUpdated\":\"2019-03-10 16:00:00+00\",\"lastUpdated\":\"2024-06-16 02:00:00+00\",\"parameters\":[\"co\",\"no2\",\"o3\",\"pm10\",\"pm25\",\"so2\"],\"count\":71864,\"cities\":3,\"sources\":3},{\"code\":\"IE\",\"name\":\"Ireland\",\"locations\":45,\"firstUpdated\":\"2016-02-27 21:00:00+00\",\"lastUpdated\":\"2024-06-16 02:00:00+00\",\"parameters\":[\"co\",\"no2\",\"o3\",\"pm1\",\"pm10\",\"pm25\",\"relativehumidity\",\"so2\",\"temperature\",\"um003\"],\"count\":1717603,\"cities\":5,\"sources\":4},{\"code\":\"IL\",\"name\":\"Israel\",\"locations\":111,\"firstUpdated\":\"2016-01-01 01:00:00+00\",\"lastUpdated\":\"2021-11-19 09:00:00+00\",\"parameters\":[\"co\",\"no2\",\"o3\",\"pm25\",\"so2\"],\"count\":19575369,\"cities\":1,\"sources\":2},{\"code\":\"IT\",\"name\":\"Italy\",\"locations\":746,\"firstUpdated\":\"2016-11-21 12:00:00+00\",\"lastUpdated\":\"2024-06-16 02:00:00+00\",\"parameters\":[\"co\",\"no\",\"no2\",\"nox\",\"o3\",\"pm1\",\"pm10\",\"pm25\",\"relativehumidity\",\"so2\",\"temperature\",\"um003\"],\"count\":25840999,\"cities\":579,\"sources\":8},{\"code\":\"JP\",\"name\":\"Japan\",\"locations\":1540,\"firstUpdated\":\"2023-07-14 17:00:00+00\",\"lastUpdated\":\"2024-06-16 01:00:00+00\",\"parameters\":[\"co\",\"no\",\"no2\",\"nox\",\"pm25\",\"so2\",\"temperature\"],\"count\":39858083,\"cities\":1,\"sources\":3},{\"code\":\"JO\",\"name\":\"Jordan\",\"locations\":5,\"firstUpdated\":\"2017-08-10 23:00:00+00\",\"lastUpdated\":\"2024-06-16 02:00:00+00\",\"parameters\":[\"co\",\"no2\",\"o3\",\"pm25\",\"so2\"],\"count\":649552,\"cities\":2,\"sources\":3},{\"code\":\"KZ\",\"name\":\"Kazakhstan\",\"locations\":40,\"firstUpdated\":\"2018-07-27 16:00:00+00\",\"lastUpdated\":\"2024-06-16 02:06:59.407+00\",\"parameters\":[\"pm1\",\"pm10\",\"pm25\",\"relativehumidity\",\"temperature\",\"um003\"],\"count\":184498,\"cities\":2,\"sources\":4},{\"code\":\"KE\",\"name\":\"Kenya\",\"locations\":6,\"firstUpdated\":\"2018-04-21 00:00:00+00\",\"lastUpdated\":\"2024-06-16 02:00:39.01+00\",\"parameters\":[\"pm1\",\"pm10\",\"pm25\",\"relativehumidity\",\"temperature\",\"um003\"],\"count\":23346,\"cities\":1,\"sources\":4},{\"code\":\"XK\",\"name\":\"Kosovo\",\"locations\":24,\"firstUpdated\":\"2016-04-08 20:00:00+00\",\"lastUpdated\":\"2024-06-16 02:00:00+00\",\"parameters\":[\"co\",\"no2\",\"o3\",\"pm10\",\"pm25\",\"so2\"],\"count\":628628,\"cities\":12,\"sources\":4},{\"code\":\"KW\",\"name\":\"Kuwait\",\"locations\":1,\"firstUpdated\":\"2017-02-17 21:00:00+00\",\"lastUpdated\":\"2024-06-16 02:00:00+00\",\"parameters\":[\"pm25\"],\"count\":55283,\"cities\":1,\"sources\":1},{\"code\":\"KG\",\"name\":\"Kyrgyzstan\",\"locations\":47,\"firstUpdated\":\"2019-03-08 20:00:00+00\",\"lastUpdated\":\"2024-06-16 02:06:58.337+00\",\"parameters\":[\"pm1\",\"pm10\",\"pm25\",\"relativehumidity\",\"temperature\",\"um003\"],\"count\":228119,\"cities\":2,\"sources\":4},{\"code\":\"LA\",\"name\":\"Laos\",\"locations\":9,\"firstUpdated\":\"2021-04-29 19:00:00+00\",\"lastUpdated\":\"2024-06-16 02:00:00+00\",\"parameters\":[\"co\",\"no2\",\"o3\",\"pm1\",\"pm10\",\"pm25\",\"relativehumidity\",\"so2\",\"temperature\",\"um003\"],\"count\":232642,\"cities\":4,\"sources\":3},{\"code\":\"LV\",\"name\":\"Latvia\",\"locations\":13,\"firstUpdated\":\"2017-09-22 10:00:00+00\",\"lastUpdated\":\"2024-06-16 01:00:00+00\",\"parameters\":[\"co\",\"no2\",\"o3\",\"pm10\",\"pm25\",\"so2\"],\"count\":440760,\"cities\":5,\"sources\":2},{\"code\":\"LT\",\"name\":\"Lithuania\",\"locations\":17,\"firstUpdated\":\"2017-09-21 23:00:00+00\",\"lastUpdated\":\"2024-06-16 02:00:00+00\",\"parameters\":[\"co\",\"no2\",\"o3\",\"pm1\",\"pm10\",\"pm25\",\"relativehumidity\",\"so2\",\"temperature\",\"um003\"],\"count\":941605,\"cities\":13,\"sources\":2},{\"code\":\"LU\",\"name\":\"Luxembourg\",\"locations\":12,\"firstUpdated\":\"2017-09-22 10:00:00+00\",\"lastUpdated\":\"2024-06-15 23:00:00+00\",\"parameters\":[\"co\",\"no\",\"no2\",\"o3\",\"pm10\",\"pm25\",\"so2\"],\"count\":875345,\"cities\":1,\"sources\":2},{\"code\":\"MK\",\"name\":\"Macedonia\",\"locations\":28,\"firstUpdated\":\"2016-12-10 20:00:00+00\",\"lastUpdated\":\"2024-06-16 01:00:00+00\",\"parameters\":[\"co\",\"no\",\"no2\",\"o3\",\"pm10\",\"pm25\",\"so2\"],\"count\":2996803,\"cities\":6,\"sources\":2},{\"code\":\"MG\",\"name\":\"Madagascar\",\"locations\":1,\"firstUpdated\":\"2020-12-22 06:00:00+00\",\"lastUpdated\":\"2024-06-16 01:00:00+00\",\"parameters\":[\"pm25\"],\"count\":22260,\"cities\":1,\"sources\":1},{\"code\":\"MY\",\"name\":\"Malaysia\",\"locations\":11,\"firstUpdated\":\"2016-04-05 09:00:00+00\",\"lastUpdated\":\"2024-06-16 02:00:00+00\",\"parameters\":[\"pm1\",\"pm10\",\"pm25\",\"relativehumidity\",\"temperature\",\"um003\"],\"count\":119596,\"cities\":4,\"sources\":4},{\"code\":\"ML\",\"name\":\"Mali\",\"locations\":1,\"firstUpdated\":\"2020-03-16 05:00:00+00\",\"lastUpdated\":\"2024-06-16 02:00:00+00\",\"parameters\":[\"pm25\"],\"count\":25880,\"cities\":1,\"sources\":1},{\"code\":\"MX\",\"name\":\"Mexico\",\"locations\":237,\"firstUpdated\":\"2016-03-06 19:00:00+00\",\"lastUpdated\":\"2024-06-16 02:00:00+00\",\"parameters\":[\"co\",\"no\",\"no2\",\"nox\",\"o3\",\"pm1\",\"pm10\",\"pm25\",\"relativehumidity\",\"so2\",\"temperature\",\"um003\"],\"count\":10911360,\"cities\":112,\"sources\":4},{\"code\":\"MD\",\"name\":\"Moldova\",\"locations\":2,\"firstUpdated\":\"2020-04-20 19:00:00+00\",\"lastUpdated\":\"2024-06-16 01:00:00+00\",\"parameters\":[\"no2\",\"pm10\",\"pm25\",\"so2\"],\"count\":36477,\"cities\":2,\"sources\":2},{\"code\":\"MN\",\"name\":\"Mongolia\",\"locations\":44,\"firstUpdated\":\"2016-01-30 00:15:00+00\",\"lastUpdated\":\"2024-06-16 02:00:00+00\",\"parameters\":[\"co\",\"no2\",\"o3\",\"pm10\",\"pm25\",\"so2\"],\"count\":2359328,\"cities\":22,\"sources\":3},{\"code\":\"ME\",\"name\":\"Montenegro\",\"locations\":9,\"firstUpdated\":\"2022-03-24 14:00:00+00\",\"lastUpdated\":\"2024-03-19 22:00:00+00\",\"parameters\":[\"co\",\"no2\",\"o3\",\"pm10\",\"pm25\",\"so2\"],\"count\":273080,\"cities\":7,\"sources\":1},{\"code\":\"MA\",\"name\":\"Morocco\",\"locations\":2,\"firstUpdated\":\"2024-04-04 10:00:00+00\",\"lastUpdated\":\"2024-06-16 02:00:00+00\",\"parameters\":[\"pm1\",\"pm10\",\"pm25\",\"relativehumidity\",\"temperature\",\"um003\"],\"count\":12168,\"cities\":0,\"sources\":1},{\"code\":\"MZ\",\"name\":\"Mozambique\",\"locations\":1,\"firstUpdated\":\"2024-01-18 18:00:00+00\",\"lastUpdated\":\"2024-01-22 16:00:00+00\",\"parameters\":[\"o3\",\"pm25\"],\"count\":137,\"cities\":1,\"sources\":1},{\"code\":\"MM\",\"name\":\"Myanmar\",\"locations\":5,\"firstUpdated\":\"2016-01-30 01:00:00+00\",\"lastUpdated\":\"2024-06-16 02:00:00+00\",\"parameters\":[\"co\",\"no2\",\"o3\",\"pm1\",\"pm10\",\"pm25\",\"relativehumidity\",\"so2\",\"temperature\",\"um003\"],\"count\":323705,\"cities\":3,\"sources\":4},{\"code\":\"NP\",\"name\":\"Nepal\",\"locations\":4,\"firstUpdated\":\"2017-03-02 23:15:00+00\",\"lastUpdated\":\"2024-06-16 02:15:00+00\",\"parameters\":[\"o3\",\"pm1\",\"pm10\",\"pm25\",\"relativehumidity\",\"temperature\",\"um003\"],\"count\":225925,\"cities\":1,\"sources\":3},{\"code\":\"NL\",\"name\":\"Netherlands\",\"locations\":99,\"firstUpdated\":\"2016-01-30 01:00:00+00\",\"lastUpdated\":\"2024-06-16 02:00:00+00\",\"parameters\":[\"co\",\"no\",\"no2\",\"o3\",\"pm1\",\"pm10\",\"pm25\",\"relativehumidity\",\"so2\",\"temperature\",\"um003\"],\"count\":13189371,\"cities\":50,\"sources\":4},{\"code\":\"NZ\",\"name\":\"New Zealand\",\"locations\":12,\"firstUpdated\":\"2023-03-31 15:00:00+00\",\"lastUpdated\":\"2024-06-16 02:00:00+00\",\"parameters\":[\"co\",\"no\",\"no2\",\"pm1\",\"pm10\",\"pm25\",\"relativehumidity\",\"so2\",\"temperature\",\"um003\"],\"count\":109491,\"cities\":8,\"sources\":2},{\"code\":\"NG\",\"name\":\"Nigeria\",\"locations\":5,\"firstUpdated\":\"2019-04-26 08:00:00+00\",\"lastUpdated\":\"2024-06-16 02:05:53.575+00\",\"parameters\":[\"pm25\"],\"count\":25861,\"cities\":2,\"sources\":3},{\"code\":\"KP\",\"name\":\"North Korea\",\"locations\":4,\"firstUpdated\":\"2024-03-20 08:00:00+00\",\"lastUpdated\":\"2024-06-16 01:00:00+00\",\"parameters\":[\"co\",\"no2\",\"o3\",\"pm10\",\"pm25\",\"so2\"],\"count\":35571,\"cities\":1,\"sources\":1},{\"code\":\"NO\",\"name\":\"Norway\",\"locations\":357,\"firstUpdated\":\"2016-12-02 10:00:00+00\",\"lastUpdated\":\"2024-06-16 02:53:00+00\",\"parameters\":[\"bc\",\"co\",\"co2\",\"humidity\",\"no\",\"no2\",\"o3\",\"pm1\",\"pm10\",\"pm25\",\"pm4\",\"pressure\",\"relativehumidity\",\"so2\",\"temperature\",\"um003\",\"um005\",\"um010\",\"um025\",\"um050\",\"um100\"],\"count\":36427057,\"cities\":27,\"sources\":5},{\"code\":\"PK\",\"name\":\"Pakistan\",\"locations\":6,\"firstUpdated\":\"2019-05-22 22:00:00+00\",\"lastUpdated\":\"2024-06-16 02:03:25.982+00\",\"parameters\":[\"pm25\"],\"count\":171080,\"cities\":5,\"sources\":6},{\"code\":\"PS\",\"name\":\"Palestine\",\"locations\":9,\"firstUpdated\":\"2017-08-10 23:00:00+00\",\"lastUpdated\":\"2019-04-03 21:00:00+00\",\"parameters\":[\"co\",\"no2\",\"o3\",\"so2\"],\"count\":1449100,\"cities\":0,\"sources\":1},{\"code\":\"PY\",\"name\":\"Paraguay\",\"locations\":1,\"firstUpdated\":\"2023-10-02 19:00:00+00\",\"lastUpdated\":\"2024-06-16 01:00:00+00\",\"parameters\":[\"pm25\"],\"count\":5432,\"cities\":1,\"sources\":1},{\"code\":\"PE\",\"name\":\"Peru\",\"locations\":48,\"firstUpdated\":\"2016-03-04 17:00:00+00\",\"lastUpdated\":\"2024-06-16 02:00:00+00\",\"parameters\":[\"co\",\"no2\",\"o3\",\"pm1\",\"pm10\",\"pm25\",\"relativehumidity\",\"so2\",\"temperature\",\"um003\"],\"count\":2645659,\"cities\":22,\"sources\":5},{\"code\":\"PH\",\"name\":\"Philippines\",\"locations\":6,\"firstUpdated\":\"2023-09-06 20:00:00+00\",\"lastUpdated\":\"2024-06-16 02:00:00+00\",\"parameters\":[\"pm1\",\"pm10\",\"pm25\",\"relativehumidity\",\"temperature\",\"um003\"],\"count\":16301,\"cities\":1,\"sources\":3},{\"code\":\"PL\",\"name\":\"Poland\",\"locations\":331,\"firstUpdated\":\"2016-01-30 01:00:00+00\",\"lastUpdated\":\"2024-06-16 02:00:00+00\",\"parameters\":[\"bc\",\"co\",\"no\",\"no2\",\"o3\",\"pm1\",\"pm10\",\"pm25\",\"relativehumidity\",\"so2\",\"temperature\",\"um003\"],\"count\":26075215,\"cities\":197,\"sources\":5},{\"code\":\"PT\",\"name\":\"Portugal\",\"locations\":70,\"firstUpdated\":\"2017-05-11 08:00:00+00\",\"lastUpdated\":\"2024-06-16 02:00:00+00\",\"parameters\":[\"co\",\"no\",\"no2\",\"o3\",\"pm1\",\"pm10\",\"pm25\",\"relativehumidity\",\"so2\",\"temperature\",\"um003\"],\"count\":6917743,\"cities\":8,\"sources\":3},{\"code\":\"PR\",\"name\":\"Puerto Rico\",\"locations\":5,\"firstUpdated\":\"2016-05-04 11:00:00+00\",\"lastUpdated\":\"2024-06-16 01:00:00+00\",\"parameters\":[\"o3\",\"pm10\",\"pm25\"],\"count\":100576,\"cities\":2,\"sources\":1},{\"code\":\"QA\",\"name\":\"Qatar\",\"locations\":1,\"firstUpdated\":\"2022-04-11 14:00:00+00\",\"lastUpdated\":\"2024-06-16 01:00:00+00\",\"parameters\":[\"o3\",\"pm25\"],\"count\":16723,\"cities\":1,\"sources\":1},{\"code\":\"RO\",\"name\":\"Romania\",\"locations\":318,\"firstUpdated\":\"2020-04-19 21:00:00+00\",\"lastUpdated\":\"2024-06-16 02:00:00+00\",\"parameters\":[\"co\",\"no2\",\"o3\",\"pm1\",\"pm10\",\"pm25\",\"relativehumidity\",\"so2\",\"temperature\",\"um003\"],\"count\":5384652,\"cities\":109,\"sources\":4},{\"code\":\"RU\",\"name\":\"Russia\",\"locations\":55,\"firstUpdated\":\"2016-11-21 11:00:00+00\",\"lastUpdated\":\"2024-06-16 02:00:00+00\",\"parameters\":[\"co\",\"no2\",\"o3\",\"pm1\",\"pm10\",\"pm25\",\"relativehumidity\",\"so2\",\"temperature\",\"um003\"],\"count\":562715,\"cities\":2,\"sources\":6},{\"code\":\"RW\",\"name\":\"Rwanda\",\"locations\":2,\"firstUpdated\":\"2020-12-28 22:45:00+00\",\"lastUpdated\":\"2024-05-14 00:00:00+00\",\"parameters\":[\"co\",\"no2\",\"pm10\",\"pm25\"],\"count\":126004,\"cities\":1,\"sources\":2},{\"code\":\"SA\",\"name\":\"Saudi Arabia\",\"locations\":5,\"firstUpdated\":\"2019-07-15 19:00:00+00\",\"lastUpdated\":\"2024-06-03 10:00:00+00\",\"parameters\":[\"co\",\"no2\",\"pm10\",\"pm25\",\"so2\"],\"count\":21348,\"cities\":3,\"sources\":3},{\"code\":\"SN\",\"name\":\"Senegal\",\"locations\":1,\"firstUpdated\":\"2023-09-05 08:00:00+00\",\"lastUpdated\":\"2024-06-12 00:00:00+00\",\"parameters\":[\"pm1\",\"pm10\",\"pm25\",\"relativehumidity\",\"temperature\",\"um003\"],\"count\":8804,\"cities\":0,\"sources\":1},{\"code\":\"RS\",\"name\":\"Serbia\",\"locations\":85,\"firstUpdated\":\"2017-09-22 09:00:00+00\",\"lastUpdated\":\"2024-06-16 02:00:00+00\",\"parameters\":[\"co\",\"no2\",\"o3\",\"pm10\",\"pm25\",\"so2\",\"temperature\"],\"count\":3427663,\"cities\":43,\"sources\":5},{\"code\":\"SK\",\"name\":\"Slovakia\",\"locations\":85,\"firstUpdated\":\"2016-11-18 05:00:00+00\",\"lastUpdated\":\"2024-06-16 01:00:00+00\",\"parameters\":[\"co\",\"no\",\"no2\",\"o3\",\"pm10\",\"pm25\",\"so2\"],\"count\":5987502,\"cities\":58,\"sources\":3},{\"code\":\"SI\",\"name\":\"Slovenia\",\"locations\":39,\"firstUpdated\":\"2016-11-17 22:00:00+00\",\"lastUpdated\":\"2024-06-16 02:00:00+00\",\"parameters\":[\"no2\",\"o3\",\"pm1\",\"pm10\",\"pm25\",\"relativehumidity\",\"so2\",\"temperature\",\"um003\"],\"count\":814604,\"cities\":26,\"sources\":3},{\"code\":\"ZA\",\"name\":\"South Africa\",\"locations\":200,\"firstUpdated\":\"2016-02-14 08:00:00+00\",\"lastUpdated\":\"2024-06-16 02:00:00+00\",\"parameters\":[\"co\",\"no\",\"no2\",\"nox\",\"o3\",\"pm1\",\"pm10\",\"pm25\",\"relativehumidity\",\"so2\",\"temperature\",\"um003\"],\"count\":4712329,\"cities\":36,\"sources\":4},{\"code\":\"KR\",\"name\":\"South Korea\",\"locations\":687,\"firstUpdated\":\"2020-10-12 06:00:00+00\",\"lastUpdated\":\"2024-06-16 02:00:00+00\",\"parameters\":[\"co\",\"no2\",\"o3\",\"pm1\",\"pm10\",\"pm25\",\"relativehumidity\",\"so2\",\"temperature\",\"um003\"],\"count\":7497311,\"cities\":3,\"sources\":3},{\"code\":\"ES\",\"name\":\"Spain\",\"locations\":738,\"firstUpdated\":\"2016-11-17 23:00:00+00\",\"lastUpdated\":\"2024-06-16 02:53:00+00\",\"parameters\":[\"co\",\"humidity\",\"no\",\"no2\",\"nox\",\"o3\",\"pm1\",\"pm10\",\"pm25\",\"pm4\",\"pressure\",\"relativehumidity\",\"so2\",\"temperature\",\"um003\"],\"count\":45574066,\"cities\":351,\"sources\":7},{\"code\":\"LK\",\"name\":\"Sri Lanka\",\"locations\":1,\"firstUpdated\":\"2019-06-25 21:30:00+00\",\"lastUpdated\":\"2024-06-15 02:30:00+00\",\"parameters\":[\"pm25\"],\"count\":22166,\"cities\":1,\"sources\":1},{\"code\":\"SD\",\"name\":\"Sudan\",\"locations\":3,\"firstUpdated\":\"2020-05-14 14:00:00+00\",\"lastUpdated\":\"2023-05-17 13:00:00+00\",\"parameters\":[\"pm25\"],\"count\":54546,\"cities\":2,\"sources\":3},{\"code\":\"SE\",\"name\":\"Sweden\",\"locations\":170,\"firstUpdated\":\"2016-12-02 11:00:00+00\",\"lastUpdated\":\"2024-06-30 23:00:00+00\",\"parameters\":[\"co\",\"no\",\"no2\",\"o3\",\"pm10\",\"pm25\",\"so2\"],\"count\":2605340,\"cities\":53,\"sources\":5},{\"code\":\"CH\",\"name\":\"Switzerland\",\"locations\":51,\"firstUpdated\":\"2016-11-21 12:00:00+00\",\"lastUpdated\":\"2024-06-16 02:00:00+00\",\"parameters\":[\"co\",\"no\",\"no2\",\"o3\",\"pm1\",\"pm10\",\"pm25\",\"relativehumidity\",\"so2\",\"temperature\",\"um003\"],\"count\":3316277,\"cities\":13,\"sources\":3},{\"code\":\"TW\",\"name\":\"Taiwan\",\"locations\":91,\"firstUpdated\":\"2016-12-20 19:00:00+00\",\"lastUpdated\":\"2024-06-16 02:00:00+00\",\"parameters\":[\"co\",\"no2\",\"o3\",\"pm1\",\"pm10\",\"pm25\",\"relativehumidity\",\"so2\",\"temperature\",\"um003\"],\"count\":8526166,\"cities\":17,\"sources\":2}]}\n"
     ]
    }
   ],
   "source": [
    "url = \"https://api.openaq.org/v2/countries\"\n",
    "headers = {\"accept\": \"application/json\"}\n",
    "city_list = requests.get(url, headers=headers)\n",
    "\n",
    "print(city_list.text)"
   ]
  },
  {
   "cell_type": "code",
   "execution_count": 5,
   "metadata": {},
   "outputs": [
    {
     "name": "stdout",
     "output_type": "stream",
     "text": [
      "{\"meta\":{\"name\":\"openaq-api\",\"license\":\"\",\"website\":\"/\",\"page\":1,\"limit\":100,\"found\":4373},\"results\":[{\"country\":\"DK\",\"city\":\" \",\"count\":23688,\"locations\":1,\"firstUpdated\":\"2017-11-09 23:00:00+00\",\"lastUpdated\":\"2024-04-05 08:00:00+00\",\"parameters\":[\"no2\"]},{\"country\":\"JP\",\"city\":\" \",\"count\":39853907,\"locations\":1538,\"firstUpdated\":\"2023-07-14 17:00:00+00\",\"lastUpdated\":\"2024-06-16 01:00:00+00\",\"parameters\":[\"co\",\"no\",\"no2\",\"nox\",\"pm25\",\"so2\"]},{\"country\":\"KP\",\"city\":\" \",\"count\":35571,\"locations\":4,\"firstUpdated\":\"2024-03-20 08:00:00+00\",\"lastUpdated\":\"2024-06-16 01:00:00+00\",\"parameters\":[\"co\",\"no2\",\"o3\",\"pm10\",\"pm25\",\"so2\"]},{\"country\":\"KR\",\"city\":\" \",\"count\":7477771,\"locations\":683,\"firstUpdated\":\"2024-03-20 08:00:00+00\",\"lastUpdated\":\"2024-06-16 01:00:00+00\",\"parameters\":[\"co\",\"no2\",\"o3\",\"pm10\",\"pm25\",\"so2\"]},{\"country\":\"TT\",\"city\":\" \",\"count\":4001,\"locations\":1,\"firstUpdated\":\"2024-03-20 01:00:00+00\",\"lastUpdated\":\"2024-06-12 14:00:00+00\",\"parameters\":[\"co\",\"pm10\",\"pm25\"]},{\"country\":\"US\",\"city\":\"007\",\"count\":19345,\"locations\":3,\"firstUpdated\":\"2021-08-12 16:00:00+00\",\"lastUpdated\":\"2023-12-07 11:00:00+00\",\"parameters\":[\"pm25\"]},{\"country\":\"US\",\"city\":\"015\",\"count\":1025,\"locations\":1,\"firstUpdated\":\"2023-07-20 15:00:00+00\",\"lastUpdated\":\"2023-09-11 21:00:00+00\",\"parameters\":[\"pm25\"]},{\"country\":\"US\",\"city\":\"039\",\"count\":2591,\"locations\":1,\"firstUpdated\":\"2023-07-28 20:00:00+00\",\"lastUpdated\":\"2023-12-07 17:00:00+00\",\"parameters\":[\"pm25\"]},{\"country\":\"US\",\"city\":\"047\",\"count\":3844,\"locations\":3,\"firstUpdated\":\"2023-08-24 18:00:00+00\",\"lastUpdated\":\"2023-12-04 17:00:00+00\",\"parameters\":[\"pm25\"]},{\"country\":\"US\",\"city\":\"063\",\"count\":1287,\"locations\":1,\"firstUpdated\":\"2024-04-05 17:00:00+00\",\"lastUpdated\":\"2024-05-30 21:00:00+00\",\"parameters\":[\"pm25\"]},{\"country\":\"AT\",\"city\":\"1010 Wien, Stephansplatz 1\",\"count\":95670,\"locations\":1,\"firstUpdated\":\"2017-02-18 07:00:00+00\",\"lastUpdated\":\"2024-06-15 20:00:00+00\",\"parameters\":[\"no\",\"no2\",\"o3\",\"so2\"]},{\"country\":\"AT\",\"city\":\"1020 Wien\",\"count\":261296,\"locations\":2,\"firstUpdated\":\"2016-11-18 05:00:00+00\",\"lastUpdated\":\"2024-06-15 20:00:00+00\",\"parameters\":[\"co\",\"no2\",\"pm10\",\"pm25\",\"so2\"]},{\"country\":\"AT\",\"city\":\"1070 Wien\",\"count\":386,\"locations\":1,\"firstUpdated\":\"2024-05-29 08:00:00+00\",\"lastUpdated\":\"2024-06-15 20:00:00+00\",\"parameters\":[\"no2\",\"so2\"]},{\"country\":\"AT\",\"city\":\"1090 Wien\",\"count\":6012,\"locations\":1,\"firstUpdated\":\"2024-01-28 23:00:00+00\",\"lastUpdated\":\"2024-06-15 20:00:00+00\",\"parameters\":[\"no2\",\"pm10\",\"pm25\"]},{\"country\":\"AT\",\"city\":\"1100 Wien\",\"count\":24360,\"locations\":1,\"firstUpdated\":\"2023-05-06 00:00:00+00\",\"lastUpdated\":\"2024-06-15 20:00:00+00\",\"parameters\":[\"no2\",\"pm10\",\"pm25\"]},{\"country\":\"AT\",\"city\":\"1110 Wien\",\"count\":108985,\"locations\":1,\"firstUpdated\":\"2017-02-18 07:00:00+00\",\"lastUpdated\":\"2024-06-15 20:00:00+00\",\"parameters\":[\"no2\",\"pm10\",\"pm25\",\"so2\"]},{\"country\":\"AT\",\"city\":\"1120 Wien\",\"count\":88161,\"locations\":1,\"firstUpdated\":\"2017-02-18 07:00:00+00\",\"lastUpdated\":\"2024-06-15 20:00:00+00\",\"parameters\":[\"no2\",\"pm10\",\"pm25\"]},{\"country\":\"AT\",\"city\":\"1130 Wien\",\"count\":58516,\"locations\":1,\"firstUpdated\":\"2017-01-11 13:00:00+00\",\"lastUpdated\":\"2024-06-15 20:00:00+00\",\"parameters\":[\"co\",\"no2\"]},{\"country\":\"AT\",\"city\":\"1160 Wien\",\"count\":88373,\"locations\":1,\"firstUpdated\":\"2017-02-18 07:00:00+00\",\"lastUpdated\":\"2024-06-15 20:00:00+00\",\"parameters\":[\"no2\",\"pm10\",\"pm25\"]},{\"country\":\"AT\",\"city\":\"1180 Wien\",\"count\":117663,\"locations\":1,\"firstUpdated\":\"2017-02-18 07:00:00+00\",\"lastUpdated\":\"2024-06-15 20:00:00+00\",\"parameters\":[\"no2\",\"pm10\",\"pm25\",\"so2\"]},{\"country\":\"AT\",\"city\":\"1190 Wien\",\"count\":164276,\"locations\":2,\"firstUpdated\":\"2017-02-18 07:00:00+00\",\"lastUpdated\":\"2024-06-15 20:00:00+00\",\"parameters\":[\"no\",\"no2\",\"o3\",\"so2\"]},{\"country\":\"AT\",\"city\":\"1210 Wien\",\"count\":88338,\"locations\":1,\"firstUpdated\":\"2017-02-18 07:00:00+00\",\"lastUpdated\":\"2024-06-15 20:00:00+00\",\"parameters\":[\"no2\",\"pm10\",\"pm25\"]},{\"country\":\"AT\",\"city\":\"1220 Wien\",\"count\":156226,\"locations\":2,\"firstUpdated\":\"2017-02-18 07:00:00+00\",\"lastUpdated\":\"2024-06-15 20:00:00+00\",\"parameters\":[\"no\",\"no2\",\"o3\",\"pm10\",\"pm25\",\"so2\"]},{\"country\":\"AT\",\"city\":\"1230 Wien\",\"count\":109575,\"locations\":2,\"firstUpdated\":\"2017-02-18 07:00:00+00\",\"lastUpdated\":\"2024-06-15 20:00:00+00\",\"parameters\":[\"no\",\"no2\",\"o3\",\"pm10\",\"pm25\"]},{\"country\":\"AT\",\"city\":\"2000 Stockerau\",\"count\":16211,\"locations\":1,\"firstUpdated\":\"2023-05-06 00:00:00+00\",\"lastUpdated\":\"2024-06-15 20:00:00+00\",\"parameters\":[\"no2\",\"pm10\"]},{\"country\":\"AT\",\"city\":\"2073 Pillersdorf, Gemeinde Zellerndorf\",\"count\":10872,\"locations\":1,\"firstUpdated\":\"2024-01-28 23:00:00+00\",\"lastUpdated\":\"2024-06-15 20:00:00+00\",\"parameters\":[\"no\",\"no2\",\"o3\",\"pm10\",\"pm25\",\"so2\"]},{\"country\":\"AT\",\"city\":\"2120 Wolkersdorf\",\"count\":4767,\"locations\":1,\"firstUpdated\":\"2024-01-28 23:00:00+00\",\"lastUpdated\":\"2024-06-15 20:00:00+00\",\"parameters\":[\"no\",\"no2\",\"o3\"]},{\"country\":\"AT\",\"city\":\"2130 Mistelbach\",\"count\":5977,\"locations\":1,\"firstUpdated\":\"2024-01-28 23:00:00+00\",\"lastUpdated\":\"2024-06-15 20:00:00+00\",\"parameters\":[\"o3\",\"pm10\",\"so2\"]},{\"country\":\"AT\",\"city\":\"2230 Gänserndorf\",\"count\":40830,\"locations\":1,\"firstUpdated\":\"2023-05-06 00:00:00+00\",\"lastUpdated\":\"2024-06-15 20:00:00+00\",\"parameters\":[\"no\",\"no2\",\"o3\",\"pm10\",\"pm25\",\"so2\"]},{\"country\":\"AT\",\"city\":\"2301 Groß-Enzersdorf\",\"count\":7991,\"locations\":1,\"firstUpdated\":\"2024-01-28 23:00:00+00\",\"lastUpdated\":\"2024-06-15 20:00:00+00\",\"parameters\":[\"no2\",\"pm10\",\"pm25\",\"so2\"]},{\"country\":\"AT\",\"city\":\"2320 Schwechat\",\"count\":11717,\"locations\":1,\"firstUpdated\":\"2024-01-28 23:00:00+00\",\"lastUpdated\":\"2024-06-15 20:00:00+00\",\"parameters\":[\"co\",\"no\",\"no2\",\"o3\",\"pm10\",\"pm25\",\"so2\"]},{\"country\":\"AT\",\"city\":\"2325 Himberg\",\"count\":3984,\"locations\":1,\"firstUpdated\":\"2024-01-28 23:00:00+00\",\"lastUpdated\":\"2024-06-15 20:00:00+00\",\"parameters\":[\"o3\",\"pm10\"]},{\"country\":\"AT\",\"city\":\"2331 Vösendorf\",\"count\":2826,\"locations\":1,\"firstUpdated\":\"2024-01-28 23:00:00+00\",\"lastUpdated\":\"2024-06-15 20:00:00+00\",\"parameters\":[\"co\",\"no2\"]},{\"country\":\"AT\",\"city\":\"2340 Mödling\",\"count\":165024,\"locations\":1,\"firstUpdated\":\"2016-11-18 05:00:00+00\",\"lastUpdated\":\"2024-06-15 20:00:00+00\",\"parameters\":[\"co\",\"no\",\"no2\",\"o3\",\"pm10\",\"pm25\",\"so2\"]},{\"country\":\"AT\",\"city\":\"2351 Wiener Neudorf \",\"count\":6016,\"locations\":1,\"firstUpdated\":\"2024-01-28 23:00:00+00\",\"lastUpdated\":\"2024-06-15 20:00:00+00\",\"parameters\":[\"no2\",\"pm10\",\"pm25\"]},{\"country\":\"AT\",\"city\":\"2362 Biedermannsdorf\",\"count\":62273,\"locations\":1,\"firstUpdated\":\"2016-11-18 05:00:00+00\",\"lastUpdated\":\"2024-06-15 20:00:00+00\",\"parameters\":[\"no2\",\"pm10\",\"pm25\"]},{\"country\":\"AT\",\"city\":\"2410 Hainburg an der Donau\",\"count\":10887,\"locations\":1,\"firstUpdated\":\"2024-01-28 23:00:00+00\",\"lastUpdated\":\"2024-06-15 20:00:00+00\",\"parameters\":[\"no\",\"no2\",\"o3\",\"pm10\",\"pm25\",\"so2\"]},{\"country\":\"SK\",\"city\":\"2421 Kittsee\",\"count\":9188,\"locations\":1,\"firstUpdated\":\"2024-01-28 23:00:00+00\",\"lastUpdated\":\"2024-06-15 20:00:00+00\",\"parameters\":[\"no\",\"no2\",\"o3\",\"pm10\",\"so2\"]},{\"country\":\"AT\",\"city\":\"2463 Trauttmannsdorf an der Leitha\",\"count\":6732,\"locations\":1,\"firstUpdated\":\"2024-01-28 23:00:00+00\",\"lastUpdated\":\"2024-06-15 20:00:00+00\",\"parameters\":[\"no\",\"no2\",\"o3\",\"so2\"]},{\"country\":\"AT\",\"city\":\"2533 Klausen-Leopoldsdorf\",\"count\":6744,\"locations\":1,\"firstUpdated\":\"2024-01-28 23:00:00+00\",\"lastUpdated\":\"2024-06-15 20:00:00+00\",\"parameters\":[\"no\",\"no2\",\"o3\",\"so2\"]},{\"country\":\"AT\",\"city\":\"2540 Bad Vöslau\",\"count\":8892,\"locations\":1,\"firstUpdated\":\"2024-01-28 23:00:00+00\",\"lastUpdated\":\"2024-06-15 20:00:00+00\",\"parameters\":[\"no\",\"no2\",\"o3\",\"pm10\",\"pm25\"]},{\"country\":\"AT\",\"city\":\"2650 Payerbach\",\"count\":6769,\"locations\":1,\"firstUpdated\":\"2024-01-28 23:00:00+00\",\"lastUpdated\":\"2024-06-15 20:00:00+00\",\"parameters\":[\"no\",\"no2\",\"o3\",\"so2\"]},{\"country\":\"AT\",\"city\":\"2700 Wiener Neustadt\",\"count\":127553,\"locations\":1,\"firstUpdated\":\"2016-11-18 05:00:00+00\",\"lastUpdated\":\"2024-06-15 20:00:00+00\",\"parameters\":[\"no\",\"no2\",\"o3\",\"pm10\",\"so2\"]},{\"country\":\"AT\",\"city\":\"2811 Wiesmath\",\"count\":29862,\"locations\":1,\"firstUpdated\":\"2016-11-18 05:00:00+00\",\"lastUpdated\":\"2024-06-15 20:00:00+00\",\"parameters\":[\"o3\"]},{\"country\":\"AT\",\"city\":\"3002 Purkersdorf\",\"count\":4709,\"locations\":1,\"firstUpdated\":\"2024-01-28 23:00:00+00\",\"lastUpdated\":\"2024-06-15 20:00:00+00\",\"parameters\":[\"no\",\"no2\",\"o3\"]},{\"country\":\"AT\",\"city\":\"3100 St. Pölten\",\"count\":15458,\"locations\":2,\"firstUpdated\":\"2024-01-28 23:00:00+00\",\"lastUpdated\":\"2024-06-15 20:00:00+00\",\"parameters\":[\"co\",\"no\",\"no2\",\"o3\",\"pm10\",\"pm25\",\"so2\"]},{\"country\":\"AT\",\"city\":\"3111 Gratwein-Straßengel\",\"count\":88830,\"locations\":1,\"firstUpdated\":\"2017-02-18 07:00:00+00\",\"lastUpdated\":\"2024-06-15 20:00:00+00\",\"parameters\":[\"no2\",\"pm10\",\"so2\"]},{\"country\":\"AT\",\"city\":\"3222 Annaberg\",\"count\":1982,\"locations\":1,\"firstUpdated\":\"2024-01-28 23:00:00+00\",\"lastUpdated\":\"2024-06-15 20:00:00+00\",\"parameters\":[\"o3\"]},{\"country\":\"AT\",\"city\":\"3300 Amstetten\",\"count\":8728,\"locations\":1,\"firstUpdated\":\"2024-01-28 23:00:00+00\",\"lastUpdated\":\"2024-06-15 20:00:00+00\",\"parameters\":[\"no\",\"no2\",\"o3\",\"pm10\",\"pm25\"]},{\"country\":\"AT\",\"city\":\"3323 Neustadtl\",\"count\":3921,\"locations\":1,\"firstUpdated\":\"2024-01-28 23:00:00+00\",\"lastUpdated\":\"2024-06-15 20:00:00+00\",\"parameters\":[\"o3\",\"so2\"]},{\"country\":\"AT\",\"city\":\"3331 Kematen an der Ybbs\",\"count\":98159,\"locations\":1,\"firstUpdated\":\"2017-02-18 07:00:00+00\",\"lastUpdated\":\"2024-06-15 20:00:00+00\",\"parameters\":[\"no\",\"no2\",\"o3\",\"pm10\",\"pm25\"]},{\"country\":\"AT\",\"city\":\"3380 Pöchlarn\",\"count\":4724,\"locations\":1,\"firstUpdated\":\"2024-01-28 23:00:00+00\",\"lastUpdated\":\"2024-06-15 20:00:00+00\",\"parameters\":[\"no\",\"no2\",\"o3\"]},{\"country\":\"AT\",\"city\":\"3400 Klosterneuburg\",\"count\":82464,\"locations\":2,\"firstUpdated\":\"2016-11-18 05:00:00+00\",\"lastUpdated\":\"2024-06-15 20:00:00+00\",\"parameters\":[\"no\",\"no2\",\"o3\",\"pm10\",\"pm25\",\"so2\"]},{\"country\":\"AT\",\"city\":\"3430 Tulln\",\"count\":141509,\"locations\":1,\"firstUpdated\":\"2017-02-18 07:00:00+00\",\"lastUpdated\":\"2024-06-15 20:00:00+00\",\"parameters\":[\"no\",\"no2\",\"o3\",\"pm10\",\"pm25\",\"so2\"]},{\"country\":\"AT\",\"city\":\"3435 Zwentendorf\",\"count\":6017,\"locations\":1,\"firstUpdated\":\"2024-01-28 23:00:00+00\",\"lastUpdated\":\"2024-06-15 20:00:00+00\",\"parameters\":[\"no2\",\"pm10\",\"pm25\"]},{\"country\":\"AT\",\"city\":\"3442 Langenrohr\",\"count\":6112,\"locations\":1,\"firstUpdated\":\"2024-01-28 23:00:00+00\",\"lastUpdated\":\"2024-06-15 20:00:00+00\",\"parameters\":[\"no2\",\"pm10\",\"pm25\"]},{\"country\":\"AT\",\"city\":\"3453 Trasdorf\",\"count\":10783,\"locations\":1,\"firstUpdated\":\"2024-01-28 23:00:00+00\",\"lastUpdated\":\"2024-06-15 20:00:00+00\",\"parameters\":[\"no\",\"no2\",\"o3\",\"pm10\",\"pm25\",\"so2\"]},{\"country\":\"AT\",\"city\":\"3500 Krems\",\"count\":124813,\"locations\":1,\"firstUpdated\":\"2017-02-18 07:00:00+00\",\"lastUpdated\":\"2024-06-15 20:00:00+00\",\"parameters\":[\"no\",\"no2\",\"o3\",\"pm10\",\"so2\"]},{\"country\":\"AT\",\"city\":\"3512 Bergern im Dunkelsteinerwald\",\"count\":6716,\"locations\":1,\"firstUpdated\":\"2024-01-28 23:00:00+00\",\"lastUpdated\":\"2024-06-15 20:00:00+00\",\"parameters\":[\"no\",\"no2\",\"o3\",\"so2\"]},{\"country\":\"AT\",\"city\":\"3710 Ziersdorf\",\"count\":5167,\"locations\":1,\"firstUpdated\":\"2024-01-28 23:00:00+00\",\"lastUpdated\":\"2024-06-15 20:00:00+00\",\"parameters\":[\"o3\",\"pm10\",\"pm25\"]},{\"country\":\"AT\",\"city\":\"3754 Irnfritz\",\"count\":4150,\"locations\":1,\"firstUpdated\":\"2024-01-28 23:00:00+00\",\"lastUpdated\":\"2024-06-15 20:00:00+00\",\"parameters\":[\"o3\",\"so2\"]},{\"country\":\"AT\",\"city\":\"3860 Heidenreichstein\",\"count\":40554,\"locations\":1,\"firstUpdated\":\"2023-05-06 00:00:00+00\",\"lastUpdated\":\"2024-06-15 20:00:00+00\",\"parameters\":[\"no\",\"no2\",\"o3\",\"pm10\",\"pm25\",\"so2\"]},{\"country\":\"AT\",\"city\":\"4020 Linz\",\"count\":179620,\"locations\":4,\"firstUpdated\":\"2016-11-18 05:00:00+00\",\"lastUpdated\":\"2024-06-15 20:00:00+00\",\"parameters\":[\"co\",\"no\",\"no2\",\"o3\",\"pm10\",\"pm25\",\"so2\"]},{\"country\":\"AT\",\"city\":\"4050 Traun\",\"count\":8795,\"locations\":1,\"firstUpdated\":\"2024-01-28 23:00:00+00\",\"lastUpdated\":\"2024-06-15 20:00:00+00\",\"parameters\":[\"no\",\"no2\",\"o3\",\"pm10\",\"pm25\"]},{\"country\":\"AT\",\"city\":\"4221 Steyregg\",\"count\":8794,\"locations\":1,\"firstUpdated\":\"2024-01-28 23:00:00+00\",\"lastUpdated\":\"2024-06-15 20:00:00+00\",\"parameters\":[\"co\",\"no2\",\"pm10\",\"pm25\",\"so2\"]},{\"country\":\"AT\",\"city\":\"4264 Grünbach\",\"count\":154092,\"locations\":1,\"firstUpdated\":\"2016-11-18 05:00:00+00\",\"lastUpdated\":\"2024-06-15 20:00:00+00\",\"parameters\":[\"no\",\"no2\",\"o3\",\"pm10\",\"pm25\",\"so2\"]},{\"country\":\"AT\",\"city\":\"4300 St. Valentin\",\"count\":8908,\"locations\":1,\"firstUpdated\":\"2024-01-28 23:00:00+00\",\"lastUpdated\":\"2024-06-15 20:00:00+00\",\"parameters\":[\"no\",\"no2\",\"o3\",\"pm10\",\"pm25\"]},{\"country\":\"AT\",\"city\":\"4400 Steyr\",\"count\":154313,\"locations\":1,\"firstUpdated\":\"2017-02-18 07:00:00+00\",\"lastUpdated\":\"2024-06-15 20:00:00+00\",\"parameters\":[\"no\",\"no2\",\"o3\",\"pm10\",\"pm25\",\"so2\"]},{\"country\":\"AT\",\"city\":\"4462 Reichraming\",\"count\":9154,\"locations\":1,\"firstUpdated\":\"2024-01-28 23:00:00+00\",\"lastUpdated\":\"2024-06-15 20:00:00+00\",\"parameters\":[\"no2\",\"o3\",\"pm10\",\"pm25\",\"so2\"]},{\"country\":\"AT\",\"city\":\"4470 Enns\",\"count\":35140,\"locations\":1,\"firstUpdated\":\"2023-05-06 00:00:00+00\",\"lastUpdated\":\"2024-06-15 20:00:00+00\",\"parameters\":[\"co\",\"no\",\"no2\",\"pm10\",\"pm25\"]},{\"country\":\"AT\",\"city\":\"4600 Wels\",\"count\":11536,\"locations\":1,\"firstUpdated\":\"2024-01-28 23:00:00+00\",\"lastUpdated\":\"2024-06-15 20:00:00+00\",\"parameters\":[\"co\",\"no\",\"no2\",\"o3\",\"pm10\",\"pm25\",\"so2\"]},{\"country\":\"AT\",\"city\":\"4761 Enzenkirchen\",\"count\":10635,\"locations\":1,\"firstUpdated\":\"2024-01-28 23:00:00+00\",\"lastUpdated\":\"2024-06-15 20:00:00+00\",\"parameters\":[\"no\",\"no2\",\"o3\",\"pm10\",\"pm25\",\"so2\"]},{\"country\":\"AT\",\"city\":\"4802 Ebensee\",\"count\":37545,\"locations\":1,\"firstUpdated\":\"2016-11-18 05:00:00+00\",\"lastUpdated\":\"2024-06-15 20:00:00+00\",\"parameters\":[\"o3\",\"pm10\",\"pm25\"]},{\"country\":\"AT\",\"city\":\"4820 Bad Ischl\",\"count\":38930,\"locations\":1,\"firstUpdated\":\"2023-05-06 00:00:00+00\",\"lastUpdated\":\"2024-06-15 20:00:00+00\",\"parameters\":[\"no\",\"no2\",\"o3\",\"pm10\",\"pm25\"]},{\"country\":\"AT\",\"city\":\"4840 Vöcklabruck\",\"count\":8077,\"locations\":1,\"firstUpdated\":\"2024-01-28 23:00:00+00\",\"lastUpdated\":\"2024-06-15 20:00:00+00\",\"parameters\":[\"no2\",\"o3\",\"pm10\",\"pm25\"]},{\"country\":\"AT\",\"city\":\"4860 Lenzing\",\"count\":11053,\"locations\":1,\"firstUpdated\":\"2024-01-28 23:00:00+00\",\"lastUpdated\":\"2024-06-15 20:00:00+00\",\"parameters\":[\"no\",\"no2\",\"o3\",\"pm10\",\"pm25\",\"so2\"]},{\"country\":\"AT\",\"city\":\"5020 Salzburg\",\"count\":47169,\"locations\":3,\"firstUpdated\":\"2023-05-06 00:00:00+00\",\"lastUpdated\":\"2024-06-15 20:00:00+00\",\"parameters\":[\"co\",\"no\",\"no2\",\"o3\",\"pm10\",\"so2\"]},{\"country\":\"AT\",\"city\":\"5071 Wals-Siezenheim\",\"count\":4177,\"locations\":1,\"firstUpdated\":\"2024-01-28 23:00:00+00\",\"lastUpdated\":\"2024-06-15 20:00:00+00\",\"parameters\":[\"no2\",\"pm10\"]},{\"country\":\"AT\",\"city\":\"5151 Nussdorf am Haunsberg\",\"count\":67018,\"locations\":1,\"firstUpdated\":\"2017-02-18 07:00:00+00\",\"lastUpdated\":\"2024-06-15 20:00:00+00\",\"parameters\":[\"no\",\"no2\",\"o3\"]},{\"country\":\"AT\",\"city\":\"5280 Braunau am Inn\",\"count\":10646,\"locations\":1,\"firstUpdated\":\"2024-01-28 23:00:00+00\",\"lastUpdated\":\"2024-06-15 20:00:00+00\",\"parameters\":[\"no\",\"no2\",\"o3\",\"pm10\",\"pm25\",\"so2\"]},{\"country\":\"AT\",\"city\":\"5400 Hallein\",\"count\":77713,\"locations\":3,\"firstUpdated\":\"2017-02-18 07:00:00+00\",\"lastUpdated\":\"2024-06-15 20:00:00+00\",\"parameters\":[\"co\",\"no\",\"no2\",\"o3\",\"pm10\",\"so2\"]},{\"country\":\"AT\",\"city\":\"5423 St. Koloman\",\"count\":29650,\"locations\":1,\"firstUpdated\":\"2017-02-18 07:00:00+00\",\"lastUpdated\":\"2024-06-15 20:00:00+00\",\"parameters\":[\"o3\"]},{\"country\":\"AT\",\"city\":\"5580 Tamsweg\",\"count\":6754,\"locations\":1,\"firstUpdated\":\"2024-01-28 23:00:00+00\",\"lastUpdated\":\"2024-06-15 20:00:00+00\",\"parameters\":[\"no\",\"no2\",\"o3\",\"pm10\"]},{\"country\":\"AT\",\"city\":\"5584 Zederhaus\",\"count\":6249,\"locations\":1,\"firstUpdated\":\"2024-01-28 23:00:00+00\",\"lastUpdated\":\"2024-06-15 20:00:00+00\",\"parameters\":[\"no2\",\"o3\",\"pm10\"]},{\"country\":\"AT\",\"city\":\"5600 St. Johann i. Pongau\",\"count\":65008,\"locations\":1,\"firstUpdated\":\"2017-02-18 07:00:00+00\",\"lastUpdated\":\"2024-06-15 20:00:00+00\",\"parameters\":[\"no\",\"no2\",\"o3\"]},{\"country\":\"AT\",\"city\":\"5661 Rauris\",\"count\":5593,\"locations\":1,\"firstUpdated\":\"2024-01-28 23:00:00+00\",\"lastUpdated\":\"2024-06-15 20:00:00+00\",\"parameters\":[\"co\",\"no\",\"no2\",\"o3\"]},{\"country\":\"AT\",\"city\":\"5700 Zell am See\",\"count\":38042,\"locations\":1,\"firstUpdated\":\"2023-05-06 00:00:00+00\",\"lastUpdated\":\"2024-06-15 20:00:00+00\",\"parameters\":[\"no\",\"no2\",\"o3\",\"pm10\",\"pm25\"]},{\"country\":\"PL\",\"city\":\"58-506 Jelenia Góra\",\"count\":270666,\"locations\":1,\"firstUpdated\":\"2018-11-21 18:00:00+00\",\"lastUpdated\":\"2024-06-16 02:00:00+00\",\"parameters\":[\"bc\",\"co\",\"no2\",\"o3\",\"pm10\",\"pm25\",\"so2\"]},{\"country\":\"AT\",\"city\":\"6020 Innsbruck\",\"count\":311776,\"locations\":5,\"firstUpdated\":\"2017-01-11 13:00:00+00\",\"lastUpdated\":\"2024-06-15 20:00:00+00\",\"parameters\":[\"co\",\"no\",\"no2\",\"o3\",\"pm10\",\"pm25\",\"so2\"]},{\"country\":\"AT\",\"city\":\"6060 Hall i.T.\",\"count\":60529,\"locations\":1,\"firstUpdated\":\"2016-11-18 05:00:00+00\",\"lastUpdated\":\"2024-06-15 20:00:00+00\",\"parameters\":[\"no2\",\"pm10\"]},{\"country\":\"AT\",\"city\":\"6134 Vomp bei Schwaz\",\"count\":61054,\"locations\":1,\"firstUpdated\":\"2017-02-18 07:00:00+00\",\"lastUpdated\":\"2024-06-15 20:00:00+00\",\"parameters\":[\"no2\",\"pm10\",\"pm25\"]},{\"country\":\"AT\",\"city\":\"6230 Brixlegg\",\"count\":59955,\"locations\":1,\"firstUpdated\":\"2017-02-18 07:00:00+00\",\"lastUpdated\":\"2024-06-15 20:00:00+00\",\"parameters\":[\"pm10\",\"so2\"]},{\"country\":\"AT\",\"city\":\"6233 Kramsach\",\"count\":66456,\"locations\":1,\"firstUpdated\":\"2017-02-18 07:00:00+00\",\"lastUpdated\":\"2024-06-15 20:00:00+00\",\"parameters\":[\"no\",\"no2\",\"o3\"]},{\"country\":\"AT\",\"city\":\"6250 Kundl\",\"count\":29714,\"locations\":1,\"firstUpdated\":\"2017-02-18 07:00:00+00\",\"lastUpdated\":\"2024-06-15 20:00:00+00\",\"parameters\":[\"no2\"]},{\"country\":\"AT\",\"city\":\"6300 Wörgl\",\"count\":30803,\"locations\":1,\"firstUpdated\":\"2023-05-06 00:00:00+00\",\"lastUpdated\":\"2024-06-15 20:00:00+00\",\"parameters\":[\"no\",\"no2\",\"o3\",\"pm10\"]},{\"country\":\"AT\",\"city\":\"6330 Kufstein\",\"count\":61700,\"locations\":2,\"firstUpdated\":\"2017-02-18 07:00:00+00\",\"lastUpdated\":\"2024-06-15 20:00:00+00\",\"parameters\":[\"no2\",\"o3\",\"pm10\"]},{\"country\":\"AT\",\"city\":\"6460 Imst\",\"count\":60208,\"locations\":1,\"firstUpdated\":\"2017-02-18 07:00:00+00\",\"lastUpdated\":\"2024-06-15 20:00:00+00\",\"parameters\":[\"no2\",\"pm10\"]},{\"country\":\"AT\",\"city\":\"6580 St. Anton am Arlberg\",\"count\":2075,\"locations\":1,\"firstUpdated\":\"2024-01-28 23:00:00+00\",\"lastUpdated\":\"2024-06-15 20:00:00+00\",\"parameters\":[\"o3\"]},{\"country\":\"AT\",\"city\":\"6600 Reutte\",\"count\":29441,\"locations\":1,\"firstUpdated\":\"2017-02-18 07:00:00+00\",\"lastUpdated\":\"2024-06-15 20:00:00+00\",\"parameters\":[\"o3\"]},{\"country\":\"AT\",\"city\":\"6611 Heiterwang\",\"count\":98336,\"locations\":1,\"firstUpdated\":\"2017-02-18 07:00:00+00\",\"lastUpdated\":\"2024-06-15 20:00:00+00\",\"parameters\":[\"no\",\"no2\",\"o3\",\"pm10\",\"pm25\"]}]}\n"
     ]
    }
   ],
   "source": [
    "url = \"https://api.openaq.org/v2/cities?limit=100&page=1&offset=0&sort=asc&order_by=city\"\n",
    "headers = {\"accept\": \"application/json\"}\n",
    "\n",
    "response = requests.get(url, headers=headers)\n",
    "\n",
    "print(response.text)"
   ]
  },
  {
   "cell_type": "markdown",
   "metadata": {},
   "source": [
    "### Returning for a City"
   ]
  },
  {
   "cell_type": "code",
   "execution_count": 6,
   "metadata": {},
   "outputs": [
    {
     "name": "stdout",
     "output_type": "stream",
     "text": [
      "{\"meta\":{\"name\":\"openaq-api\",\"license\":\"\",\"website\":\"/\",\"page\":1,\"limit\":100,\"found\":0},\"results\":[]}\n"
     ]
    }
   ],
   "source": [
    "url = \"https://api.openaq.org/v2/averages?temporal=day&locations_id=70084&spatial=location&limit=100&page=1\"\n",
    "headers = {\"accept\": \"application/json\"}\n",
    "response = requests.get(url, headers=headers)\n",
    "\n",
    "print(response.text)"
   ]
  },
  {
   "cell_type": "markdown",
   "metadata": {},
   "source": [
    "### Testing Data Pull\n",
    "Returns latest measurement for location 1067 in portland oregon"
   ]
  },
  {
   "cell_type": "code",
   "execution_count": 7,
   "metadata": {},
   "outputs": [],
   "source": [
    "def query_weather_data(location):\n",
    "\n",
    "    # Defining url for location and requesting data\n",
    "    url = \"https://api.openaq.org/v2/measurements?date_from=2024-05-30T00%3A00%3A00Z&date_to=2024-06-06T20%3A45%3A00Z&limit=5000&page=1&offset=0&sort=desc&parameter_id=2&radius=1000&location_id={}&order_by=datetime\".format(location)\n",
    "    headers = {\"accept\": \"application/json\"}\n",
    "    response = requests.get(url, headers=headers)\n",
    "    converted = response.json()['results']\n",
    "    print(converted)\n",
    "\n",
    "    # Defining lists for data parsing\n",
    "    values = []\n",
    "    date = []\n",
    "    location = []\n",
    "    parameter = []\n",
    "    \n",
    "    # Iterating through dict and appending values\n",
    "    for entry in converted:\n",
    "        values.append(entry['value'])\n",
    "        date.append(entry['date']['utc'])\n",
    "        location.append(entry['locationId'])\n",
    "        parameter.append(entry['parameter'])\n",
    "\n",
    "    df = pd.DataFrame.from_dict({\"Date\": date,\n",
    "                                \"Value\": values,\n",
    "                                \"location\": location,\n",
    "                                \"parameter\": parameter})\n",
    "    return df"
   ]
  },
  {
   "cell_type": "code",
   "execution_count": 8,
   "metadata": {},
   "outputs": [
    {
     "name": "stdout",
     "output_type": "stream",
     "text": [
      "[{'locationId': 1067, 'location': 'Portland - Sauvie Is', 'parameter': 'pm25', 'value': 4.0, 'date': {'utc': '2024-06-06T20:00:00+00:00', 'local': '2024-06-06T13:00:00-07:00'}, 'unit': 'µg/m³', 'coordinates': {'latitude': 45.768531, 'longitude': -122.7721}, 'country': 'US', 'city': None, 'isMobile': False, 'isAnalysis': None, 'entity': 'Governmental Organization', 'sensorType': 'reference grade'}, {'locationId': 1067, 'location': 'Portland - Sauvie Is', 'parameter': 'pm25', 'value': 4.6, 'date': {'utc': '2024-06-06T19:00:00+00:00', 'local': '2024-06-06T12:00:00-07:00'}, 'unit': 'µg/m³', 'coordinates': {'latitude': 45.768531, 'longitude': -122.7721}, 'country': 'US', 'city': None, 'isMobile': False, 'isAnalysis': None, 'entity': 'Governmental Organization', 'sensorType': 'reference grade'}, {'locationId': 1067, 'location': 'Portland - Sauvie Is', 'parameter': 'pm25', 'value': 4.9, 'date': {'utc': '2024-06-06T18:00:00+00:00', 'local': '2024-06-06T11:00:00-07:00'}, 'unit': 'µg/m³', 'coordinates': {'latitude': 45.768531, 'longitude': -122.7721}, 'country': 'US', 'city': None, 'isMobile': False, 'isAnalysis': None, 'entity': 'Governmental Organization', 'sensorType': 'reference grade'}, {'locationId': 1067, 'location': 'Portland - Sauvie Is', 'parameter': 'pm25', 'value': 4.9, 'date': {'utc': '2024-06-06T17:00:00+00:00', 'local': '2024-06-06T10:00:00-07:00'}, 'unit': 'µg/m³', 'coordinates': {'latitude': 45.768531, 'longitude': -122.7721}, 'country': 'US', 'city': None, 'isMobile': False, 'isAnalysis': None, 'entity': 'Governmental Organization', 'sensorType': 'reference grade'}, {'locationId': 1067, 'location': 'Portland - Sauvie Is', 'parameter': 'pm25', 'value': 4.8, 'date': {'utc': '2024-06-06T16:00:00+00:00', 'local': '2024-06-06T09:00:00-07:00'}, 'unit': 'µg/m³', 'coordinates': {'latitude': 45.768531, 'longitude': -122.7721}, 'country': 'US', 'city': None, 'isMobile': False, 'isAnalysis': None, 'entity': 'Governmental Organization', 'sensorType': 'reference grade'}, {'locationId': 1067, 'location': 'Portland - Sauvie Is', 'parameter': 'pm25', 'value': 5.0, 'date': {'utc': '2024-06-06T15:00:00+00:00', 'local': '2024-06-06T08:00:00-07:00'}, 'unit': 'µg/m³', 'coordinates': {'latitude': 45.768531, 'longitude': -122.7721}, 'country': 'US', 'city': None, 'isMobile': False, 'isAnalysis': None, 'entity': 'Governmental Organization', 'sensorType': 'reference grade'}, {'locationId': 1067, 'location': 'Portland - Sauvie Is', 'parameter': 'pm25', 'value': 4.9, 'date': {'utc': '2024-06-06T14:00:00+00:00', 'local': '2024-06-06T07:00:00-07:00'}, 'unit': 'µg/m³', 'coordinates': {'latitude': 45.768531, 'longitude': -122.7721}, 'country': 'US', 'city': None, 'isMobile': False, 'isAnalysis': None, 'entity': 'Governmental Organization', 'sensorType': 'reference grade'}, {'locationId': 1067, 'location': 'Portland - Sauvie Is', 'parameter': 'pm25', 'value': 4.8, 'date': {'utc': '2024-06-06T13:00:00+00:00', 'local': '2024-06-06T06:00:00-07:00'}, 'unit': 'µg/m³', 'coordinates': {'latitude': 45.768531, 'longitude': -122.7721}, 'country': 'US', 'city': None, 'isMobile': False, 'isAnalysis': None, 'entity': 'Governmental Organization', 'sensorType': 'reference grade'}, {'locationId': 1067, 'location': 'Portland - Sauvie Is', 'parameter': 'pm25', 'value': 4.8, 'date': {'utc': '2024-06-06T12:00:00+00:00', 'local': '2024-06-06T05:00:00-07:00'}, 'unit': 'µg/m³', 'coordinates': {'latitude': 45.768531, 'longitude': -122.7721}, 'country': 'US', 'city': None, 'isMobile': False, 'isAnalysis': None, 'entity': 'Governmental Organization', 'sensorType': 'reference grade'}, {'locationId': 1067, 'location': 'Portland - Sauvie Is', 'parameter': 'pm25', 'value': 4.9, 'date': {'utc': '2024-06-06T11:00:00+00:00', 'local': '2024-06-06T04:00:00-07:00'}, 'unit': 'µg/m³', 'coordinates': {'latitude': 45.768531, 'longitude': -122.7721}, 'country': 'US', 'city': None, 'isMobile': False, 'isAnalysis': None, 'entity': 'Governmental Organization', 'sensorType': 'reference grade'}, {'locationId': 1067, 'location': 'Portland - Sauvie Is', 'parameter': 'pm25', 'value': 5.0, 'date': {'utc': '2024-06-06T10:00:00+00:00', 'local': '2024-06-06T03:00:00-07:00'}, 'unit': 'µg/m³', 'coordinates': {'latitude': 45.768531, 'longitude': -122.7721}, 'country': 'US', 'city': None, 'isMobile': False, 'isAnalysis': None, 'entity': 'Governmental Organization', 'sensorType': 'reference grade'}, {'locationId': 1067, 'location': 'Portland - Sauvie Is', 'parameter': 'pm25', 'value': 5.1, 'date': {'utc': '2024-06-06T09:00:00+00:00', 'local': '2024-06-06T02:00:00-07:00'}, 'unit': 'µg/m³', 'coordinates': {'latitude': 45.768531, 'longitude': -122.7721}, 'country': 'US', 'city': None, 'isMobile': False, 'isAnalysis': None, 'entity': 'Governmental Organization', 'sensorType': 'reference grade'}, {'locationId': 1067, 'location': 'Portland - Sauvie Is', 'parameter': 'pm25', 'value': 4.9, 'date': {'utc': '2024-06-06T08:00:00+00:00', 'local': '2024-06-06T01:00:00-07:00'}, 'unit': 'µg/m³', 'coordinates': {'latitude': 45.768531, 'longitude': -122.7721}, 'country': 'US', 'city': None, 'isMobile': False, 'isAnalysis': None, 'entity': 'Governmental Organization', 'sensorType': 'reference grade'}, {'locationId': 1067, 'location': 'Portland - Sauvie Is', 'parameter': 'pm25', 'value': 4.7, 'date': {'utc': '2024-06-06T07:00:00+00:00', 'local': '2024-06-06T00:00:00-07:00'}, 'unit': 'µg/m³', 'coordinates': {'latitude': 45.768531, 'longitude': -122.7721}, 'country': 'US', 'city': None, 'isMobile': False, 'isAnalysis': None, 'entity': 'Governmental Organization', 'sensorType': 'reference grade'}, {'locationId': 1067, 'location': 'Portland - Sauvie Is', 'parameter': 'pm25', 'value': 4.9, 'date': {'utc': '2024-06-06T06:00:00+00:00', 'local': '2024-06-05T23:00:00-07:00'}, 'unit': 'µg/m³', 'coordinates': {'latitude': 45.768531, 'longitude': -122.7721}, 'country': 'US', 'city': None, 'isMobile': False, 'isAnalysis': None, 'entity': 'Governmental Organization', 'sensorType': 'reference grade'}, {'locationId': 1067, 'location': 'Portland - Sauvie Is', 'parameter': 'pm25', 'value': 5.2, 'date': {'utc': '2024-06-06T05:00:00+00:00', 'local': '2024-06-05T22:00:00-07:00'}, 'unit': 'µg/m³', 'coordinates': {'latitude': 45.768531, 'longitude': -122.7721}, 'country': 'US', 'city': None, 'isMobile': False, 'isAnalysis': None, 'entity': 'Governmental Organization', 'sensorType': 'reference grade'}, {'locationId': 1067, 'location': 'Portland - Sauvie Is', 'parameter': 'pm25', 'value': 5.5, 'date': {'utc': '2024-06-06T04:00:00+00:00', 'local': '2024-06-05T21:00:00-07:00'}, 'unit': 'µg/m³', 'coordinates': {'latitude': 45.768531, 'longitude': -122.7721}, 'country': 'US', 'city': None, 'isMobile': False, 'isAnalysis': None, 'entity': 'Governmental Organization', 'sensorType': 'reference grade'}, {'locationId': 1067, 'location': 'Portland - Sauvie Is', 'parameter': 'pm25', 'value': 4.4, 'date': {'utc': '2024-06-06T03:00:00+00:00', 'local': '2024-06-05T20:00:00-07:00'}, 'unit': 'µg/m³', 'coordinates': {'latitude': 45.768531, 'longitude': -122.7721}, 'country': 'US', 'city': None, 'isMobile': False, 'isAnalysis': None, 'entity': 'Governmental Organization', 'sensorType': 'reference grade'}, {'locationId': 1067, 'location': 'Portland - Sauvie Is', 'parameter': 'pm25', 'value': 4.6, 'date': {'utc': '2024-06-06T02:00:00+00:00', 'local': '2024-06-05T19:00:00-07:00'}, 'unit': 'µg/m³', 'coordinates': {'latitude': 45.768531, 'longitude': -122.7721}, 'country': 'US', 'city': None, 'isMobile': False, 'isAnalysis': None, 'entity': 'Governmental Organization', 'sensorType': 'reference grade'}, {'locationId': 1067, 'location': 'Portland - Sauvie Is', 'parameter': 'pm25', 'value': 3.6, 'date': {'utc': '2024-06-06T01:00:00+00:00', 'local': '2024-06-05T18:00:00-07:00'}, 'unit': 'µg/m³', 'coordinates': {'latitude': 45.768531, 'longitude': -122.7721}, 'country': 'US', 'city': None, 'isMobile': False, 'isAnalysis': None, 'entity': 'Governmental Organization', 'sensorType': 'reference grade'}, {'locationId': 1067, 'location': 'Portland - Sauvie Is', 'parameter': 'pm25', 'value': 3.2, 'date': {'utc': '2024-06-06T00:00:00+00:00', 'local': '2024-06-05T17:00:00-07:00'}, 'unit': 'µg/m³', 'coordinates': {'latitude': 45.768531, 'longitude': -122.7721}, 'country': 'US', 'city': None, 'isMobile': False, 'isAnalysis': None, 'entity': 'Governmental Organization', 'sensorType': 'reference grade'}, {'locationId': 1067, 'location': 'Portland - Sauvie Is', 'parameter': 'pm25', 'value': 3.7, 'date': {'utc': '2024-06-05T23:00:00+00:00', 'local': '2024-06-05T16:00:00-07:00'}, 'unit': 'µg/m³', 'coordinates': {'latitude': 45.768531, 'longitude': -122.7721}, 'country': 'US', 'city': None, 'isMobile': False, 'isAnalysis': None, 'entity': 'Governmental Organization', 'sensorType': 'reference grade'}, {'locationId': 1067, 'location': 'Portland - Sauvie Is', 'parameter': 'pm25', 'value': 3.4, 'date': {'utc': '2024-06-05T22:00:00+00:00', 'local': '2024-06-05T15:00:00-07:00'}, 'unit': 'µg/m³', 'coordinates': {'latitude': 45.768531, 'longitude': -122.7721}, 'country': 'US', 'city': None, 'isMobile': False, 'isAnalysis': None, 'entity': 'Governmental Organization', 'sensorType': 'reference grade'}, {'locationId': 1067, 'location': 'Portland - Sauvie Is', 'parameter': 'pm25', 'value': 3.4, 'date': {'utc': '2024-06-05T21:00:00+00:00', 'local': '2024-06-05T14:00:00-07:00'}, 'unit': 'µg/m³', 'coordinates': {'latitude': 45.768531, 'longitude': -122.7721}, 'country': 'US', 'city': None, 'isMobile': False, 'isAnalysis': None, 'entity': 'Governmental Organization', 'sensorType': 'reference grade'}, {'locationId': 1067, 'location': 'Portland - Sauvie Is', 'parameter': 'pm25', 'value': 3.6, 'date': {'utc': '2024-06-05T20:00:00+00:00', 'local': '2024-06-05T13:00:00-07:00'}, 'unit': 'µg/m³', 'coordinates': {'latitude': 45.768531, 'longitude': -122.7721}, 'country': 'US', 'city': None, 'isMobile': False, 'isAnalysis': None, 'entity': 'Governmental Organization', 'sensorType': 'reference grade'}, {'locationId': 1067, 'location': 'Portland - Sauvie Is', 'parameter': 'pm25', 'value': 3.7, 'date': {'utc': '2024-06-05T19:00:00+00:00', 'local': '2024-06-05T12:00:00-07:00'}, 'unit': 'µg/m³', 'coordinates': {'latitude': 45.768531, 'longitude': -122.7721}, 'country': 'US', 'city': None, 'isMobile': False, 'isAnalysis': None, 'entity': 'Governmental Organization', 'sensorType': 'reference grade'}, {'locationId': 1067, 'location': 'Portland - Sauvie Is', 'parameter': 'pm25', 'value': 5.8, 'date': {'utc': '2024-06-05T18:00:00+00:00', 'local': '2024-06-05T11:00:00-07:00'}, 'unit': 'µg/m³', 'coordinates': {'latitude': 45.768531, 'longitude': -122.7721}, 'country': 'US', 'city': None, 'isMobile': False, 'isAnalysis': None, 'entity': 'Governmental Organization', 'sensorType': 'reference grade'}, {'locationId': 1067, 'location': 'Portland - Sauvie Is', 'parameter': 'pm25', 'value': 8.1, 'date': {'utc': '2024-06-05T17:00:00+00:00', 'local': '2024-06-05T10:00:00-07:00'}, 'unit': 'µg/m³', 'coordinates': {'latitude': 45.768531, 'longitude': -122.7721}, 'country': 'US', 'city': None, 'isMobile': False, 'isAnalysis': None, 'entity': 'Governmental Organization', 'sensorType': 'reference grade'}, {'locationId': 1067, 'location': 'Portland - Sauvie Is', 'parameter': 'pm25', 'value': 9.3, 'date': {'utc': '2024-06-05T16:00:00+00:00', 'local': '2024-06-05T09:00:00-07:00'}, 'unit': 'µg/m³', 'coordinates': {'latitude': 45.768531, 'longitude': -122.7721}, 'country': 'US', 'city': None, 'isMobile': False, 'isAnalysis': None, 'entity': 'Governmental Organization', 'sensorType': 'reference grade'}, {'locationId': 1067, 'location': 'Portland - Sauvie Is', 'parameter': 'pm25', 'value': 10.8, 'date': {'utc': '2024-06-05T15:00:00+00:00', 'local': '2024-06-05T08:00:00-07:00'}, 'unit': 'µg/m³', 'coordinates': {'latitude': 45.768531, 'longitude': -122.7721}, 'country': 'US', 'city': None, 'isMobile': False, 'isAnalysis': None, 'entity': 'Governmental Organization', 'sensorType': 'reference grade'}, {'locationId': 1067, 'location': 'Portland - Sauvie Is', 'parameter': 'pm25', 'value': 15.2, 'date': {'utc': '2024-06-05T14:00:00+00:00', 'local': '2024-06-05T07:00:00-07:00'}, 'unit': 'µg/m³', 'coordinates': {'latitude': 45.768531, 'longitude': -122.7721}, 'country': 'US', 'city': None, 'isMobile': False, 'isAnalysis': None, 'entity': 'Governmental Organization', 'sensorType': 'reference grade'}, {'locationId': 1067, 'location': 'Portland - Sauvie Is', 'parameter': 'pm25', 'value': 12.2, 'date': {'utc': '2024-06-05T13:00:00+00:00', 'local': '2024-06-05T06:00:00-07:00'}, 'unit': 'µg/m³', 'coordinates': {'latitude': 45.768531, 'longitude': -122.7721}, 'country': 'US', 'city': None, 'isMobile': False, 'isAnalysis': None, 'entity': 'Governmental Organization', 'sensorType': 'reference grade'}, {'locationId': 1067, 'location': 'Portland - Sauvie Is', 'parameter': 'pm25', 'value': 5.5, 'date': {'utc': '2024-06-05T12:00:00+00:00', 'local': '2024-06-05T05:00:00-07:00'}, 'unit': 'µg/m³', 'coordinates': {'latitude': 45.768531, 'longitude': -122.7721}, 'country': 'US', 'city': None, 'isMobile': False, 'isAnalysis': None, 'entity': 'Governmental Organization', 'sensorType': 'reference grade'}, {'locationId': 1067, 'location': 'Portland - Sauvie Is', 'parameter': 'pm25', 'value': 5.1, 'date': {'utc': '2024-06-05T11:00:00+00:00', 'local': '2024-06-05T04:00:00-07:00'}, 'unit': 'µg/m³', 'coordinates': {'latitude': 45.768531, 'longitude': -122.7721}, 'country': 'US', 'city': None, 'isMobile': False, 'isAnalysis': None, 'entity': 'Governmental Organization', 'sensorType': 'reference grade'}, {'locationId': 1067, 'location': 'Portland - Sauvie Is', 'parameter': 'pm25', 'value': 5.2, 'date': {'utc': '2024-06-05T10:00:00+00:00', 'local': '2024-06-05T03:00:00-07:00'}, 'unit': 'µg/m³', 'coordinates': {'latitude': 45.768531, 'longitude': -122.7721}, 'country': 'US', 'city': None, 'isMobile': False, 'isAnalysis': None, 'entity': 'Governmental Organization', 'sensorType': 'reference grade'}, {'locationId': 1067, 'location': 'Portland - Sauvie Is', 'parameter': 'pm25', 'value': 5.3, 'date': {'utc': '2024-06-05T09:00:00+00:00', 'local': '2024-06-05T02:00:00-07:00'}, 'unit': 'µg/m³', 'coordinates': {'latitude': 45.768531, 'longitude': -122.7721}, 'country': 'US', 'city': None, 'isMobile': False, 'isAnalysis': None, 'entity': 'Governmental Organization', 'sensorType': 'reference grade'}, {'locationId': 1067, 'location': 'Portland - Sauvie Is', 'parameter': 'pm25', 'value': 5.2, 'date': {'utc': '2024-06-05T08:00:00+00:00', 'local': '2024-06-05T01:00:00-07:00'}, 'unit': 'µg/m³', 'coordinates': {'latitude': 45.768531, 'longitude': -122.7721}, 'country': 'US', 'city': None, 'isMobile': False, 'isAnalysis': None, 'entity': 'Governmental Organization', 'sensorType': 'reference grade'}, {'locationId': 1067, 'location': 'Portland - Sauvie Is', 'parameter': 'pm25', 'value': 4.9, 'date': {'utc': '2024-06-05T07:00:00+00:00', 'local': '2024-06-05T00:00:00-07:00'}, 'unit': 'µg/m³', 'coordinates': {'latitude': 45.768531, 'longitude': -122.7721}, 'country': 'US', 'city': None, 'isMobile': False, 'isAnalysis': None, 'entity': 'Governmental Organization', 'sensorType': 'reference grade'}, {'locationId': 1067, 'location': 'Portland - Sauvie Is', 'parameter': 'pm25', 'value': 4.9, 'date': {'utc': '2024-06-05T06:00:00+00:00', 'local': '2024-06-04T23:00:00-07:00'}, 'unit': 'µg/m³', 'coordinates': {'latitude': 45.768531, 'longitude': -122.7721}, 'country': 'US', 'city': None, 'isMobile': False, 'isAnalysis': None, 'entity': 'Governmental Organization', 'sensorType': 'reference grade'}, {'locationId': 1067, 'location': 'Portland - Sauvie Is', 'parameter': 'pm25', 'value': 5.3, 'date': {'utc': '2024-06-05T05:00:00+00:00', 'local': '2024-06-04T22:00:00-07:00'}, 'unit': 'µg/m³', 'coordinates': {'latitude': 45.768531, 'longitude': -122.7721}, 'country': 'US', 'city': None, 'isMobile': False, 'isAnalysis': None, 'entity': 'Governmental Organization', 'sensorType': 'reference grade'}, {'locationId': 1067, 'location': 'Portland - Sauvie Is', 'parameter': 'pm25', 'value': 4.9, 'date': {'utc': '2024-06-05T04:00:00+00:00', 'local': '2024-06-04T21:00:00-07:00'}, 'unit': 'µg/m³', 'coordinates': {'latitude': 45.768531, 'longitude': -122.7721}, 'country': 'US', 'city': None, 'isMobile': False, 'isAnalysis': None, 'entity': 'Governmental Organization', 'sensorType': 'reference grade'}, {'locationId': 1067, 'location': 'Portland - Sauvie Is', 'parameter': 'pm25', 'value': 4.0, 'date': {'utc': '2024-06-05T03:00:00+00:00', 'local': '2024-06-04T20:00:00-07:00'}, 'unit': 'µg/m³', 'coordinates': {'latitude': 45.768531, 'longitude': -122.7721}, 'country': 'US', 'city': None, 'isMobile': False, 'isAnalysis': None, 'entity': 'Governmental Organization', 'sensorType': 'reference grade'}, {'locationId': 1067, 'location': 'Portland - Sauvie Is', 'parameter': 'pm25', 'value': 3.5, 'date': {'utc': '2024-06-05T02:00:00+00:00', 'local': '2024-06-04T19:00:00-07:00'}, 'unit': 'µg/m³', 'coordinates': {'latitude': 45.768531, 'longitude': -122.7721}, 'country': 'US', 'city': None, 'isMobile': False, 'isAnalysis': None, 'entity': 'Governmental Organization', 'sensorType': 'reference grade'}, {'locationId': 1067, 'location': 'Portland - Sauvie Is', 'parameter': 'pm25', 'value': 2.4, 'date': {'utc': '2024-06-05T01:00:00+00:00', 'local': '2024-06-04T18:00:00-07:00'}, 'unit': 'µg/m³', 'coordinates': {'latitude': 45.768531, 'longitude': -122.7721}, 'country': 'US', 'city': None, 'isMobile': False, 'isAnalysis': None, 'entity': 'Governmental Organization', 'sensorType': 'reference grade'}, {'locationId': 1067, 'location': 'Portland - Sauvie Is', 'parameter': 'pm25', 'value': 1.8, 'date': {'utc': '2024-06-05T00:00:00+00:00', 'local': '2024-06-04T17:00:00-07:00'}, 'unit': 'µg/m³', 'coordinates': {'latitude': 45.768531, 'longitude': -122.7721}, 'country': 'US', 'city': None, 'isMobile': False, 'isAnalysis': None, 'entity': 'Governmental Organization', 'sensorType': 'reference grade'}, {'locationId': 1067, 'location': 'Portland - Sauvie Is', 'parameter': 'pm25', 'value': 1.8, 'date': {'utc': '2024-06-04T23:00:00+00:00', 'local': '2024-06-04T16:00:00-07:00'}, 'unit': 'µg/m³', 'coordinates': {'latitude': 45.768531, 'longitude': -122.7721}, 'country': 'US', 'city': None, 'isMobile': False, 'isAnalysis': None, 'entity': 'Governmental Organization', 'sensorType': 'reference grade'}, {'locationId': 1067, 'location': 'Portland - Sauvie Is', 'parameter': 'pm25', 'value': 3.2, 'date': {'utc': '2024-06-04T22:00:00+00:00', 'local': '2024-06-04T15:00:00-07:00'}, 'unit': 'µg/m³', 'coordinates': {'latitude': 45.768531, 'longitude': -122.7721}, 'country': 'US', 'city': None, 'isMobile': False, 'isAnalysis': None, 'entity': 'Governmental Organization', 'sensorType': 'reference grade'}, {'locationId': 1067, 'location': 'Portland - Sauvie Is', 'parameter': 'pm25', 'value': 4.9, 'date': {'utc': '2024-06-04T21:00:00+00:00', 'local': '2024-06-04T14:00:00-07:00'}, 'unit': 'µg/m³', 'coordinates': {'latitude': 45.768531, 'longitude': -122.7721}, 'country': 'US', 'city': None, 'isMobile': False, 'isAnalysis': None, 'entity': 'Governmental Organization', 'sensorType': 'reference grade'}, {'locationId': 1067, 'location': 'Portland - Sauvie Is', 'parameter': 'pm25', 'value': 5.0, 'date': {'utc': '2024-06-04T20:00:00+00:00', 'local': '2024-06-04T13:00:00-07:00'}, 'unit': 'µg/m³', 'coordinates': {'latitude': 45.768531, 'longitude': -122.7721}, 'country': 'US', 'city': None, 'isMobile': False, 'isAnalysis': None, 'entity': 'Governmental Organization', 'sensorType': 'reference grade'}, {'locationId': 1067, 'location': 'Portland - Sauvie Is', 'parameter': 'pm25', 'value': 4.8, 'date': {'utc': '2024-06-04T19:00:00+00:00', 'local': '2024-06-04T12:00:00-07:00'}, 'unit': 'µg/m³', 'coordinates': {'latitude': 45.768531, 'longitude': -122.7721}, 'country': 'US', 'city': None, 'isMobile': False, 'isAnalysis': None, 'entity': 'Governmental Organization', 'sensorType': 'reference grade'}, {'locationId': 1067, 'location': 'Portland - Sauvie Is', 'parameter': 'pm25', 'value': 4.6, 'date': {'utc': '2024-06-04T18:00:00+00:00', 'local': '2024-06-04T11:00:00-07:00'}, 'unit': 'µg/m³', 'coordinates': {'latitude': 45.768531, 'longitude': -122.7721}, 'country': 'US', 'city': None, 'isMobile': False, 'isAnalysis': None, 'entity': 'Governmental Organization', 'sensorType': 'reference grade'}, {'locationId': 1067, 'location': 'Portland - Sauvie Is', 'parameter': 'pm25', 'value': 4.4, 'date': {'utc': '2024-06-04T17:00:00+00:00', 'local': '2024-06-04T10:00:00-07:00'}, 'unit': 'µg/m³', 'coordinates': {'latitude': 45.768531, 'longitude': -122.7721}, 'country': 'US', 'city': None, 'isMobile': False, 'isAnalysis': None, 'entity': 'Governmental Organization', 'sensorType': 'reference grade'}, {'locationId': 1067, 'location': 'Portland - Sauvie Is', 'parameter': 'pm25', 'value': 4.3, 'date': {'utc': '2024-06-04T16:00:00+00:00', 'local': '2024-06-04T09:00:00-07:00'}, 'unit': 'µg/m³', 'coordinates': {'latitude': 45.768531, 'longitude': -122.7721}, 'country': 'US', 'city': None, 'isMobile': False, 'isAnalysis': None, 'entity': 'Governmental Organization', 'sensorType': 'reference grade'}, {'locationId': 1067, 'location': 'Portland - Sauvie Is', 'parameter': 'pm25', 'value': 4.2, 'date': {'utc': '2024-06-04T15:00:00+00:00', 'local': '2024-06-04T08:00:00-07:00'}, 'unit': 'µg/m³', 'coordinates': {'latitude': 45.768531, 'longitude': -122.7721}, 'country': 'US', 'city': None, 'isMobile': False, 'isAnalysis': None, 'entity': 'Governmental Organization', 'sensorType': 'reference grade'}, {'locationId': 1067, 'location': 'Portland - Sauvie Is', 'parameter': 'pm25', 'value': 4.1, 'date': {'utc': '2024-06-04T14:00:00+00:00', 'local': '2024-06-04T07:00:00-07:00'}, 'unit': 'µg/m³', 'coordinates': {'latitude': 45.768531, 'longitude': -122.7721}, 'country': 'US', 'city': None, 'isMobile': False, 'isAnalysis': None, 'entity': 'Governmental Organization', 'sensorType': 'reference grade'}, {'locationId': 1067, 'location': 'Portland - Sauvie Is', 'parameter': 'pm25', 'value': 4.4, 'date': {'utc': '2024-06-04T13:00:00+00:00', 'local': '2024-06-04T06:00:00-07:00'}, 'unit': 'µg/m³', 'coordinates': {'latitude': 45.768531, 'longitude': -122.7721}, 'country': 'US', 'city': None, 'isMobile': False, 'isAnalysis': None, 'entity': 'Governmental Organization', 'sensorType': 'reference grade'}, {'locationId': 1067, 'location': 'Portland - Sauvie Is', 'parameter': 'pm25', 'value': 4.6, 'date': {'utc': '2024-06-04T12:00:00+00:00', 'local': '2024-06-04T05:00:00-07:00'}, 'unit': 'µg/m³', 'coordinates': {'latitude': 45.768531, 'longitude': -122.7721}, 'country': 'US', 'city': None, 'isMobile': False, 'isAnalysis': None, 'entity': 'Governmental Organization', 'sensorType': 'reference grade'}, {'locationId': 1067, 'location': 'Portland - Sauvie Is', 'parameter': 'pm25', 'value': 4.6, 'date': {'utc': '2024-06-04T11:00:00+00:00', 'local': '2024-06-04T04:00:00-07:00'}, 'unit': 'µg/m³', 'coordinates': {'latitude': 45.768531, 'longitude': -122.7721}, 'country': 'US', 'city': None, 'isMobile': False, 'isAnalysis': None, 'entity': 'Governmental Organization', 'sensorType': 'reference grade'}, {'locationId': 1067, 'location': 'Portland - Sauvie Is', 'parameter': 'pm25', 'value': 4.5, 'date': {'utc': '2024-06-04T10:00:00+00:00', 'local': '2024-06-04T03:00:00-07:00'}, 'unit': 'µg/m³', 'coordinates': {'latitude': 45.768531, 'longitude': -122.7721}, 'country': 'US', 'city': None, 'isMobile': False, 'isAnalysis': None, 'entity': 'Governmental Organization', 'sensorType': 'reference grade'}, {'locationId': 1067, 'location': 'Portland - Sauvie Is', 'parameter': 'pm25', 'value': 3.7, 'date': {'utc': '2024-06-04T09:00:00+00:00', 'local': '2024-06-04T02:00:00-07:00'}, 'unit': 'µg/m³', 'coordinates': {'latitude': 45.768531, 'longitude': -122.7721}, 'country': 'US', 'city': None, 'isMobile': False, 'isAnalysis': None, 'entity': 'Governmental Organization', 'sensorType': 'reference grade'}, {'locationId': 1067, 'location': 'Portland - Sauvie Is', 'parameter': 'pm25', 'value': 4.3, 'date': {'utc': '2024-06-04T08:00:00+00:00', 'local': '2024-06-04T01:00:00-07:00'}, 'unit': 'µg/m³', 'coordinates': {'latitude': 45.768531, 'longitude': -122.7721}, 'country': 'US', 'city': None, 'isMobile': False, 'isAnalysis': None, 'entity': 'Governmental Organization', 'sensorType': 'reference grade'}, {'locationId': 1067, 'location': 'Portland - Sauvie Is', 'parameter': 'pm25', 'value': 4.0, 'date': {'utc': '2024-06-04T07:00:00+00:00', 'local': '2024-06-04T00:00:00-07:00'}, 'unit': 'µg/m³', 'coordinates': {'latitude': 45.768531, 'longitude': -122.7721}, 'country': 'US', 'city': None, 'isMobile': False, 'isAnalysis': None, 'entity': 'Governmental Organization', 'sensorType': 'reference grade'}, {'locationId': 1067, 'location': 'Portland - Sauvie Is', 'parameter': 'pm25', 'value': 4.0, 'date': {'utc': '2024-06-04T06:00:00+00:00', 'local': '2024-06-03T23:00:00-07:00'}, 'unit': 'µg/m³', 'coordinates': {'latitude': 45.768531, 'longitude': -122.7721}, 'country': 'US', 'city': None, 'isMobile': False, 'isAnalysis': None, 'entity': 'Governmental Organization', 'sensorType': 'reference grade'}, {'locationId': 1067, 'location': 'Portland - Sauvie Is', 'parameter': 'pm25', 'value': 3.6, 'date': {'utc': '2024-06-04T05:00:00+00:00', 'local': '2024-06-03T22:00:00-07:00'}, 'unit': 'µg/m³', 'coordinates': {'latitude': 45.768531, 'longitude': -122.7721}, 'country': 'US', 'city': None, 'isMobile': False, 'isAnalysis': None, 'entity': 'Governmental Organization', 'sensorType': 'reference grade'}, {'locationId': 1067, 'location': 'Portland - Sauvie Is', 'parameter': 'pm25', 'value': 3.4, 'date': {'utc': '2024-06-04T04:00:00+00:00', 'local': '2024-06-03T21:00:00-07:00'}, 'unit': 'µg/m³', 'coordinates': {'latitude': 45.768531, 'longitude': -122.7721}, 'country': 'US', 'city': None, 'isMobile': False, 'isAnalysis': None, 'entity': 'Governmental Organization', 'sensorType': 'reference grade'}, {'locationId': 1067, 'location': 'Portland - Sauvie Is', 'parameter': 'pm25', 'value': 3.4, 'date': {'utc': '2024-06-04T03:00:00+00:00', 'local': '2024-06-03T20:00:00-07:00'}, 'unit': 'µg/m³', 'coordinates': {'latitude': 45.768531, 'longitude': -122.7721}, 'country': 'US', 'city': None, 'isMobile': False, 'isAnalysis': None, 'entity': 'Governmental Organization', 'sensorType': 'reference grade'}, {'locationId': 1067, 'location': 'Portland - Sauvie Is', 'parameter': 'pm25', 'value': 3.3, 'date': {'utc': '2024-06-04T02:00:00+00:00', 'local': '2024-06-03T19:00:00-07:00'}, 'unit': 'µg/m³', 'coordinates': {'latitude': 45.768531, 'longitude': -122.7721}, 'country': 'US', 'city': None, 'isMobile': False, 'isAnalysis': None, 'entity': 'Governmental Organization', 'sensorType': 'reference grade'}, {'locationId': 1067, 'location': 'Portland - Sauvie Is', 'parameter': 'pm25', 'value': 3.5, 'date': {'utc': '2024-06-04T01:00:00+00:00', 'local': '2024-06-03T18:00:00-07:00'}, 'unit': 'µg/m³', 'coordinates': {'latitude': 45.768531, 'longitude': -122.7721}, 'country': 'US', 'city': None, 'isMobile': False, 'isAnalysis': None, 'entity': 'Governmental Organization', 'sensorType': 'reference grade'}, {'locationId': 1067, 'location': 'Portland - Sauvie Is', 'parameter': 'pm25', 'value': 3.3, 'date': {'utc': '2024-06-04T00:00:00+00:00', 'local': '2024-06-03T17:00:00-07:00'}, 'unit': 'µg/m³', 'coordinates': {'latitude': 45.768531, 'longitude': -122.7721}, 'country': 'US', 'city': None, 'isMobile': False, 'isAnalysis': None, 'entity': 'Governmental Organization', 'sensorType': 'reference grade'}, {'locationId': 1067, 'location': 'Portland - Sauvie Is', 'parameter': 'pm25', 'value': 3.1, 'date': {'utc': '2024-06-03T23:00:00+00:00', 'local': '2024-06-03T16:00:00-07:00'}, 'unit': 'µg/m³', 'coordinates': {'latitude': 45.768531, 'longitude': -122.7721}, 'country': 'US', 'city': None, 'isMobile': False, 'isAnalysis': None, 'entity': 'Governmental Organization', 'sensorType': 'reference grade'}, {'locationId': 1067, 'location': 'Portland - Sauvie Is', 'parameter': 'pm25', 'value': 3.2, 'date': {'utc': '2024-06-03T22:00:00+00:00', 'local': '2024-06-03T15:00:00-07:00'}, 'unit': 'µg/m³', 'coordinates': {'latitude': 45.768531, 'longitude': -122.7721}, 'country': 'US', 'city': None, 'isMobile': False, 'isAnalysis': None, 'entity': 'Governmental Organization', 'sensorType': 'reference grade'}, {'locationId': 1067, 'location': 'Portland - Sauvie Is', 'parameter': 'pm25', 'value': 3.3, 'date': {'utc': '2024-06-03T21:00:00+00:00', 'local': '2024-06-03T14:00:00-07:00'}, 'unit': 'µg/m³', 'coordinates': {'latitude': 45.768531, 'longitude': -122.7721}, 'country': 'US', 'city': None, 'isMobile': False, 'isAnalysis': None, 'entity': 'Governmental Organization', 'sensorType': 'reference grade'}, {'locationId': 1067, 'location': 'Portland - Sauvie Is', 'parameter': 'pm25', 'value': 3.1, 'date': {'utc': '2024-06-03T20:00:00+00:00', 'local': '2024-06-03T13:00:00-07:00'}, 'unit': 'µg/m³', 'coordinates': {'latitude': 45.768531, 'longitude': -122.7721}, 'country': 'US', 'city': None, 'isMobile': False, 'isAnalysis': None, 'entity': 'Governmental Organization', 'sensorType': 'reference grade'}, {'locationId': 1067, 'location': 'Portland - Sauvie Is', 'parameter': 'pm25', 'value': 3.0, 'date': {'utc': '2024-06-03T19:00:00+00:00', 'local': '2024-06-03T12:00:00-07:00'}, 'unit': 'µg/m³', 'coordinates': {'latitude': 45.768531, 'longitude': -122.7721}, 'country': 'US', 'city': None, 'isMobile': False, 'isAnalysis': None, 'entity': 'Governmental Organization', 'sensorType': 'reference grade'}, {'locationId': 1067, 'location': 'Portland - Sauvie Is', 'parameter': 'pm25', 'value': 2.9, 'date': {'utc': '2024-06-03T18:00:00+00:00', 'local': '2024-06-03T11:00:00-07:00'}, 'unit': 'µg/m³', 'coordinates': {'latitude': 45.768531, 'longitude': -122.7721}, 'country': 'US', 'city': None, 'isMobile': False, 'isAnalysis': None, 'entity': 'Governmental Organization', 'sensorType': 'reference grade'}, {'locationId': 1067, 'location': 'Portland - Sauvie Is', 'parameter': 'pm25', 'value': 2.6, 'date': {'utc': '2024-06-03T17:00:00+00:00', 'local': '2024-06-03T10:00:00-07:00'}, 'unit': 'µg/m³', 'coordinates': {'latitude': 45.768531, 'longitude': -122.7721}, 'country': 'US', 'city': None, 'isMobile': False, 'isAnalysis': None, 'entity': 'Governmental Organization', 'sensorType': 'reference grade'}, {'locationId': 1067, 'location': 'Portland - Sauvie Is', 'parameter': 'pm25', 'value': 2.7, 'date': {'utc': '2024-06-03T16:00:00+00:00', 'local': '2024-06-03T09:00:00-07:00'}, 'unit': 'µg/m³', 'coordinates': {'latitude': 45.768531, 'longitude': -122.7721}, 'country': 'US', 'city': None, 'isMobile': False, 'isAnalysis': None, 'entity': 'Governmental Organization', 'sensorType': 'reference grade'}, {'locationId': 1067, 'location': 'Portland - Sauvie Is', 'parameter': 'pm25', 'value': 3.7, 'date': {'utc': '2024-06-03T15:00:00+00:00', 'local': '2024-06-03T08:00:00-07:00'}, 'unit': 'µg/m³', 'coordinates': {'latitude': 45.768531, 'longitude': -122.7721}, 'country': 'US', 'city': None, 'isMobile': False, 'isAnalysis': None, 'entity': 'Governmental Organization', 'sensorType': 'reference grade'}, {'locationId': 1067, 'location': 'Portland - Sauvie Is', 'parameter': 'pm25', 'value': 3.9, 'date': {'utc': '2024-06-03T14:00:00+00:00', 'local': '2024-06-03T07:00:00-07:00'}, 'unit': 'µg/m³', 'coordinates': {'latitude': 45.768531, 'longitude': -122.7721}, 'country': 'US', 'city': None, 'isMobile': False, 'isAnalysis': None, 'entity': 'Governmental Organization', 'sensorType': 'reference grade'}, {'locationId': 1067, 'location': 'Portland - Sauvie Is', 'parameter': 'pm25', 'value': 3.8, 'date': {'utc': '2024-06-03T13:00:00+00:00', 'local': '2024-06-03T06:00:00-07:00'}, 'unit': 'µg/m³', 'coordinates': {'latitude': 45.768531, 'longitude': -122.7721}, 'country': 'US', 'city': None, 'isMobile': False, 'isAnalysis': None, 'entity': 'Governmental Organization', 'sensorType': 'reference grade'}, {'locationId': 1067, 'location': 'Portland - Sauvie Is', 'parameter': 'pm25', 'value': 4.0, 'date': {'utc': '2024-06-03T12:00:00+00:00', 'local': '2024-06-03T05:00:00-07:00'}, 'unit': 'µg/m³', 'coordinates': {'latitude': 45.768531, 'longitude': -122.7721}, 'country': 'US', 'city': None, 'isMobile': False, 'isAnalysis': None, 'entity': 'Governmental Organization', 'sensorType': 'reference grade'}, {'locationId': 1067, 'location': 'Portland - Sauvie Is', 'parameter': 'pm25', 'value': 3.1, 'date': {'utc': '2024-06-03T11:00:00+00:00', 'local': '2024-06-03T04:00:00-07:00'}, 'unit': 'µg/m³', 'coordinates': {'latitude': 45.768531, 'longitude': -122.7721}, 'country': 'US', 'city': None, 'isMobile': False, 'isAnalysis': None, 'entity': 'Governmental Organization', 'sensorType': 'reference grade'}, {'locationId': 1067, 'location': 'Portland - Sauvie Is', 'parameter': 'pm25', 'value': 2.0, 'date': {'utc': '2024-06-03T10:00:00+00:00', 'local': '2024-06-03T03:00:00-07:00'}, 'unit': 'µg/m³', 'coordinates': {'latitude': 45.768531, 'longitude': -122.7721}, 'country': 'US', 'city': None, 'isMobile': False, 'isAnalysis': None, 'entity': 'Governmental Organization', 'sensorType': 'reference grade'}, {'locationId': 1067, 'location': 'Portland - Sauvie Is', 'parameter': 'pm25', 'value': 1.9, 'date': {'utc': '2024-06-03T09:00:00+00:00', 'local': '2024-06-03T02:00:00-07:00'}, 'unit': 'µg/m³', 'coordinates': {'latitude': 45.768531, 'longitude': -122.7721}, 'country': 'US', 'city': None, 'isMobile': False, 'isAnalysis': None, 'entity': 'Governmental Organization', 'sensorType': 'reference grade'}, {'locationId': 1067, 'location': 'Portland - Sauvie Is', 'parameter': 'pm25', 'value': 2.0, 'date': {'utc': '2024-06-03T08:00:00+00:00', 'local': '2024-06-03T01:00:00-07:00'}, 'unit': 'µg/m³', 'coordinates': {'latitude': 45.768531, 'longitude': -122.7721}, 'country': 'US', 'city': None, 'isMobile': False, 'isAnalysis': None, 'entity': 'Governmental Organization', 'sensorType': 'reference grade'}, {'locationId': 1067, 'location': 'Portland - Sauvie Is', 'parameter': 'pm25', 'value': 2.0, 'date': {'utc': '2024-06-03T07:00:00+00:00', 'local': '2024-06-03T00:00:00-07:00'}, 'unit': 'µg/m³', 'coordinates': {'latitude': 45.768531, 'longitude': -122.7721}, 'country': 'US', 'city': None, 'isMobile': False, 'isAnalysis': None, 'entity': 'Governmental Organization', 'sensorType': 'reference grade'}, {'locationId': 1067, 'location': 'Portland - Sauvie Is', 'parameter': 'pm25', 'value': 2.2, 'date': {'utc': '2024-06-03T06:00:00+00:00', 'local': '2024-06-02T23:00:00-07:00'}, 'unit': 'µg/m³', 'coordinates': {'latitude': 45.768531, 'longitude': -122.7721}, 'country': 'US', 'city': None, 'isMobile': False, 'isAnalysis': None, 'entity': 'Governmental Organization', 'sensorType': 'reference grade'}, {'locationId': 1067, 'location': 'Portland - Sauvie Is', 'parameter': 'pm25', 'value': 2.5, 'date': {'utc': '2024-06-03T05:00:00+00:00', 'local': '2024-06-02T22:00:00-07:00'}, 'unit': 'µg/m³', 'coordinates': {'latitude': 45.768531, 'longitude': -122.7721}, 'country': 'US', 'city': None, 'isMobile': False, 'isAnalysis': None, 'entity': 'Governmental Organization', 'sensorType': 'reference grade'}, {'locationId': 1067, 'location': 'Portland - Sauvie Is', 'parameter': 'pm25', 'value': 2.2, 'date': {'utc': '2024-06-03T04:00:00+00:00', 'local': '2024-06-02T21:00:00-07:00'}, 'unit': 'µg/m³', 'coordinates': {'latitude': 45.768531, 'longitude': -122.7721}, 'country': 'US', 'city': None, 'isMobile': False, 'isAnalysis': None, 'entity': 'Governmental Organization', 'sensorType': 'reference grade'}, {'locationId': 1067, 'location': 'Portland - Sauvie Is', 'parameter': 'pm25', 'value': 2.3, 'date': {'utc': '2024-06-03T03:00:00+00:00', 'local': '2024-06-02T20:00:00-07:00'}, 'unit': 'µg/m³', 'coordinates': {'latitude': 45.768531, 'longitude': -122.7721}, 'country': 'US', 'city': None, 'isMobile': False, 'isAnalysis': None, 'entity': 'Governmental Organization', 'sensorType': 'reference grade'}, {'locationId': 1067, 'location': 'Portland - Sauvie Is', 'parameter': 'pm25', 'value': 2.3, 'date': {'utc': '2024-06-03T02:00:00+00:00', 'local': '2024-06-02T19:00:00-07:00'}, 'unit': 'µg/m³', 'coordinates': {'latitude': 45.768531, 'longitude': -122.7721}, 'country': 'US', 'city': None, 'isMobile': False, 'isAnalysis': None, 'entity': 'Governmental Organization', 'sensorType': 'reference grade'}, {'locationId': 1067, 'location': 'Portland - Sauvie Is', 'parameter': 'pm25', 'value': 1.9, 'date': {'utc': '2024-06-03T01:00:00+00:00', 'local': '2024-06-02T18:00:00-07:00'}, 'unit': 'µg/m³', 'coordinates': {'latitude': 45.768531, 'longitude': -122.7721}, 'country': 'US', 'city': None, 'isMobile': False, 'isAnalysis': None, 'entity': 'Governmental Organization', 'sensorType': 'reference grade'}, {'locationId': 1067, 'location': 'Portland - Sauvie Is', 'parameter': 'pm25', 'value': 2.0, 'date': {'utc': '2024-06-03T00:00:00+00:00', 'local': '2024-06-02T17:00:00-07:00'}, 'unit': 'µg/m³', 'coordinates': {'latitude': 45.768531, 'longitude': -122.7721}, 'country': 'US', 'city': None, 'isMobile': False, 'isAnalysis': None, 'entity': 'Governmental Organization', 'sensorType': 'reference grade'}, {'locationId': 1067, 'location': 'Portland - Sauvie Is', 'parameter': 'pm25', 'value': 2.1, 'date': {'utc': '2024-06-02T23:00:00+00:00', 'local': '2024-06-02T16:00:00-07:00'}, 'unit': 'µg/m³', 'coordinates': {'latitude': 45.768531, 'longitude': -122.7721}, 'country': 'US', 'city': None, 'isMobile': False, 'isAnalysis': None, 'entity': 'Governmental Organization', 'sensorType': 'reference grade'}, {'locationId': 1067, 'location': 'Portland - Sauvie Is', 'parameter': 'pm25', 'value': 2.5, 'date': {'utc': '2024-06-02T22:00:00+00:00', 'local': '2024-06-02T15:00:00-07:00'}, 'unit': 'µg/m³', 'coordinates': {'latitude': 45.768531, 'longitude': -122.7721}, 'country': 'US', 'city': None, 'isMobile': False, 'isAnalysis': None, 'entity': 'Governmental Organization', 'sensorType': 'reference grade'}, {'locationId': 1067, 'location': 'Portland - Sauvie Is', 'parameter': 'pm25', 'value': 2.7, 'date': {'utc': '2024-06-02T21:00:00+00:00', 'local': '2024-06-02T14:00:00-07:00'}, 'unit': 'µg/m³', 'coordinates': {'latitude': 45.768531, 'longitude': -122.7721}, 'country': 'US', 'city': None, 'isMobile': False, 'isAnalysis': None, 'entity': 'Governmental Organization', 'sensorType': 'reference grade'}, {'locationId': 1067, 'location': 'Portland - Sauvie Is', 'parameter': 'pm25', 'value': 2.6, 'date': {'utc': '2024-06-02T20:00:00+00:00', 'local': '2024-06-02T13:00:00-07:00'}, 'unit': 'µg/m³', 'coordinates': {'latitude': 45.768531, 'longitude': -122.7721}, 'country': 'US', 'city': None, 'isMobile': False, 'isAnalysis': None, 'entity': 'Governmental Organization', 'sensorType': 'reference grade'}, {'locationId': 1067, 'location': 'Portland - Sauvie Is', 'parameter': 'pm25', 'value': 2.3, 'date': {'utc': '2024-06-02T19:00:00+00:00', 'local': '2024-06-02T12:00:00-07:00'}, 'unit': 'µg/m³', 'coordinates': {'latitude': 45.768531, 'longitude': -122.7721}, 'country': 'US', 'city': None, 'isMobile': False, 'isAnalysis': None, 'entity': 'Governmental Organization', 'sensorType': 'reference grade'}, {'locationId': 1067, 'location': 'Portland - Sauvie Is', 'parameter': 'pm25', 'value': 2.3, 'date': {'utc': '2024-06-02T18:00:00+00:00', 'local': '2024-06-02T11:00:00-07:00'}, 'unit': 'µg/m³', 'coordinates': {'latitude': 45.768531, 'longitude': -122.7721}, 'country': 'US', 'city': None, 'isMobile': False, 'isAnalysis': None, 'entity': 'Governmental Organization', 'sensorType': 'reference grade'}, {'locationId': 1067, 'location': 'Portland - Sauvie Is', 'parameter': 'pm25', 'value': 2.3, 'date': {'utc': '2024-06-02T17:00:00+00:00', 'local': '2024-06-02T10:00:00-07:00'}, 'unit': 'µg/m³', 'coordinates': {'latitude': 45.768531, 'longitude': -122.7721}, 'country': 'US', 'city': None, 'isMobile': False, 'isAnalysis': None, 'entity': 'Governmental Organization', 'sensorType': 'reference grade'}]\n"
     ]
    },
    {
     "data": {
      "text/html": [
       "<div>\n",
       "<style scoped>\n",
       "    .dataframe tbody tr th:only-of-type {\n",
       "        vertical-align: middle;\n",
       "    }\n",
       "\n",
       "    .dataframe tbody tr th {\n",
       "        vertical-align: top;\n",
       "    }\n",
       "\n",
       "    .dataframe thead th {\n",
       "        text-align: right;\n",
       "    }\n",
       "</style>\n",
       "<table border=\"1\" class=\"dataframe\">\n",
       "  <thead>\n",
       "    <tr style=\"text-align: right;\">\n",
       "      <th></th>\n",
       "      <th>Date</th>\n",
       "      <th>Value</th>\n",
       "      <th>location</th>\n",
       "      <th>parameter</th>\n",
       "    </tr>\n",
       "  </thead>\n",
       "  <tbody>\n",
       "    <tr>\n",
       "      <th>0</th>\n",
       "      <td>2024-06-06T20:00:00+00:00</td>\n",
       "      <td>4.0</td>\n",
       "      <td>1067</td>\n",
       "      <td>pm25</td>\n",
       "    </tr>\n",
       "    <tr>\n",
       "      <th>1</th>\n",
       "      <td>2024-06-06T19:00:00+00:00</td>\n",
       "      <td>4.6</td>\n",
       "      <td>1067</td>\n",
       "      <td>pm25</td>\n",
       "    </tr>\n",
       "    <tr>\n",
       "      <th>2</th>\n",
       "      <td>2024-06-06T18:00:00+00:00</td>\n",
       "      <td>4.9</td>\n",
       "      <td>1067</td>\n",
       "      <td>pm25</td>\n",
       "    </tr>\n",
       "    <tr>\n",
       "      <th>3</th>\n",
       "      <td>2024-06-06T17:00:00+00:00</td>\n",
       "      <td>4.9</td>\n",
       "      <td>1067</td>\n",
       "      <td>pm25</td>\n",
       "    </tr>\n",
       "    <tr>\n",
       "      <th>4</th>\n",
       "      <td>2024-06-06T16:00:00+00:00</td>\n",
       "      <td>4.8</td>\n",
       "      <td>1067</td>\n",
       "      <td>pm25</td>\n",
       "    </tr>\n",
       "    <tr>\n",
       "      <th>5</th>\n",
       "      <td>2024-06-06T15:00:00+00:00</td>\n",
       "      <td>5.0</td>\n",
       "      <td>1067</td>\n",
       "      <td>pm25</td>\n",
       "    </tr>\n",
       "    <tr>\n",
       "      <th>6</th>\n",
       "      <td>2024-06-06T14:00:00+00:00</td>\n",
       "      <td>4.9</td>\n",
       "      <td>1067</td>\n",
       "      <td>pm25</td>\n",
       "    </tr>\n",
       "    <tr>\n",
       "      <th>7</th>\n",
       "      <td>2024-06-06T13:00:00+00:00</td>\n",
       "      <td>4.8</td>\n",
       "      <td>1067</td>\n",
       "      <td>pm25</td>\n",
       "    </tr>\n",
       "    <tr>\n",
       "      <th>8</th>\n",
       "      <td>2024-06-06T12:00:00+00:00</td>\n",
       "      <td>4.8</td>\n",
       "      <td>1067</td>\n",
       "      <td>pm25</td>\n",
       "    </tr>\n",
       "    <tr>\n",
       "      <th>9</th>\n",
       "      <td>2024-06-06T11:00:00+00:00</td>\n",
       "      <td>4.9</td>\n",
       "      <td>1067</td>\n",
       "      <td>pm25</td>\n",
       "    </tr>\n",
       "  </tbody>\n",
       "</table>\n",
       "</div>"
      ],
      "text/plain": [
       "                        Date  Value  location parameter\n",
       "0  2024-06-06T20:00:00+00:00    4.0      1067      pm25\n",
       "1  2024-06-06T19:00:00+00:00    4.6      1067      pm25\n",
       "2  2024-06-06T18:00:00+00:00    4.9      1067      pm25\n",
       "3  2024-06-06T17:00:00+00:00    4.9      1067      pm25\n",
       "4  2024-06-06T16:00:00+00:00    4.8      1067      pm25\n",
       "5  2024-06-06T15:00:00+00:00    5.0      1067      pm25\n",
       "6  2024-06-06T14:00:00+00:00    4.9      1067      pm25\n",
       "7  2024-06-06T13:00:00+00:00    4.8      1067      pm25\n",
       "8  2024-06-06T12:00:00+00:00    4.8      1067      pm25\n",
       "9  2024-06-06T11:00:00+00:00    4.9      1067      pm25"
      ]
     },
     "execution_count": 8,
     "metadata": {},
     "output_type": "execute_result"
    }
   ],
   "source": [
    "test_location = 1067\n",
    "test_df = query_weather_data(test_location)\n",
    "test_df.head(10)"
   ]
  },
  {
   "cell_type": "markdown",
   "metadata": {},
   "source": [
    "### Visualizing"
   ]
  },
  {
   "cell_type": "code",
   "execution_count": 9,
   "metadata": {},
   "outputs": [
    {
     "data": {
      "application/vnd.plotly.v1+json": {
       "config": {
        "plotlyServerURL": "https://plot.ly"
       },
       "data": [
        {
         "hovertemplate": "Date=%{x}<br>Value=%{y}<extra></extra>",
         "legendgroup": "",
         "line": {
          "color": "#636efa",
          "dash": "solid"
         },
         "marker": {
          "symbol": "circle"
         },
         "mode": "lines",
         "name": "",
         "orientation": "v",
         "showlegend": false,
         "type": "scatter",
         "x": [
          "2024-06-06T20:00:00+00:00",
          "2024-06-06T19:00:00+00:00",
          "2024-06-06T18:00:00+00:00",
          "2024-06-06T17:00:00+00:00",
          "2024-06-06T16:00:00+00:00",
          "2024-06-06T15:00:00+00:00",
          "2024-06-06T14:00:00+00:00",
          "2024-06-06T13:00:00+00:00",
          "2024-06-06T12:00:00+00:00",
          "2024-06-06T11:00:00+00:00",
          "2024-06-06T10:00:00+00:00",
          "2024-06-06T09:00:00+00:00",
          "2024-06-06T08:00:00+00:00",
          "2024-06-06T07:00:00+00:00",
          "2024-06-06T06:00:00+00:00",
          "2024-06-06T05:00:00+00:00",
          "2024-06-06T04:00:00+00:00",
          "2024-06-06T03:00:00+00:00",
          "2024-06-06T02:00:00+00:00",
          "2024-06-06T01:00:00+00:00",
          "2024-06-06T00:00:00+00:00",
          "2024-06-05T23:00:00+00:00",
          "2024-06-05T22:00:00+00:00",
          "2024-06-05T21:00:00+00:00",
          "2024-06-05T20:00:00+00:00",
          "2024-06-05T19:00:00+00:00",
          "2024-06-05T18:00:00+00:00",
          "2024-06-05T17:00:00+00:00",
          "2024-06-05T16:00:00+00:00",
          "2024-06-05T15:00:00+00:00",
          "2024-06-05T14:00:00+00:00",
          "2024-06-05T13:00:00+00:00",
          "2024-06-05T12:00:00+00:00",
          "2024-06-05T11:00:00+00:00",
          "2024-06-05T10:00:00+00:00",
          "2024-06-05T09:00:00+00:00",
          "2024-06-05T08:00:00+00:00",
          "2024-06-05T07:00:00+00:00",
          "2024-06-05T06:00:00+00:00",
          "2024-06-05T05:00:00+00:00",
          "2024-06-05T04:00:00+00:00",
          "2024-06-05T03:00:00+00:00",
          "2024-06-05T02:00:00+00:00",
          "2024-06-05T01:00:00+00:00",
          "2024-06-05T00:00:00+00:00",
          "2024-06-04T23:00:00+00:00",
          "2024-06-04T22:00:00+00:00",
          "2024-06-04T21:00:00+00:00",
          "2024-06-04T20:00:00+00:00",
          "2024-06-04T19:00:00+00:00",
          "2024-06-04T18:00:00+00:00",
          "2024-06-04T17:00:00+00:00",
          "2024-06-04T16:00:00+00:00",
          "2024-06-04T15:00:00+00:00",
          "2024-06-04T14:00:00+00:00",
          "2024-06-04T13:00:00+00:00",
          "2024-06-04T12:00:00+00:00",
          "2024-06-04T11:00:00+00:00",
          "2024-06-04T10:00:00+00:00",
          "2024-06-04T09:00:00+00:00",
          "2024-06-04T08:00:00+00:00",
          "2024-06-04T07:00:00+00:00",
          "2024-06-04T06:00:00+00:00",
          "2024-06-04T05:00:00+00:00",
          "2024-06-04T04:00:00+00:00",
          "2024-06-04T03:00:00+00:00",
          "2024-06-04T02:00:00+00:00",
          "2024-06-04T01:00:00+00:00",
          "2024-06-04T00:00:00+00:00",
          "2024-06-03T23:00:00+00:00",
          "2024-06-03T22:00:00+00:00",
          "2024-06-03T21:00:00+00:00",
          "2024-06-03T20:00:00+00:00",
          "2024-06-03T19:00:00+00:00",
          "2024-06-03T18:00:00+00:00",
          "2024-06-03T17:00:00+00:00",
          "2024-06-03T16:00:00+00:00",
          "2024-06-03T15:00:00+00:00",
          "2024-06-03T14:00:00+00:00",
          "2024-06-03T13:00:00+00:00",
          "2024-06-03T12:00:00+00:00",
          "2024-06-03T11:00:00+00:00",
          "2024-06-03T10:00:00+00:00",
          "2024-06-03T09:00:00+00:00",
          "2024-06-03T08:00:00+00:00",
          "2024-06-03T07:00:00+00:00",
          "2024-06-03T06:00:00+00:00",
          "2024-06-03T05:00:00+00:00",
          "2024-06-03T04:00:00+00:00",
          "2024-06-03T03:00:00+00:00",
          "2024-06-03T02:00:00+00:00",
          "2024-06-03T01:00:00+00:00",
          "2024-06-03T00:00:00+00:00",
          "2024-06-02T23:00:00+00:00",
          "2024-06-02T22:00:00+00:00",
          "2024-06-02T21:00:00+00:00",
          "2024-06-02T20:00:00+00:00",
          "2024-06-02T19:00:00+00:00",
          "2024-06-02T18:00:00+00:00",
          "2024-06-02T17:00:00+00:00"
         ],
         "xaxis": "x",
         "y": [
          4,
          4.6,
          4.9,
          4.9,
          4.8,
          5,
          4.9,
          4.8,
          4.8,
          4.9,
          5,
          5.1,
          4.9,
          4.7,
          4.9,
          5.2,
          5.5,
          4.4,
          4.6,
          3.6,
          3.2,
          3.7,
          3.4,
          3.4,
          3.6,
          3.7,
          5.8,
          8.1,
          9.3,
          10.8,
          15.2,
          12.2,
          5.5,
          5.1,
          5.2,
          5.3,
          5.2,
          4.9,
          4.9,
          5.3,
          4.9,
          4,
          3.5,
          2.4,
          1.8,
          1.8,
          3.2,
          4.9,
          5,
          4.8,
          4.6,
          4.4,
          4.3,
          4.2,
          4.1,
          4.4,
          4.6,
          4.6,
          4.5,
          3.7,
          4.3,
          4,
          4,
          3.6,
          3.4,
          3.4,
          3.3,
          3.5,
          3.3,
          3.1,
          3.2,
          3.3,
          3.1,
          3,
          2.9,
          2.6,
          2.7,
          3.7,
          3.9,
          3.8,
          4,
          3.1,
          2,
          1.9,
          2,
          2,
          2.2,
          2.5,
          2.2,
          2.3,
          2.3,
          1.9,
          2,
          2.1,
          2.5,
          2.7,
          2.6,
          2.3,
          2.3,
          2.3
         ],
         "yaxis": "y"
        }
       ],
       "layout": {
        "legend": {
         "tracegroupgap": 0
        },
        "template": {
         "data": {
          "bar": [
           {
            "error_x": {
             "color": "#2a3f5f"
            },
            "error_y": {
             "color": "#2a3f5f"
            },
            "marker": {
             "line": {
              "color": "#E5ECF6",
              "width": 0.5
             },
             "pattern": {
              "fillmode": "overlay",
              "size": 10,
              "solidity": 0.2
             }
            },
            "type": "bar"
           }
          ],
          "barpolar": [
           {
            "marker": {
             "line": {
              "color": "#E5ECF6",
              "width": 0.5
             },
             "pattern": {
              "fillmode": "overlay",
              "size": 10,
              "solidity": 0.2
             }
            },
            "type": "barpolar"
           }
          ],
          "carpet": [
           {
            "aaxis": {
             "endlinecolor": "#2a3f5f",
             "gridcolor": "white",
             "linecolor": "white",
             "minorgridcolor": "white",
             "startlinecolor": "#2a3f5f"
            },
            "baxis": {
             "endlinecolor": "#2a3f5f",
             "gridcolor": "white",
             "linecolor": "white",
             "minorgridcolor": "white",
             "startlinecolor": "#2a3f5f"
            },
            "type": "carpet"
           }
          ],
          "choropleth": [
           {
            "colorbar": {
             "outlinewidth": 0,
             "ticks": ""
            },
            "type": "choropleth"
           }
          ],
          "contour": [
           {
            "colorbar": {
             "outlinewidth": 0,
             "ticks": ""
            },
            "colorscale": [
             [
              0,
              "#0d0887"
             ],
             [
              0.1111111111111111,
              "#46039f"
             ],
             [
              0.2222222222222222,
              "#7201a8"
             ],
             [
              0.3333333333333333,
              "#9c179e"
             ],
             [
              0.4444444444444444,
              "#bd3786"
             ],
             [
              0.5555555555555556,
              "#d8576b"
             ],
             [
              0.6666666666666666,
              "#ed7953"
             ],
             [
              0.7777777777777778,
              "#fb9f3a"
             ],
             [
              0.8888888888888888,
              "#fdca26"
             ],
             [
              1,
              "#f0f921"
             ]
            ],
            "type": "contour"
           }
          ],
          "contourcarpet": [
           {
            "colorbar": {
             "outlinewidth": 0,
             "ticks": ""
            },
            "type": "contourcarpet"
           }
          ],
          "heatmap": [
           {
            "colorbar": {
             "outlinewidth": 0,
             "ticks": ""
            },
            "colorscale": [
             [
              0,
              "#0d0887"
             ],
             [
              0.1111111111111111,
              "#46039f"
             ],
             [
              0.2222222222222222,
              "#7201a8"
             ],
             [
              0.3333333333333333,
              "#9c179e"
             ],
             [
              0.4444444444444444,
              "#bd3786"
             ],
             [
              0.5555555555555556,
              "#d8576b"
             ],
             [
              0.6666666666666666,
              "#ed7953"
             ],
             [
              0.7777777777777778,
              "#fb9f3a"
             ],
             [
              0.8888888888888888,
              "#fdca26"
             ],
             [
              1,
              "#f0f921"
             ]
            ],
            "type": "heatmap"
           }
          ],
          "heatmapgl": [
           {
            "colorbar": {
             "outlinewidth": 0,
             "ticks": ""
            },
            "colorscale": [
             [
              0,
              "#0d0887"
             ],
             [
              0.1111111111111111,
              "#46039f"
             ],
             [
              0.2222222222222222,
              "#7201a8"
             ],
             [
              0.3333333333333333,
              "#9c179e"
             ],
             [
              0.4444444444444444,
              "#bd3786"
             ],
             [
              0.5555555555555556,
              "#d8576b"
             ],
             [
              0.6666666666666666,
              "#ed7953"
             ],
             [
              0.7777777777777778,
              "#fb9f3a"
             ],
             [
              0.8888888888888888,
              "#fdca26"
             ],
             [
              1,
              "#f0f921"
             ]
            ],
            "type": "heatmapgl"
           }
          ],
          "histogram": [
           {
            "marker": {
             "pattern": {
              "fillmode": "overlay",
              "size": 10,
              "solidity": 0.2
             }
            },
            "type": "histogram"
           }
          ],
          "histogram2d": [
           {
            "colorbar": {
             "outlinewidth": 0,
             "ticks": ""
            },
            "colorscale": [
             [
              0,
              "#0d0887"
             ],
             [
              0.1111111111111111,
              "#46039f"
             ],
             [
              0.2222222222222222,
              "#7201a8"
             ],
             [
              0.3333333333333333,
              "#9c179e"
             ],
             [
              0.4444444444444444,
              "#bd3786"
             ],
             [
              0.5555555555555556,
              "#d8576b"
             ],
             [
              0.6666666666666666,
              "#ed7953"
             ],
             [
              0.7777777777777778,
              "#fb9f3a"
             ],
             [
              0.8888888888888888,
              "#fdca26"
             ],
             [
              1,
              "#f0f921"
             ]
            ],
            "type": "histogram2d"
           }
          ],
          "histogram2dcontour": [
           {
            "colorbar": {
             "outlinewidth": 0,
             "ticks": ""
            },
            "colorscale": [
             [
              0,
              "#0d0887"
             ],
             [
              0.1111111111111111,
              "#46039f"
             ],
             [
              0.2222222222222222,
              "#7201a8"
             ],
             [
              0.3333333333333333,
              "#9c179e"
             ],
             [
              0.4444444444444444,
              "#bd3786"
             ],
             [
              0.5555555555555556,
              "#d8576b"
             ],
             [
              0.6666666666666666,
              "#ed7953"
             ],
             [
              0.7777777777777778,
              "#fb9f3a"
             ],
             [
              0.8888888888888888,
              "#fdca26"
             ],
             [
              1,
              "#f0f921"
             ]
            ],
            "type": "histogram2dcontour"
           }
          ],
          "mesh3d": [
           {
            "colorbar": {
             "outlinewidth": 0,
             "ticks": ""
            },
            "type": "mesh3d"
           }
          ],
          "parcoords": [
           {
            "line": {
             "colorbar": {
              "outlinewidth": 0,
              "ticks": ""
             }
            },
            "type": "parcoords"
           }
          ],
          "pie": [
           {
            "automargin": true,
            "type": "pie"
           }
          ],
          "scatter": [
           {
            "fillpattern": {
             "fillmode": "overlay",
             "size": 10,
             "solidity": 0.2
            },
            "type": "scatter"
           }
          ],
          "scatter3d": [
           {
            "line": {
             "colorbar": {
              "outlinewidth": 0,
              "ticks": ""
             }
            },
            "marker": {
             "colorbar": {
              "outlinewidth": 0,
              "ticks": ""
             }
            },
            "type": "scatter3d"
           }
          ],
          "scattercarpet": [
           {
            "marker": {
             "colorbar": {
              "outlinewidth": 0,
              "ticks": ""
             }
            },
            "type": "scattercarpet"
           }
          ],
          "scattergeo": [
           {
            "marker": {
             "colorbar": {
              "outlinewidth": 0,
              "ticks": ""
             }
            },
            "type": "scattergeo"
           }
          ],
          "scattergl": [
           {
            "marker": {
             "colorbar": {
              "outlinewidth": 0,
              "ticks": ""
             }
            },
            "type": "scattergl"
           }
          ],
          "scattermapbox": [
           {
            "marker": {
             "colorbar": {
              "outlinewidth": 0,
              "ticks": ""
             }
            },
            "type": "scattermapbox"
           }
          ],
          "scatterpolar": [
           {
            "marker": {
             "colorbar": {
              "outlinewidth": 0,
              "ticks": ""
             }
            },
            "type": "scatterpolar"
           }
          ],
          "scatterpolargl": [
           {
            "marker": {
             "colorbar": {
              "outlinewidth": 0,
              "ticks": ""
             }
            },
            "type": "scatterpolargl"
           }
          ],
          "scatterternary": [
           {
            "marker": {
             "colorbar": {
              "outlinewidth": 0,
              "ticks": ""
             }
            },
            "type": "scatterternary"
           }
          ],
          "surface": [
           {
            "colorbar": {
             "outlinewidth": 0,
             "ticks": ""
            },
            "colorscale": [
             [
              0,
              "#0d0887"
             ],
             [
              0.1111111111111111,
              "#46039f"
             ],
             [
              0.2222222222222222,
              "#7201a8"
             ],
             [
              0.3333333333333333,
              "#9c179e"
             ],
             [
              0.4444444444444444,
              "#bd3786"
             ],
             [
              0.5555555555555556,
              "#d8576b"
             ],
             [
              0.6666666666666666,
              "#ed7953"
             ],
             [
              0.7777777777777778,
              "#fb9f3a"
             ],
             [
              0.8888888888888888,
              "#fdca26"
             ],
             [
              1,
              "#f0f921"
             ]
            ],
            "type": "surface"
           }
          ],
          "table": [
           {
            "cells": {
             "fill": {
              "color": "#EBF0F8"
             },
             "line": {
              "color": "white"
             }
            },
            "header": {
             "fill": {
              "color": "#C8D4E3"
             },
             "line": {
              "color": "white"
             }
            },
            "type": "table"
           }
          ]
         },
         "layout": {
          "annotationdefaults": {
           "arrowcolor": "#2a3f5f",
           "arrowhead": 0,
           "arrowwidth": 1
          },
          "autotypenumbers": "strict",
          "coloraxis": {
           "colorbar": {
            "outlinewidth": 0,
            "ticks": ""
           }
          },
          "colorscale": {
           "diverging": [
            [
             0,
             "#8e0152"
            ],
            [
             0.1,
             "#c51b7d"
            ],
            [
             0.2,
             "#de77ae"
            ],
            [
             0.3,
             "#f1b6da"
            ],
            [
             0.4,
             "#fde0ef"
            ],
            [
             0.5,
             "#f7f7f7"
            ],
            [
             0.6,
             "#e6f5d0"
            ],
            [
             0.7,
             "#b8e186"
            ],
            [
             0.8,
             "#7fbc41"
            ],
            [
             0.9,
             "#4d9221"
            ],
            [
             1,
             "#276419"
            ]
           ],
           "sequential": [
            [
             0,
             "#0d0887"
            ],
            [
             0.1111111111111111,
             "#46039f"
            ],
            [
             0.2222222222222222,
             "#7201a8"
            ],
            [
             0.3333333333333333,
             "#9c179e"
            ],
            [
             0.4444444444444444,
             "#bd3786"
            ],
            [
             0.5555555555555556,
             "#d8576b"
            ],
            [
             0.6666666666666666,
             "#ed7953"
            ],
            [
             0.7777777777777778,
             "#fb9f3a"
            ],
            [
             0.8888888888888888,
             "#fdca26"
            ],
            [
             1,
             "#f0f921"
            ]
           ],
           "sequentialminus": [
            [
             0,
             "#0d0887"
            ],
            [
             0.1111111111111111,
             "#46039f"
            ],
            [
             0.2222222222222222,
             "#7201a8"
            ],
            [
             0.3333333333333333,
             "#9c179e"
            ],
            [
             0.4444444444444444,
             "#bd3786"
            ],
            [
             0.5555555555555556,
             "#d8576b"
            ],
            [
             0.6666666666666666,
             "#ed7953"
            ],
            [
             0.7777777777777778,
             "#fb9f3a"
            ],
            [
             0.8888888888888888,
             "#fdca26"
            ],
            [
             1,
             "#f0f921"
            ]
           ]
          },
          "colorway": [
           "#636efa",
           "#EF553B",
           "#00cc96",
           "#ab63fa",
           "#FFA15A",
           "#19d3f3",
           "#FF6692",
           "#B6E880",
           "#FF97FF",
           "#FECB52"
          ],
          "font": {
           "color": "#2a3f5f"
          },
          "geo": {
           "bgcolor": "white",
           "lakecolor": "white",
           "landcolor": "#E5ECF6",
           "showlakes": true,
           "showland": true,
           "subunitcolor": "white"
          },
          "hoverlabel": {
           "align": "left"
          },
          "hovermode": "closest",
          "mapbox": {
           "style": "light"
          },
          "paper_bgcolor": "white",
          "plot_bgcolor": "#E5ECF6",
          "polar": {
           "angularaxis": {
            "gridcolor": "white",
            "linecolor": "white",
            "ticks": ""
           },
           "bgcolor": "#E5ECF6",
           "radialaxis": {
            "gridcolor": "white",
            "linecolor": "white",
            "ticks": ""
           }
          },
          "scene": {
           "xaxis": {
            "backgroundcolor": "#E5ECF6",
            "gridcolor": "white",
            "gridwidth": 2,
            "linecolor": "white",
            "showbackground": true,
            "ticks": "",
            "zerolinecolor": "white"
           },
           "yaxis": {
            "backgroundcolor": "#E5ECF6",
            "gridcolor": "white",
            "gridwidth": 2,
            "linecolor": "white",
            "showbackground": true,
            "ticks": "",
            "zerolinecolor": "white"
           },
           "zaxis": {
            "backgroundcolor": "#E5ECF6",
            "gridcolor": "white",
            "gridwidth": 2,
            "linecolor": "white",
            "showbackground": true,
            "ticks": "",
            "zerolinecolor": "white"
           }
          },
          "shapedefaults": {
           "line": {
            "color": "#2a3f5f"
           }
          },
          "ternary": {
           "aaxis": {
            "gridcolor": "white",
            "linecolor": "white",
            "ticks": ""
           },
           "baxis": {
            "gridcolor": "white",
            "linecolor": "white",
            "ticks": ""
           },
           "bgcolor": "#E5ECF6",
           "caxis": {
            "gridcolor": "white",
            "linecolor": "white",
            "ticks": ""
           }
          },
          "title": {
           "x": 0.05
          },
          "xaxis": {
           "automargin": true,
           "gridcolor": "white",
           "linecolor": "white",
           "ticks": "",
           "title": {
            "standoff": 15
           },
           "zerolinecolor": "white",
           "zerolinewidth": 2
          },
          "yaxis": {
           "automargin": true,
           "gridcolor": "white",
           "linecolor": "white",
           "ticks": "",
           "title": {
            "standoff": 15
           },
           "zerolinecolor": "white",
           "zerolinewidth": 2
          }
         }
        },
        "title": {
         "text": "Polution over time"
        },
        "xaxis": {
         "anchor": "y",
         "domain": [
          0,
          1
         ],
         "title": {
          "text": "Date"
         }
        },
        "yaxis": {
         "anchor": "x",
         "domain": [
          0,
          1
         ],
         "title": {
          "text": "Value"
         }
        }
       }
      }
     },
     "metadata": {},
     "output_type": "display_data"
    }
   ],
   "source": [
    "fig = px.line(test_df, x = 'Date', y = 'Value', title = 'Polution over time')\n",
    "fig.show()"
   ]
  },
  {
   "cell_type": "markdown",
   "metadata": {},
   "source": [
    "### Training Model"
   ]
  },
  {
   "cell_type": "code",
   "execution_count": null,
   "metadata": {},
   "outputs": [],
   "source": [
    "train = \n",
    "\n",
    "model = Prophet()\n",
    "model.fit(df)"
   ]
  }
 ],
 "metadata": {
  "kernelspec": {
   "display_name": ".venv",
   "language": "python",
   "name": "python3"
  },
  "language_info": {
   "codemirror_mode": {
    "name": "ipython",
    "version": 3
   },
   "file_extension": ".py",
   "mimetype": "text/x-python",
   "name": "python",
   "nbconvert_exporter": "python",
   "pygments_lexer": "ipython3",
   "version": "3.12.0"
  }
 },
 "nbformat": 4,
 "nbformat_minor": 2
}
