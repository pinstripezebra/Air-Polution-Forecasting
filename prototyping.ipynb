{
 "cells": [
  {
   "cell_type": "code",
   "execution_count": 2,
   "metadata": {},
   "outputs": [
    {
     "name": "stderr",
     "output_type": "stream",
     "text": [
      "c:\\Users\\seelc\\OneDrive\\Desktop\\Lucas Desktop Items\\Projects\\Air Polution Forecasting\\.venv\\Lib\\site-packages\\tqdm\\auto.py:21: TqdmWarning: IProgress not found. Please update jupyter and ipywidgets. See https://ipywidgets.readthedocs.io/en/stable/user_install.html\n",
      "  from .autonotebook import tqdm as notebook_tqdm\n"
     ]
    }
   ],
   "source": [
    "import requests\n",
    "import pandas as pd\n",
    "import plotly.express as px\n",
    "from prophet import Prophet\n",
    "from datetime import date"
   ]
  },
  {
   "cell_type": "markdown",
   "metadata": {},
   "source": [
    "### Setting API parameters"
   ]
  },
  {
   "cell_type": "code",
   "execution_count": 2,
   "metadata": {},
   "outputs": [],
   "source": [
    "country_id = 13 # For the United States\n",
    "\n",
    "# City keys\n",
    "city1 = \"Portland-South Portland-Biddeford\"\n",
    "city2 = \"Portland-Vancouver-Beaverton\"\n",
    "\n",
    "# sensor id's\n",
    "city1_ids = [855, 19840, 1195, 1923, 1083851]\n",
    "city2_ids = [233585, 1067, 1068, 1069, 1502, 1527, 233545, 1064]\n",
    "\n",
    "# Measurement parameters\n",
    "measurement_param = \"pm25\"\n",
    "\n",
    "# time period\n",
    "start = \"2024-10-06\"\n",
    "end = \"2024-09-06\""
   ]
  },
  {
   "cell_type": "markdown",
   "metadata": {},
   "source": [
    "### Running API Request"
   ]
  },
  {
   "cell_type": "code",
   "execution_count": 3,
   "metadata": {},
   "outputs": [
    {
     "name": "stdout",
     "output_type": "stream",
     "text": [
      "<Response [200]>\n"
     ]
    }
   ],
   "source": [
    "api_file = open(\"api_key.txt\", \"r\")\n",
    "key = api_file.read()\n",
    "res = requests.get(\"https://api.openaq.org/v2/locations/2178\", headers={\"X-API-Key\": key})\n",
    "\n",
    "print(res)"
   ]
  },
  {
   "cell_type": "markdown",
   "metadata": {},
   "source": [
    "### Testing City Pull"
   ]
  },
  {
   "cell_type": "code",
   "execution_count": 4,
   "metadata": {},
   "outputs": [
    {
     "name": "stdout",
     "output_type": "stream",
     "text": [
      "{\"meta\":{\"name\":\"openaq-api\",\"license\":\"\",\"website\":\"/\",\"page\":1,\"limit\":100,\"found\":\">100\"},\"results\":[{\"code\":\"DZ\",\"name\":\"Algeria\",\"locations\":1,\"firstUpdated\":\"2024-06-13 21:00:00+00\",\"lastUpdated\":\"2024-07-27 19:00:00+00\",\"parameters\":[\"pm25\"],\"count\":990,\"cities\":1,\"sources\":1},{\"code\":\"AD\",\"name\":\"Andorra\",\"locations\":2,\"firstUpdated\":\"2024-06-13 01:00:00+00\",\"lastUpdated\":\"2024-07-27 18:00:00+00\",\"parameters\":[\"no2\",\"o3\",\"pm10\",\"pm25\",\"so2\"],\"count\":5485,\"cities\":2,\"sources\":1},{\"code\":\"AR\",\"name\":\"Argentina\",\"locations\":6,\"firstUpdated\":\"2024-06-12 16:00:00+00\",\"lastUpdated\":\"2024-07-28 03:00:00+00\",\"parameters\":[\"co\",\"no2\",\"pm1\",\"pm10\",\"pm25\",\"relativehumidity\",\"temperature\",\"um003\"],\"count\":18082,\"cities\":1,\"sources\":3},{\"code\":\"AU\",\"name\":\"Australia\",\"locations\":125,\"firstUpdated\":\"2024-06-13 21:00:00+00\",\"lastUpdated\":\"2024-07-28 13:54:08+00\",\"parameters\":[\"co\",\"no2\",\"o3\",\"pm1\",\"pm10\",\"pm25\",\"relativehumidity\",\"so2\",\"temperature\",\"um003\"],\"count\":272581,\"cities\":31,\"sources\":6},{\"code\":\"AT\",\"name\":\"Austria\",\"locations\":179,\"firstUpdated\":\"2024-06-10 22:00:00+00\",\"lastUpdated\":\"2024-07-27 20:00:00+00\",\"parameters\":[\"no2\",\"o3\",\"pm1\",\"pm10\",\"pm25\",\"relativehumidity\",\"so2\",\"temperature\",\"um003\"],\"count\":316720,\"cities\":144,\"sources\":2},{\"code\":\"AZ\",\"name\":\"Azerbaijan\",\"locations\":1,\"firstUpdated\":\"2024-06-13 18:00:00+00\",\"lastUpdated\":\"2024-07-27 18:00:00+00\",\"parameters\":[\"pm25\"],\"count\":947,\"cities\":1,\"sources\":1},{\"code\":\"BH\",\"name\":\"Bahrain\",\"locations\":1,\"firstUpdated\":\"2024-06-13 22:00:00+00\",\"lastUpdated\":\"2024-07-27 19:00:00+00\",\"parameters\":[\"o3\",\"pm25\"],\"count\":1977,\"cities\":1,\"sources\":1},{\"code\":\"BD\",\"name\":\"Bangladesh\",\"locations\":1,\"firstUpdated\":\"2024-06-13 21:00:00+00\",\"lastUpdated\":\"2024-07-27 18:00:00+00\",\"parameters\":[\"o3\",\"pm25\"],\"count\":1978,\"cities\":1,\"sources\":1},{\"code\":\"BE\",\"name\":\"Belgium\",\"locations\":141,\"firstUpdated\":\"2024-06-10 22:00:00+00\",\"lastUpdated\":\"2024-07-27 20:00:00+00\",\"parameters\":[\"no2\",\"o3\",\"pm1\",\"pm10\",\"pm25\",\"relativehumidity\",\"so2\",\"temperature\",\"um003\"],\"count\":316453,\"cities\":69,\"sources\":3},{\"code\":\"BZ\",\"name\":\"Belize\",\"locations\":1,\"firstUpdated\":\"2024-06-13 21:00:00+00\",\"lastUpdated\":\"2024-06-25 07:00:00+00\",\"parameters\":[\"pm25\"],\"count\":187,\"cities\":1,\"sources\":1},{\"code\":\"BA\",\"name\":\"Bosnia and Herzegovina\",\"locations\":28,\"firstUpdated\":\"2024-06-12 23:00:00+00\",\"lastUpdated\":\"2024-07-27 19:00:00+00\",\"parameters\":[\"no2\",\"o3\",\"pm10\",\"pm25\",\"so2\"],\"count\":46209,\"cities\":22,\"sources\":3},{\"code\":\"BR\",\"name\":\"Brazil\",\"locations\":7,\"firstUpdated\":\"2024-06-13 21:00:00+00\",\"lastUpdated\":\"2024-07-27 14:00:00+00\",\"parameters\":[\"co\",\"no\",\"no2\",\"nox\",\"o3\",\"pm10\",\"pm25\"],\"count\":15360,\"cities\":2,\"sources\":2},{\"code\":\"BG\",\"name\":\"Bulgaria\",\"locations\":106,\"firstUpdated\":\"2024-06-10 22:00:00+00\",\"lastUpdated\":\"2024-07-27 20:15:00+00\",\"parameters\":[\"co\",\"humidity\",\"no2\",\"o3\",\"pm1\",\"pm10\",\"pm25\",\"pm4\",\"pressure\",\"so2\",\"temperature\"],\"count\":10916441,\"cities\":18,\"sources\":2},{\"code\":\"CA\",\"name\":\"Canada\",\"locations\":295,\"firstUpdated\":\"2022-10-04 18:00:00+00\",\"lastUpdated\":\"2024-07-27 20:00:00+00\",\"parameters\":[\"co\",\"no\",\"no2\",\"nox\",\"o3\",\"pm1\",\"pm10\",\"pm25\",\"relativehumidity\",\"so2\",\"temperature\",\"um003\"],\"count\":915240,\"cities\":13,\"sources\":4},{\"code\":\"TD\",\"name\":\"Chad\",\"locations\":1,\"firstUpdated\":\"2024-06-13 21:00:00+00\",\"lastUpdated\":\"2024-07-27 19:00:00+00\",\"parameters\":[\"pm25\"],\"count\":989,\"cities\":1,\"sources\":1},{\"code\":\"CL\",\"name\":\"Chile\",\"locations\":137,\"firstUpdated\":\"2024-06-12 23:00:00+00\",\"lastUpdated\":\"2024-07-27 20:00:00+00\",\"parameters\":[\"pm1\",\"pm10\",\"pm25\",\"relativehumidity\",\"so2\",\"temperature\",\"um003\"],\"count\":255437,\"cities\":62,\"sources\":2},{\"code\":\"CN\",\"name\":\"China\",\"locations\":7,\"firstUpdated\":\"2024-06-13 14:00:00+00\",\"lastUpdated\":\"2024-07-27 20:00:00+00\",\"parameters\":[\"o3\",\"pm1\",\"pm10\",\"pm25\",\"relativehumidity\",\"temperature\",\"um003\"],\"count\":17188,\"cities\":1,\"sources\":2},{\"code\":\"CO\",\"name\":\"Colombia\",\"locations\":25,\"firstUpdated\":\"2024-06-13 13:00:00+00\",\"lastUpdated\":\"2024-07-27 19:00:00+00\",\"parameters\":[\"co\",\"no2\",\"o3\",\"pm10\",\"pm25\"],\"count\":48157,\"cities\":10,\"sources\":3},{\"code\":\"CR\",\"name\":\"Costa Rica\",\"locations\":1,\"firstUpdated\":\"2024-06-13 21:00:00+00\",\"lastUpdated\":\"2024-07-27 19:00:00+00\",\"parameters\":[\"pm25\"],\"count\":989,\"cities\":1,\"sources\":1},{\"code\":\"HR\",\"name\":\"Croatia\",\"locations\":23,\"firstUpdated\":\"2024-06-10 22:00:00+00\",\"lastUpdated\":\"2024-07-27 20:00:00+00\",\"parameters\":[\"no2\",\"o3\",\"pm1\",\"pm10\",\"pm25\",\"relativehumidity\",\"so2\",\"temperature\",\"um003\"],\"count\":14857,\"cities\":16,\"sources\":2},{\"code\":\"CW\",\"name\":\"Curaçao\",\"locations\":1,\"firstUpdated\":\"2024-06-13 21:00:00+00\",\"lastUpdated\":\"2024-07-27 19:00:00+00\",\"parameters\":[\"o3\",\"pm25\"],\"count\":1978,\"cities\":1,\"sources\":1},{\"code\":\"CY\",\"name\":\"Cyprus\",\"locations\":11,\"firstUpdated\":\"2024-06-10 22:00:00+00\",\"lastUpdated\":\"2024-07-27 19:00:00+00\",\"parameters\":[\"co\",\"no\",\"no2\",\"nox\",\"o3\",\"pm10\",\"pm25\",\"so2\"],\"count\":70711,\"cities\":11,\"sources\":2},{\"code\":\"CZ\",\"name\":\"Czech Republic\",\"locations\":101,\"firstUpdated\":\"2024-06-13 21:00:00+00\",\"lastUpdated\":\"2024-07-27 20:00:00+00\",\"parameters\":[\"no2\",\"o3\",\"pm1\",\"pm10\",\"pm25\",\"relativehumidity\",\"so2\",\"temperature\",\"um003\"],\"count\":184690,\"cities\":67,\"sources\":2},{\"code\":\"CI\",\"name\":\"Côte d'Ivoire\",\"locations\":1,\"firstUpdated\":\"2024-06-13 21:00:00+00\",\"lastUpdated\":\"2024-07-27 19:00:00+00\",\"parameters\":[\"pm25\"],\"count\":989,\"cities\":1,\"sources\":1},{\"code\":\"CD\",\"name\":\"Democratic Republic of the Congo\",\"locations\":1,\"firstUpdated\":\"2024-07-09 08:00:00+00\",\"lastUpdated\":\"2024-07-27 15:00:00+00\",\"parameters\":[\"pm25\"],\"count\":365,\"cities\":1,\"sources\":1},{\"code\":\"DK\",\"name\":\"Denmark\",\"locations\":12,\"firstUpdated\":\"2024-06-13 02:00:00+00\",\"lastUpdated\":\"2024-07-27 18:00:00+00\",\"parameters\":[\"no2\",\"o3\",\"pm10\",\"so2\"],\"count\":20372,\"cities\":8,\"sources\":1},{\"code\":\"-99\",\"name\":\"Dhekelia\",\"locations\":1,\"firstUpdated\":\"2024-06-13 22:00:00+00\",\"lastUpdated\":\"2024-07-27 19:00:00+00\",\"parameters\":[\"no\",\"no2\",\"nox\",\"o3\",\"pm10\",\"pm25\",\"so2\"],\"count\":5663,\"cities\":1,\"sources\":1},{\"code\":\"EC\",\"name\":\"Ecuador\",\"locations\":2,\"firstUpdated\":\"2024-06-13 21:00:00+00\",\"lastUpdated\":\"2024-07-27 20:00:00+00\",\"parameters\":[\"pm1\",\"pm10\",\"pm25\",\"relativehumidity\",\"temperature\",\"um003\"],\"count\":9348,\"cities\":0,\"sources\":1},{\"code\":\"EG\",\"name\":\"Egypt\",\"locations\":1,\"firstUpdated\":\"2024-06-13 21:00:00+00\",\"lastUpdated\":\"2024-07-27 18:00:00+00\",\"parameters\":[\"pm25\"],\"count\":882,\"cities\":1,\"sources\":1},{\"code\":\"EE\",\"name\":\"Estonia\",\"locations\":8,\"firstUpdated\":\"2024-06-13 21:00:00+00\",\"lastUpdated\":\"2024-07-27 18:00:00+00\",\"parameters\":[\"no2\",\"o3\",\"pm10\",\"pm25\",\"so2\"],\"count\":31763,\"cities\":6,\"sources\":1},{\"code\":\"ET\",\"name\":\"Ethiopia\",\"locations\":2,\"firstUpdated\":\"2024-06-13 21:00:00+00\",\"lastUpdated\":\"2024-07-27 19:00:00+00\",\"parameters\":[\"pm25\"],\"count\":1916,\"cities\":1,\"sources\":1},{\"code\":\"FI\",\"name\":\"Finland\",\"locations\":60,\"firstUpdated\":\"2024-06-10 22:00:00+00\",\"lastUpdated\":\"2024-07-27 18:00:00+00\",\"parameters\":[\"no2\",\"o3\",\"pm10\",\"pm25\",\"so2\"],\"count\":101930,\"cities\":24,\"sources\":1},{\"code\":\"FR\",\"name\":\"France\",\"locations\":495,\"firstUpdated\":\"2024-06-10 22:00:00+00\",\"lastUpdated\":\"2024-07-27 22:15:31+00\",\"parameters\":[\"no2\",\"o3\",\"pm1\",\"pm10\",\"pm25\",\"relativehumidity\",\"so2\",\"temperature\",\"um003\"],\"count\":626736,\"cities\":395,\"sources\":4},{\"code\":\"DE\",\"name\":\"Germany\",\"locations\":437,\"firstUpdated\":\"2024-06-10 22:00:00+00\",\"lastUpdated\":\"2024-07-27 20:00:00+00\",\"parameters\":[\"no2\",\"o3\",\"pm1\",\"pm10\",\"pm25\",\"relativehumidity\",\"so2\",\"temperature\",\"um003\"],\"count\":1311371,\"cities\":290,\"sources\":3},{\"code\":\"GH\",\"name\":\"Ghana\",\"locations\":6,\"firstUpdated\":\"2024-06-13 21:00:00+00\",\"lastUpdated\":\"2024-07-27 20:00:00+00\",\"parameters\":[\"pm1\",\"pm10\",\"pm25\",\"relativehumidity\",\"temperature\",\"um003\"],\"count\":26411,\"cities\":1,\"sources\":2},{\"code\":\"GR\",\"name\":\"Greece\",\"locations\":33,\"firstUpdated\":\"2024-06-10 22:00:00+00\",\"lastUpdated\":\"2024-07-27 18:00:00+00\",\"parameters\":[\"no2\",\"o3\",\"pm10\",\"pm25\",\"so2\"],\"count\":84795,\"cities\":5,\"sources\":1},{\"code\":\"GT\",\"name\":\"Guatemala\",\"locations\":2,\"firstUpdated\":\"2024-06-13 16:00:00+00\",\"lastUpdated\":\"2024-07-27 19:00:00+00\",\"parameters\":[\"o3\",\"pm10\",\"pm25\"],\"count\":3824,\"cities\":2,\"sources\":2},{\"code\":\"GN\",\"name\":\"Guinea\",\"locations\":1,\"firstUpdated\":\"2024-06-13 21:00:00+00\",\"lastUpdated\":\"2024-07-27 19:00:00+00\",\"parameters\":[\"pm25\"],\"count\":989,\"cities\":1,\"sources\":1},{\"code\":\"HK\",\"name\":\"Hong Kong\",\"locations\":14,\"firstUpdated\":\"2024-06-13 23:00:00+00\",\"lastUpdated\":\"2024-07-27 19:00:00+00\",\"parameters\":[\"co\",\"no2\",\"o3\",\"pm10\",\"pm25\",\"so2\"],\"count\":66350,\"cities\":6,\"sources\":1},{\"code\":\"HU\",\"name\":\"Hungary\",\"locations\":80,\"firstUpdated\":\"2024-06-12 02:00:00+00\",\"lastUpdated\":\"2024-07-27 20:00:00+00\",\"parameters\":[\"co\",\"no2\",\"o3\",\"pm1\",\"pm10\",\"pm25\",\"relativehumidity\",\"so2\",\"temperature\",\"um003\"],\"count\":310725,\"cities\":62,\"sources\":3},{\"code\":\"IS\",\"name\":\"Iceland\",\"locations\":20,\"firstUpdated\":\"2024-06-13 20:00:00+00\",\"lastUpdated\":\"2024-07-27 19:00:00+00\",\"parameters\":[\"co\",\"no\",\"no2\",\"o3\",\"pm1\",\"pm10\",\"pm25\",\"so2\"],\"count\":53562,\"cities\":8,\"sources\":2},{\"code\":\"IN\",\"name\":\"India\",\"locations\":8,\"firstUpdated\":\"2022-10-03 19:30:00+00\",\"lastUpdated\":\"2024-07-27 20:00:00+00\",\"parameters\":[\"pm1\",\"pm10\",\"pm25\",\"relativehumidity\",\"temperature\",\"um003\"],\"count\":17168,\"cities\":2,\"sources\":3},{\"code\":\"ID\",\"name\":\"Indonesia\",\"locations\":8,\"firstUpdated\":\"2024-06-13 21:00:00+00\",\"lastUpdated\":\"2024-07-27 20:00:00+00\",\"parameters\":[\"o3\",\"pm1\",\"pm10\",\"pm25\",\"relativehumidity\",\"temperature\",\"um003\"],\"count\":22379,\"cities\":2,\"sources\":5},{\"code\":\"IQ\",\"name\":\"Iraq\",\"locations\":2,\"firstUpdated\":\"2024-06-13 18:00:00+00\",\"lastUpdated\":\"2024-07-27 19:00:00+00\",\"parameters\":[\"pm25\"],\"count\":1720,\"cities\":2,\"sources\":2},{\"code\":\"IE\",\"name\":\"Ireland\",\"locations\":35,\"firstUpdated\":\"2024-06-10 22:00:00+00\",\"lastUpdated\":\"2024-07-27 20:00:00+00\",\"parameters\":[\"no2\",\"o3\",\"pm1\",\"pm10\",\"pm25\",\"relativehumidity\",\"so2\",\"temperature\",\"um003\"],\"count\":80315,\"cities\":3,\"sources\":2},{\"code\":\"IT\",\"name\":\"Italy\",\"locations\":608,\"firstUpdated\":\"2022-10-04 18:00:00+00\",\"lastUpdated\":\"2024-07-27 20:00:00+00\",\"parameters\":[\"co\",\"no\",\"no2\",\"nox\",\"o3\",\"pm1\",\"pm10\",\"pm25\",\"relativehumidity\",\"so2\",\"temperature\",\"um003\"],\"count\":680326,\"cities\":580,\"sources\":3},{\"code\":\"JP\",\"name\":\"Japan\",\"locations\":1557,\"firstUpdated\":\"2024-06-13 20:00:00+00\",\"lastUpdated\":\"2024-07-27 20:00:00+00\",\"parameters\":[\"co\",\"no\",\"no2\",\"nox\",\"pm1\",\"pm10\",\"pm25\",\"relativehumidity\",\"so2\",\"temperature\",\"um003\"],\"count\":5482954,\"cities\":1,\"sources\":2},{\"code\":\"JE\",\"name\":\"Jersey\",\"locations\":17,\"firstUpdated\":\"2024-06-13 22:11:38.404+00\",\"lastUpdated\":\"2024-07-27 18:05:41.605+00\",\"parameters\":[\"pm25\"],\"count\":45044,\"cities\":0,\"sources\":1},{\"code\":\"JO\",\"name\":\"Jordan\",\"locations\":1,\"firstUpdated\":\"2024-06-13 21:00:00+00\",\"lastUpdated\":\"2024-07-27 19:00:00+00\",\"parameters\":[\"o3\",\"pm25\"],\"count\":1978,\"cities\":1,\"sources\":1},{\"code\":\"KZ\",\"name\":\"Kazakhstan\",\"locations\":38,\"firstUpdated\":\"2024-06-13 21:00:00+00\",\"lastUpdated\":\"2024-07-27 20:00:00+00\",\"parameters\":[\"pm1\",\"pm10\",\"pm25\",\"relativehumidity\",\"temperature\",\"um003\"],\"count\":94715,\"cities\":1,\"sources\":3},{\"code\":\"KE\",\"name\":\"Kenya\",\"locations\":2,\"firstUpdated\":\"2024-06-13 22:09:02.09+00\",\"lastUpdated\":\"2024-07-27 18:06:57.761+00\",\"parameters\":[\"pm25\"],\"count\":5343,\"cities\":0,\"sources\":1},{\"code\":\"XK\",\"name\":\"Kosovo\",\"locations\":14,\"firstUpdated\":\"2024-06-13 05:00:00+00\",\"lastUpdated\":\"2024-07-27 19:00:00+00\",\"parameters\":[\"no2\",\"o3\",\"pm10\",\"pm25\",\"so2\"],\"count\":48232,\"cities\":11,\"sources\":3},{\"code\":\"KW\",\"name\":\"Kuwait\",\"locations\":1,\"firstUpdated\":\"2024-06-13 21:00:00+00\",\"lastUpdated\":\"2024-07-27 19:00:00+00\",\"parameters\":[\"pm25\"],\"count\":990,\"cities\":1,\"sources\":1},{\"code\":\"KG\",\"name\":\"Kyrgyzstan\",\"locations\":44,\"firstUpdated\":\"2024-06-13 20:00:00+00\",\"lastUpdated\":\"2024-07-27 18:07:00.832+00\",\"parameters\":[\"pm25\"],\"count\":110589,\"cities\":2,\"sources\":3},{\"code\":\"LA\",\"name\":\"Lao PDR\",\"locations\":2,\"firstUpdated\":\"2024-06-13 21:00:00+00\",\"lastUpdated\":\"2024-07-27 19:00:00+00\",\"parameters\":[\"no2\",\"pm25\"],\"count\":2209,\"cities\":2,\"sources\":2},{\"code\":\"LV\",\"name\":\"Latvia\",\"locations\":13,\"firstUpdated\":\"2024-06-11 01:00:00+00\",\"lastUpdated\":\"2024-07-27 18:00:00+00\",\"parameters\":[\"no2\",\"o3\",\"pm10\",\"pm25\",\"so2\"],\"count\":40623,\"cities\":5,\"sources\":1},{\"code\":\"LT\",\"name\":\"Lithuania\",\"locations\":18,\"firstUpdated\":\"2024-06-13 01:00:00+00\",\"lastUpdated\":\"2024-07-27 20:00:00+00\",\"parameters\":[\"no2\",\"o3\",\"pm1\",\"pm10\",\"pm25\",\"relativehumidity\",\"so2\",\"temperature\",\"um003\"],\"count\":49077,\"cities\":14,\"sources\":2},{\"code\":\"LU\",\"name\":\"Luxembourg\",\"locations\":12,\"firstUpdated\":\"2024-06-11 01:00:00+00\",\"lastUpdated\":\"2024-07-27 18:00:00+00\",\"parameters\":[\"no2\",\"o3\",\"pm10\",\"pm25\",\"so2\"],\"count\":17757,\"cities\":1,\"sources\":1},{\"code\":\"MG\",\"name\":\"Madagascar\",\"locations\":1,\"firstUpdated\":\"2022-10-04 18:00:00+00\",\"lastUpdated\":\"2024-07-27 18:00:00+00\",\"parameters\":[\"pm25\"],\"count\":944,\"cities\":1,\"sources\":1},{\"code\":\"MY\",\"name\":\"Malaysia\",\"locations\":1,\"firstUpdated\":\"2024-06-13 21:00:00+00\",\"lastUpdated\":\"2024-07-27 20:00:00+00\",\"parameters\":[\"pm1\",\"pm10\",\"pm25\",\"relativehumidity\",\"temperature\",\"um003\"],\"count\":5632,\"cities\":0,\"sources\":1},{\"code\":\"ML\",\"name\":\"Mali\",\"locations\":1,\"firstUpdated\":\"2024-06-13 21:00:00+00\",\"lastUpdated\":\"2024-07-27 19:00:00+00\",\"parameters\":[\"pm25\"],\"count\":989,\"cities\":1,\"sources\":1},{\"code\":\"MT\",\"name\":\"Malta\",\"locations\":6,\"firstUpdated\":\"2024-06-10 22:00:00+00\",\"lastUpdated\":\"2024-07-27 17:00:00+00\",\"parameters\":[\"no2\",\"o3\",\"pm10\",\"pm25\",\"so2\"],\"count\":23684,\"cities\":5,\"sources\":1},{\"code\":\"MU\",\"name\":\"Mauritius\",\"locations\":1,\"firstUpdated\":\"2024-06-13 21:00:00+00\",\"lastUpdated\":\"2024-07-27 20:00:00+00\",\"parameters\":[\"pm1\",\"pm10\",\"pm25\",\"relativehumidity\",\"temperature\",\"um003\"],\"count\":5640,\"cities\":0,\"sources\":1},{\"code\":\"MX\",\"name\":\"Mexico\",\"locations\":121,\"firstUpdated\":\"2022-10-04 18:00:00+00\",\"lastUpdated\":\"2024-07-27 20:00:00+00\",\"parameters\":[\"co\",\"no\",\"no2\",\"nox\",\"o3\",\"pm1\",\"pm10\",\"pm25\",\"relativehumidity\",\"so2\",\"temperature\",\"um003\"],\"count\":111638,\"cities\":74,\"sources\":3},{\"code\":\"MD\",\"name\":\"Moldova\",\"locations\":1,\"firstUpdated\":\"2024-07-09 20:00:00+00\",\"lastUpdated\":\"2024-07-27 20:00:00+00\",\"parameters\":[\"pm1\",\"pm10\",\"pm25\",\"relativehumidity\",\"temperature\",\"um003\"],\"count\":1968,\"cities\":0,\"sources\":1},{\"code\":\"MN\",\"name\":\"Mongolia\",\"locations\":1,\"firstUpdated\":\"2024-06-13 22:00:00+00\",\"lastUpdated\":\"2024-07-27 19:00:00+00\",\"parameters\":[\"pm25\"],\"count\":989,\"cities\":1,\"sources\":1},{\"code\":\"MA\",\"name\":\"Morocco\",\"locations\":2,\"firstUpdated\":\"2024-06-13 21:00:00+00\",\"lastUpdated\":\"2024-07-27 20:00:00+00\",\"parameters\":[\"pm1\",\"pm10\",\"pm25\",\"relativehumidity\",\"temperature\",\"um003\"],\"count\":9732,\"cities\":0,\"sources\":1},{\"code\":\"MZ\",\"name\":\"Mozambique\",\"locations\":1,\"firstUpdated\":\"2024-06-13 17:00:00+00\",\"lastUpdated\":\"2024-07-27 18:00:00+00\",\"parameters\":[\"o3\",\"pm25\"],\"count\":1826,\"cities\":1,\"sources\":1},{\"code\":\"MM\",\"name\":\"Myanmar\",\"locations\":1,\"firstUpdated\":\"2024-06-13 21:30:00+00\",\"lastUpdated\":\"2024-07-27 18:30:00+00\",\"parameters\":[\"pm25\"],\"count\":989,\"cities\":1,\"sources\":1},{\"code\":\"NP\",\"name\":\"Nepal\",\"locations\":5,\"firstUpdated\":\"2024-06-13 21:00:00+00\",\"lastUpdated\":\"2024-07-27 20:00:00+00\",\"parameters\":[\"o3\",\"pm1\",\"pm10\",\"pm25\",\"relativehumidity\",\"temperature\",\"um003\"],\"count\":17024,\"cities\":1,\"sources\":2},{\"code\":\"NL\",\"name\":\"Netherlands\",\"locations\":94,\"firstUpdated\":\"2024-06-12 23:00:00+00\",\"lastUpdated\":\"2024-07-27 20:00:00+00\",\"parameters\":[\"no\",\"no2\",\"o3\",\"pm1\",\"pm10\",\"pm25\",\"relativehumidity\",\"so2\",\"temperature\",\"um003\"],\"count\":319773,\"cities\":49,\"sources\":3},{\"code\":\"NZ\",\"name\":\"New Zealand\",\"locations\":13,\"firstUpdated\":\"2024-06-13 21:00:00+00\",\"lastUpdated\":\"2024-07-27 20:00:00+00\",\"parameters\":[\"co\",\"no\",\"no2\",\"pm1\",\"pm10\",\"pm25\",\"relativehumidity\",\"so2\",\"temperature\",\"um003\"],\"count\":33709,\"cities\":8,\"sources\":2},{\"code\":\"NG\",\"name\":\"Nigeria\",\"locations\":4,\"firstUpdated\":\"2024-06-13 21:00:00+00\",\"lastUpdated\":\"2024-07-27 18:02:52.9+00\",\"parameters\":[\"pm25\"],\"count\":6144,\"cities\":1,\"sources\":2},{\"code\":\"MK\",\"name\":\"North Macedonia\",\"locations\":26,\"firstUpdated\":\"2024-06-10 22:00:00+00\",\"lastUpdated\":\"2024-07-27 18:00:00+00\",\"parameters\":[\"no2\",\"o3\",\"pm10\",\"pm25\",\"so2\"],\"count\":86288,\"cities\":4,\"sources\":1},{\"code\":\"NO\",\"name\":\"Norway\",\"locations\":59,\"firstUpdated\":\"2024-06-13 21:00:00+00\",\"lastUpdated\":\"2024-07-27 20:00:00+00\",\"parameters\":[\"co\",\"no2\",\"o3\",\"pm1\",\"pm10\",\"pm25\",\"relativehumidity\",\"so2\",\"temperature\",\"um003\"],\"count\":133064,\"cities\":27,\"sources\":3},{\"code\":\"PK\",\"name\":\"Pakistan\",\"locations\":6,\"firstUpdated\":\"2024-06-13 21:00:00+00\",\"lastUpdated\":\"2024-07-27 19:00:00+00\",\"parameters\":[\"pm25\"],\"count\":7480,\"cities\":2,\"sources\":3},{\"code\":\"PY\",\"name\":\"Paraguay\",\"locations\":1,\"firstUpdated\":\"2024-06-13 02:00:00+00\",\"lastUpdated\":\"2024-07-27 18:00:00+00\",\"parameters\":[\"pm25\"],\"count\":948,\"cities\":1,\"sources\":1},{\"code\":\"PE\",\"name\":\"Peru\",\"locations\":46,\"firstUpdated\":\"2024-06-13 00:00:00+00\",\"lastUpdated\":\"2024-07-27 20:00:00+00\",\"parameters\":[\"co\",\"no2\",\"o3\",\"pm1\",\"pm10\",\"pm25\",\"relativehumidity\",\"so2\",\"temperature\",\"um003\"],\"count\":853371,\"cities\":24,\"sources\":4},{\"code\":\"PH\",\"name\":\"Philippines\",\"locations\":4,\"firstUpdated\":\"2024-06-13 21:00:00+00\",\"lastUpdated\":\"2024-07-27 20:00:00+00\",\"parameters\":[\"pm1\",\"pm10\",\"pm25\",\"relativehumidity\",\"temperature\",\"um003\"],\"count\":11040,\"cities\":1,\"sources\":3},{\"code\":\"PL\",\"name\":\"Poland\",\"locations\":220,\"firstUpdated\":\"2024-06-10 22:00:00+00\",\"lastUpdated\":\"2024-07-27 20:00:00+00\",\"parameters\":[\"bc\",\"co\",\"no2\",\"o3\",\"pm1\",\"pm10\",\"pm25\",\"relativehumidity\",\"so2\",\"temperature\",\"um003\"],\"count\":689840,\"cities\":174,\"sources\":4},{\"code\":\"PT\",\"name\":\"Portugal\",\"locations\":68,\"firstUpdated\":\"2024-06-10 22:00:00+00\",\"lastUpdated\":\"2024-07-27 20:00:00+00\",\"parameters\":[\"no2\",\"o3\",\"pm1\",\"pm10\",\"pm25\",\"relativehumidity\",\"so2\",\"temperature\",\"um003\"],\"count\":194278,\"cities\":14,\"sources\":2},{\"code\":\"PR\",\"name\":\"Puerto Rico\",\"locations\":3,\"firstUpdated\":\"2024-06-12 23:00:00+00\",\"lastUpdated\":\"2024-07-27 18:00:00+00\",\"parameters\":[\"o3\",\"pm25\"],\"count\":2336,\"cities\":2,\"sources\":1},{\"code\":\"QA\",\"name\":\"Qatar\",\"locations\":1,\"firstUpdated\":\"2024-06-13 21:00:00+00\",\"lastUpdated\":\"2024-07-27 18:00:00+00\",\"parameters\":[\"o3\",\"pm25\"],\"count\":1493,\"cities\":1,\"sources\":1},{\"code\":\"CV\",\"name\":\"Republic of Cabo Verde\",\"locations\":3,\"firstUpdated\":\"2024-06-13 22:00:16.912+00\",\"lastUpdated\":\"2024-07-27 18:05:17.804+00\",\"parameters\":[\"pm25\"],\"count\":8006,\"cities\":0,\"sources\":1},{\"code\":\"KR\",\"name\":\"Republic of Korea\",\"locations\":674,\"firstUpdated\":\"2024-06-13 21:00:00+00\",\"lastUpdated\":\"2024-07-27 19:00:00+00\",\"parameters\":[\"co\",\"no2\",\"o3\",\"pm1\",\"pm10\",\"pm25\",\"relativehumidity\",\"so2\",\"temperature\",\"um003\"],\"count\":3543291,\"cities\":1,\"sources\":2},{\"code\":\"RO\",\"name\":\"Romania\",\"locations\":196,\"firstUpdated\":\"2024-06-10 22:00:00+00\",\"lastUpdated\":\"2024-07-27 20:00:00+00\",\"parameters\":[\"no2\",\"o3\",\"pm1\",\"pm10\",\"pm25\",\"relativehumidity\",\"so2\",\"temperature\",\"um003\"],\"count\":403292,\"cities\":65,\"sources\":3},{\"code\":\"MF\",\"name\":\"Saint-Martin\",\"locations\":1,\"firstUpdated\":\"2024-06-10 22:00:00+00\",\"lastUpdated\":\"2024-07-27 18:00:00+00\",\"parameters\":[\"no2\",\"o3\",\"pm10\",\"pm25\"],\"count\":2588,\"cities\":1,\"sources\":1},{\"code\":\"SM\",\"name\":\"San Marino\",\"locations\":1,\"firstUpdated\":\"2024-06-10 22:00:00+00\",\"lastUpdated\":\"2024-07-26 10:00:00+00\",\"parameters\":[\"no2\",\"o3\"],\"count\":152,\"cities\":1,\"sources\":1},{\"code\":\"SN\",\"name\":\"Senegal\",\"locations\":1,\"firstUpdated\":\"2024-06-27 23:00:00+00\",\"lastUpdated\":\"2024-07-27 20:00:00+00\",\"parameters\":[\"pm1\",\"pm10\",\"pm25\",\"relativehumidity\",\"temperature\",\"um003\"],\"count\":3744,\"cities\":0,\"sources\":1},{\"code\":\"RS\",\"name\":\"Serbia\",\"locations\":79,\"firstUpdated\":\"2024-06-12 01:00:00+00\",\"lastUpdated\":\"2024-07-27 19:00:00+00\",\"parameters\":[\"co\",\"no2\",\"o3\",\"pm10\",\"pm25\",\"so2\"],\"count\":315242,\"cities\":43,\"sources\":3},{\"code\":\"SG\",\"name\":\"Singapore\",\"locations\":5,\"firstUpdated\":\"2024-06-13 21:00:00+00\",\"lastUpdated\":\"2024-07-27 18:00:00+00\",\"parameters\":[\"pm25\"],\"count\":4834,\"cities\":1,\"sources\":1},{\"code\":\"SK\",\"name\":\"Slovakia\",\"locations\":54,\"firstUpdated\":\"2024-06-10 22:00:00+00\",\"lastUpdated\":\"2024-07-27 18:00:00+00\",\"parameters\":[\"no2\",\"o3\",\"pm10\",\"pm25\",\"so2\"],\"count\":147941,\"cities\":50,\"sources\":1},{\"code\":\"SI\",\"name\":\"Slovenia\",\"locations\":42,\"firstUpdated\":\"2024-06-10 22:00:00+00\",\"lastUpdated\":\"2024-07-27 20:00:00+00\",\"parameters\":[\"no2\",\"o3\",\"pm1\",\"pm10\",\"pm25\",\"relativehumidity\",\"so2\",\"temperature\",\"um003\"],\"count\":71489,\"cities\":29,\"sources\":3},{\"code\":\"ZA\",\"name\":\"South Africa\",\"locations\":20,\"firstUpdated\":\"2022-10-04 19:00:00+00\",\"lastUpdated\":\"2024-07-27 20:00:00+00\",\"parameters\":[\"co\",\"no2\",\"pm1\",\"pm10\",\"pm25\",\"relativehumidity\",\"temperature\",\"um003\"],\"count\":58660,\"cities\":1,\"sources\":2},{\"code\":\"ES\",\"name\":\"Spain\",\"locations\":685,\"firstUpdated\":\"2024-06-10 22:00:00+00\",\"lastUpdated\":\"2024-07-27 20:15:00+00\",\"parameters\":[\"co\",\"humidity\",\"no\",\"no2\",\"nox\",\"o3\",\"pm1\",\"pm10\",\"pm25\",\"pm4\",\"pressure\",\"relativehumidity\",\"so2\",\"temperature\",\"um003\"],\"count\":1680335,\"cities\":362,\"sources\":4},{\"code\":\"LK\",\"name\":\"Sri Lanka\",\"locations\":3,\"firstUpdated\":\"2024-06-12 23:30:00+00\",\"lastUpdated\":\"2024-07-27 18:30:00+00\",\"parameters\":[\"pm25\"],\"count\":4007,\"cities\":2,\"sources\":3},{\"code\":\"SD\",\"name\":\"Sudan\",\"locations\":1,\"firstUpdated\":\"2024-06-28 19:00:00+00\",\"lastUpdated\":\"2024-07-27 12:00:00+00\",\"parameters\":[\"pm1\",\"pm10\",\"pm25\",\"relativehumidity\",\"temperature\",\"um003\"],\"count\":2088,\"cities\":0,\"sources\":1},{\"code\":\"SE\",\"name\":\"Sweden\",\"locations\":126,\"firstUpdated\":\"2024-06-10 22:00:00+00\",\"lastUpdated\":\"2024-07-27 19:00:00+00\",\"parameters\":[\"no2\",\"o3\",\"pm10\",\"pm25\",\"so2\"],\"count\":156597,\"cities\":45,\"sources\":2},{\"code\":\"CH\",\"name\":\"Switzerland\",\"locations\":52,\"firstUpdated\":\"2024-06-13 04:00:00+00\",\"lastUpdated\":\"2024-07-27 20:00:00+00\",\"parameters\":[\"no2\",\"o3\",\"pm1\",\"pm10\",\"pm25\",\"relativehumidity\",\"so2\",\"temperature\",\"um003\"],\"count\":139755,\"cities\":11,\"sources\":2},{\"code\":\"TW\",\"name\":\"Taiwan\",\"locations\":81,\"firstUpdated\":\"2024-06-13 21:00:00+00\",\"lastUpdated\":\"2024-07-27 20:00:00+00\",\"parameters\":[\"co\",\"no2\",\"o3\",\"pm1\",\"pm10\",\"pm25\",\"relativehumidity\",\"so2\",\"temperature\",\"um003\"],\"count\":462393,\"cities\":21,\"sources\":2}]}\n"
     ]
    }
   ],
   "source": [
    "url = \"https://api.openaq.org/v2/countries\"\n",
    "headers = {\"accept\": \"application/json\"}\n",
    "city_list = requests.get(url, headers=headers)\n",
    "\n",
    "print(city_list.text)"
   ]
  },
  {
   "cell_type": "code",
   "execution_count": 5,
   "metadata": {},
   "outputs": [
    {
     "name": "stdout",
     "output_type": "stream",
     "text": [
      "{\"meta\":{\"name\":\"openaq-api\",\"license\":\"\",\"website\":\"/\",\"page\":1,\"limit\":100,\"found\":3928},\"results\":[{\"country\":\"JP\",\"city\":\" \",\"count\":5481640,\"locations\":1556,\"firstUpdated\":\"2024-06-13 20:00:00+00\",\"lastUpdated\":\"2024-07-27 19:00:00+00\",\"parameters\":[\"co\",\"no\",\"no2\",\"nox\",\"pm25\",\"so2\"]},{\"country\":\"KR\",\"city\":\" \",\"count\":3541241,\"locations\":673,\"firstUpdated\":\"2024-06-13 22:00:00+00\",\"lastUpdated\":\"2024-07-27 19:00:00+00\",\"parameters\":[\"co\",\"no2\",\"o3\",\"pm10\",\"pm25\",\"so2\"]},{\"country\":\"TT\",\"city\":\" \",\"count\":138,\"locations\":1,\"firstUpdated\":\"2024-07-05 17:00:00+00\",\"lastUpdated\":\"2024-07-08 13:00:00+00\",\"parameters\":[\"pm10\",\"pm25\"]},{\"country\":\"IT\",\"city\":\" Brescia Via San Polo\",\"count\":933,\"locations\":1,\"firstUpdated\":\"2024-06-14 07:00:00+00\",\"lastUpdated\":\"2024-07-27 18:00:00+00\",\"parameters\":[\"no2\",\"pm25\"]},{\"country\":\"IT\",\"city\":\"- LOC. CASA STABBI - Chitignano (AR)\",\"count\":217,\"locations\":1,\"firstUpdated\":\"2024-06-10 22:00:00+00\",\"lastUpdated\":\"2024-07-26 11:00:00+00\",\"parameters\":[\"no2\",\"o3\",\"pm10\"]},{\"country\":\"IT\",\"city\":\"-9999 - Acquapendente (VT)\",\"count\":159,\"locations\":1,\"firstUpdated\":\"2024-06-11 01:00:00+00\",\"lastUpdated\":\"2024-07-26 11:00:00+00\",\"parameters\":[\"no2\",\"o3\"]},{\"country\":\"US\",\"city\":\"007\",\"count\":38,\"locations\":1,\"firstUpdated\":\"2024-07-10 19:00:00+00\",\"lastUpdated\":\"2024-07-12 10:00:00+00\",\"parameters\":[\"pm25\"]},{\"country\":\"AT\",\"city\":\"1010 Wien, Stephansplatz 1\",\"count\":1769,\"locations\":1,\"firstUpdated\":\"2024-06-10 22:00:00+00\",\"lastUpdated\":\"2024-07-27 18:00:00+00\",\"parameters\":[\"no2\",\"o3\",\"so2\"]},{\"country\":\"AT\",\"city\":\"1020 Wien\",\"count\":4022,\"locations\":2,\"firstUpdated\":\"2024-06-10 22:00:00+00\",\"lastUpdated\":\"2024-07-27 18:00:00+00\",\"parameters\":[\"no2\",\"pm10\",\"pm25\",\"so2\"]},{\"country\":\"AT\",\"city\":\"1070 Wien\",\"count\":1180,\"locations\":1,\"firstUpdated\":\"2024-06-10 22:00:00+00\",\"lastUpdated\":\"2024-07-27 18:00:00+00\",\"parameters\":[\"no2\",\"so2\"]},{\"country\":\"AT\",\"city\":\"1090 Wien\",\"count\":1770,\"locations\":1,\"firstUpdated\":\"2024-06-10 22:00:00+00\",\"lastUpdated\":\"2024-07-27 18:00:00+00\",\"parameters\":[\"no2\",\"pm10\",\"pm25\"]},{\"country\":\"AT\",\"city\":\"1100 Wien\",\"count\":1770,\"locations\":1,\"firstUpdated\":\"2024-06-10 22:00:00+00\",\"lastUpdated\":\"2024-07-27 18:00:00+00\",\"parameters\":[\"no2\",\"pm10\",\"pm25\"]},{\"country\":\"AT\",\"city\":\"1110 Wien\",\"count\":2362,\"locations\":1,\"firstUpdated\":\"2024-06-10 22:00:00+00\",\"lastUpdated\":\"2024-07-27 18:00:00+00\",\"parameters\":[\"no2\",\"pm10\",\"pm25\",\"so2\"]},{\"country\":\"AT\",\"city\":\"1120 Wien\",\"count\":1770,\"locations\":1,\"firstUpdated\":\"2024-06-10 22:00:00+00\",\"lastUpdated\":\"2024-07-27 18:00:00+00\",\"parameters\":[\"no2\",\"pm10\",\"pm25\"]},{\"country\":\"AT\",\"city\":\"1130 Wien\",\"count\":590,\"locations\":1,\"firstUpdated\":\"2024-06-10 22:00:00+00\",\"lastUpdated\":\"2024-07-27 18:00:00+00\",\"parameters\":[\"no2\"]},{\"country\":\"AT\",\"city\":\"1160 Wien\",\"count\":1770,\"locations\":1,\"firstUpdated\":\"2024-06-10 22:00:00+00\",\"lastUpdated\":\"2024-07-27 18:00:00+00\",\"parameters\":[\"no2\",\"pm10\",\"pm25\"]},{\"country\":\"AT\",\"city\":\"1180 Wien\",\"count\":2358,\"locations\":1,\"firstUpdated\":\"2024-06-10 22:00:00+00\",\"lastUpdated\":\"2024-07-27 18:00:00+00\",\"parameters\":[\"no2\",\"pm10\",\"pm25\",\"so2\"]},{\"country\":\"AT\",\"city\":\"1190 Wien\",\"count\":2940,\"locations\":2,\"firstUpdated\":\"2024-06-10 22:00:00+00\",\"lastUpdated\":\"2024-07-27 18:00:00+00\",\"parameters\":[\"no2\",\"o3\",\"so2\"]},{\"country\":\"AT\",\"city\":\"1210 Wien\",\"count\":1770,\"locations\":1,\"firstUpdated\":\"2024-06-10 22:00:00+00\",\"lastUpdated\":\"2024-07-27 18:00:00+00\",\"parameters\":[\"no2\",\"pm10\",\"pm25\"]},{\"country\":\"AT\",\"city\":\"1220 Wien\",\"count\":4720,\"locations\":2,\"firstUpdated\":\"2024-06-10 22:00:00+00\",\"lastUpdated\":\"2024-07-27 18:00:00+00\",\"parameters\":[\"no2\",\"o3\",\"pm10\",\"pm25\",\"so2\"]},{\"country\":\"AT\",\"city\":\"1230 Wien\",\"count\":2360,\"locations\":1,\"firstUpdated\":\"2024-06-10 22:00:00+00\",\"lastUpdated\":\"2024-07-27 18:00:00+00\",\"parameters\":[\"no2\",\"o3\",\"pm10\",\"pm25\"]},{\"country\":\"AT\",\"city\":\"2000 Stockerau\",\"count\":1180,\"locations\":1,\"firstUpdated\":\"2024-06-10 22:00:00+00\",\"lastUpdated\":\"2024-07-27 18:00:00+00\",\"parameters\":[\"no2\",\"pm10\"]},{\"country\":\"AT\",\"city\":\"2073 Pillersdorf, Gemeinde Zellerndorf\",\"count\":2950,\"locations\":1,\"firstUpdated\":\"2024-06-10 22:00:00+00\",\"lastUpdated\":\"2024-07-27 18:00:00+00\",\"parameters\":[\"no2\",\"o3\",\"pm10\",\"pm25\",\"so2\"]},{\"country\":\"AT\",\"city\":\"2120 Wolkersdorf\",\"count\":1180,\"locations\":1,\"firstUpdated\":\"2024-06-10 22:00:00+00\",\"lastUpdated\":\"2024-07-27 18:00:00+00\",\"parameters\":[\"no2\",\"o3\"]},{\"country\":\"AT\",\"city\":\"2130 Mistelbach\",\"count\":1770,\"locations\":1,\"firstUpdated\":\"2024-06-10 22:00:00+00\",\"lastUpdated\":\"2024-07-27 18:00:00+00\",\"parameters\":[\"o3\",\"pm10\",\"so2\"]},{\"country\":\"AT\",\"city\":\"2230 Gänserndorf\",\"count\":2360,\"locations\":1,\"firstUpdated\":\"2024-06-10 22:00:00+00\",\"lastUpdated\":\"2024-07-27 18:00:00+00\",\"parameters\":[\"no2\",\"o3\",\"pm10\",\"so2\"]},{\"country\":\"AT\",\"city\":\"2301 Groß-Enzersdorf\",\"count\":2360,\"locations\":1,\"firstUpdated\":\"2024-06-10 22:00:00+00\",\"lastUpdated\":\"2024-07-27 18:00:00+00\",\"parameters\":[\"no2\",\"pm10\",\"pm25\",\"so2\"]},{\"country\":\"AT\",\"city\":\"2320 Schwechat\",\"count\":2950,\"locations\":1,\"firstUpdated\":\"2024-06-10 22:00:00+00\",\"lastUpdated\":\"2024-07-27 18:00:00+00\",\"parameters\":[\"no2\",\"o3\",\"pm10\",\"pm25\",\"so2\"]},{\"country\":\"AT\",\"city\":\"2325 Himberg\",\"count\":1180,\"locations\":1,\"firstUpdated\":\"2024-06-10 22:00:00+00\",\"lastUpdated\":\"2024-07-27 18:00:00+00\",\"parameters\":[\"o3\",\"pm10\"]},{\"country\":\"AT\",\"city\":\"2331 Vösendorf\",\"count\":590,\"locations\":1,\"firstUpdated\":\"2024-06-10 22:00:00+00\",\"lastUpdated\":\"2024-07-27 18:00:00+00\",\"parameters\":[\"no2\"]},{\"country\":\"AT\",\"city\":\"2340 Mödling\",\"count\":2360,\"locations\":1,\"firstUpdated\":\"2024-06-10 22:00:00+00\",\"lastUpdated\":\"2024-07-27 18:00:00+00\",\"parameters\":[\"no2\",\"o3\",\"pm10\",\"so2\"]},{\"country\":\"AT\",\"city\":\"2351 Wiener Neudorf \",\"count\":1770,\"locations\":1,\"firstUpdated\":\"2024-06-10 22:00:00+00\",\"lastUpdated\":\"2024-07-27 18:00:00+00\",\"parameters\":[\"no2\",\"pm10\",\"pm25\"]},{\"country\":\"AT\",\"city\":\"2362 Biedermannsdorf\",\"count\":1613,\"locations\":1,\"firstUpdated\":\"2024-06-10 22:00:00+00\",\"lastUpdated\":\"2024-07-27 18:00:00+00\",\"parameters\":[\"no2\",\"pm10\",\"pm25\"]},{\"country\":\"AT\",\"city\":\"2410 Hainburg an der Donau\",\"count\":2950,\"locations\":1,\"firstUpdated\":\"2024-06-10 22:00:00+00\",\"lastUpdated\":\"2024-07-27 18:00:00+00\",\"parameters\":[\"no2\",\"o3\",\"pm10\",\"pm25\",\"so2\"]},{\"country\":\"SK\",\"city\":\"2421 Kittsee\",\"count\":2310,\"locations\":1,\"firstUpdated\":\"2024-06-10 22:00:00+00\",\"lastUpdated\":\"2024-07-27 18:00:00+00\",\"parameters\":[\"no2\",\"o3\",\"pm10\",\"so2\"]},{\"country\":\"AT\",\"city\":\"2463 Trauttmannsdorf an der Leitha\",\"count\":1770,\"locations\":1,\"firstUpdated\":\"2024-06-10 22:00:00+00\",\"lastUpdated\":\"2024-07-27 18:00:00+00\",\"parameters\":[\"no2\",\"o3\",\"so2\"]},{\"country\":\"AT\",\"city\":\"2533 Klausen-Leopoldsdorf\",\"count\":1770,\"locations\":1,\"firstUpdated\":\"2024-06-10 22:00:00+00\",\"lastUpdated\":\"2024-07-27 18:00:00+00\",\"parameters\":[\"no2\",\"o3\",\"so2\"]},{\"country\":\"AT\",\"city\":\"2540 Bad Vöslau\",\"count\":2360,\"locations\":1,\"firstUpdated\":\"2024-06-10 22:00:00+00\",\"lastUpdated\":\"2024-07-27 18:00:00+00\",\"parameters\":[\"no2\",\"o3\",\"pm10\",\"pm25\"]},{\"country\":\"AT\",\"city\":\"2650 Payerbach\",\"count\":1770,\"locations\":1,\"firstUpdated\":\"2024-06-10 22:00:00+00\",\"lastUpdated\":\"2024-07-27 18:00:00+00\",\"parameters\":[\"no2\",\"o3\",\"so2\"]},{\"country\":\"AT\",\"city\":\"2700 Wiener Neustadt\",\"count\":2360,\"locations\":1,\"firstUpdated\":\"2024-06-10 22:00:00+00\",\"lastUpdated\":\"2024-07-27 18:00:00+00\",\"parameters\":[\"no2\",\"o3\",\"pm10\",\"so2\"]},{\"country\":\"AT\",\"city\":\"2811 Wiesmath\",\"count\":590,\"locations\":1,\"firstUpdated\":\"2024-06-10 22:00:00+00\",\"lastUpdated\":\"2024-07-27 18:00:00+00\",\"parameters\":[\"o3\"]},{\"country\":\"AT\",\"city\":\"3002 Purkersdorf\",\"count\":1180,\"locations\":1,\"firstUpdated\":\"2024-06-10 22:00:00+00\",\"lastUpdated\":\"2024-07-27 18:00:00+00\",\"parameters\":[\"no2\",\"o3\"]},{\"country\":\"AT\",\"city\":\"3100 St. Pölten\",\"count\":4130,\"locations\":2,\"firstUpdated\":\"2024-06-10 22:00:00+00\",\"lastUpdated\":\"2024-07-27 18:00:00+00\",\"parameters\":[\"no2\",\"o3\",\"pm10\",\"pm25\",\"so2\"]},{\"country\":\"AT\",\"city\":\"3111 Gratwein-Straßengel\",\"count\":1768,\"locations\":1,\"firstUpdated\":\"2024-06-10 22:00:00+00\",\"lastUpdated\":\"2024-07-27 18:00:00+00\",\"parameters\":[\"no2\",\"pm10\",\"so2\"]},{\"country\":\"AT\",\"city\":\"3222 Annaberg\",\"count\":590,\"locations\":1,\"firstUpdated\":\"2024-06-10 22:00:00+00\",\"lastUpdated\":\"2024-07-27 18:00:00+00\",\"parameters\":[\"o3\"]},{\"country\":\"AT\",\"city\":\"3300 Amstetten\",\"count\":2360,\"locations\":1,\"firstUpdated\":\"2024-06-10 22:00:00+00\",\"lastUpdated\":\"2024-07-27 18:00:00+00\",\"parameters\":[\"no2\",\"o3\",\"pm10\",\"pm25\"]},{\"country\":\"AT\",\"city\":\"3323 Neustadtl\",\"count\":1180,\"locations\":1,\"firstUpdated\":\"2024-06-10 22:00:00+00\",\"lastUpdated\":\"2024-07-27 18:00:00+00\",\"parameters\":[\"o3\",\"so2\"]},{\"country\":\"AT\",\"city\":\"3331 Kematen an der Ybbs\",\"count\":1770,\"locations\":1,\"firstUpdated\":\"2024-06-10 22:00:00+00\",\"lastUpdated\":\"2024-07-27 18:00:00+00\",\"parameters\":[\"no2\",\"o3\",\"pm10\"]},{\"country\":\"AT\",\"city\":\"3380 Pöchlarn\",\"count\":1180,\"locations\":1,\"firstUpdated\":\"2024-06-10 22:00:00+00\",\"lastUpdated\":\"2024-07-27 18:00:00+00\",\"parameters\":[\"no2\",\"o3\"]},{\"country\":\"AT\",\"city\":\"3400 Klosterneuburg\",\"count\":3540,\"locations\":2,\"firstUpdated\":\"2024-06-10 22:00:00+00\",\"lastUpdated\":\"2024-07-27 18:00:00+00\",\"parameters\":[\"no2\",\"o3\",\"pm10\",\"pm25\",\"so2\"]},{\"country\":\"AT\",\"city\":\"3430 Tulln\",\"count\":2950,\"locations\":1,\"firstUpdated\":\"2024-06-10 22:00:00+00\",\"lastUpdated\":\"2024-07-27 18:00:00+00\",\"parameters\":[\"no2\",\"o3\",\"pm10\",\"pm25\",\"so2\"]},{\"country\":\"AT\",\"city\":\"3435 Zwentendorf\",\"count\":1770,\"locations\":1,\"firstUpdated\":\"2024-06-10 22:00:00+00\",\"lastUpdated\":\"2024-07-27 18:00:00+00\",\"parameters\":[\"no2\",\"pm10\",\"pm25\"]},{\"country\":\"AT\",\"city\":\"3442 Langenrohr\",\"count\":1770,\"locations\":1,\"firstUpdated\":\"2024-06-10 22:00:00+00\",\"lastUpdated\":\"2024-07-27 18:00:00+00\",\"parameters\":[\"no2\",\"pm10\",\"pm25\"]},{\"country\":\"AT\",\"city\":\"3453 Trasdorf\",\"count\":2950,\"locations\":1,\"firstUpdated\":\"2024-06-10 22:00:00+00\",\"lastUpdated\":\"2024-07-27 18:00:00+00\",\"parameters\":[\"no2\",\"o3\",\"pm10\",\"pm25\",\"so2\"]},{\"country\":\"AT\",\"city\":\"3500 Krems\",\"count\":2360,\"locations\":1,\"firstUpdated\":\"2024-06-10 22:00:00+00\",\"lastUpdated\":\"2024-07-27 18:00:00+00\",\"parameters\":[\"no2\",\"o3\",\"pm10\",\"so2\"]},{\"country\":\"AT\",\"city\":\"3512 Bergern im Dunkelsteinerwald\",\"count\":1770,\"locations\":1,\"firstUpdated\":\"2024-06-10 22:00:00+00\",\"lastUpdated\":\"2024-07-27 18:00:00+00\",\"parameters\":[\"no2\",\"o3\",\"so2\"]},{\"country\":\"AT\",\"city\":\"3710 Ziersdorf\",\"count\":1613,\"locations\":1,\"firstUpdated\":\"2024-06-10 22:00:00+00\",\"lastUpdated\":\"2024-07-27 18:00:00+00\",\"parameters\":[\"o3\",\"pm10\",\"pm25\"]},{\"country\":\"AT\",\"city\":\"3754 Irnfritz\",\"count\":1180,\"locations\":1,\"firstUpdated\":\"2024-06-10 22:00:00+00\",\"lastUpdated\":\"2024-07-27 18:00:00+00\",\"parameters\":[\"o3\",\"so2\"]},{\"country\":\"AT\",\"city\":\"3860 Heidenreichstein\",\"count\":2360,\"locations\":1,\"firstUpdated\":\"2024-06-10 22:00:00+00\",\"lastUpdated\":\"2024-07-27 18:00:00+00\",\"parameters\":[\"no2\",\"o3\",\"pm10\",\"so2\"]},{\"country\":\"AT\",\"city\":\"4020 Linz\",\"count\":9381,\"locations\":4,\"firstUpdated\":\"2024-06-10 22:00:00+00\",\"lastUpdated\":\"2024-07-27 18:00:00+00\",\"parameters\":[\"no2\",\"o3\",\"pm10\",\"pm25\",\"so2\"]},{\"country\":\"AT\",\"city\":\"4050 Traun\",\"count\":2360,\"locations\":1,\"firstUpdated\":\"2024-06-10 22:00:00+00\",\"lastUpdated\":\"2024-07-27 18:00:00+00\",\"parameters\":[\"no2\",\"o3\",\"pm10\",\"pm25\"]},{\"country\":\"AT\",\"city\":\"4221 Steyregg\",\"count\":2360,\"locations\":1,\"firstUpdated\":\"2024-06-10 22:00:00+00\",\"lastUpdated\":\"2024-07-27 18:00:00+00\",\"parameters\":[\"no2\",\"pm10\",\"pm25\",\"so2\"]},{\"country\":\"AT\",\"city\":\"4264 Grünbach\",\"count\":2865,\"locations\":1,\"firstUpdated\":\"2024-06-10 22:00:00+00\",\"lastUpdated\":\"2024-07-27 18:00:00+00\",\"parameters\":[\"no2\",\"o3\",\"pm10\",\"pm25\",\"so2\"]},{\"country\":\"AT\",\"city\":\"4300 St. Valentin\",\"count\":2360,\"locations\":1,\"firstUpdated\":\"2024-06-10 22:00:00+00\",\"lastUpdated\":\"2024-07-27 18:00:00+00\",\"parameters\":[\"no2\",\"o3\",\"pm10\",\"pm25\"]},{\"country\":\"AT\",\"city\":\"4400 Steyr\",\"count\":2950,\"locations\":1,\"firstUpdated\":\"2024-06-10 22:00:00+00\",\"lastUpdated\":\"2024-07-27 18:00:00+00\",\"parameters\":[\"no2\",\"o3\",\"pm10\",\"pm25\",\"so2\"]},{\"country\":\"AT\",\"city\":\"4462 Reichraming\",\"count\":2940,\"locations\":1,\"firstUpdated\":\"2024-06-10 22:00:00+00\",\"lastUpdated\":\"2024-07-27 18:00:00+00\",\"parameters\":[\"no2\",\"o3\",\"pm10\",\"pm25\",\"so2\"]},{\"country\":\"AT\",\"city\":\"4470 Enns\",\"count\":1770,\"locations\":1,\"firstUpdated\":\"2024-06-10 22:00:00+00\",\"lastUpdated\":\"2024-07-27 18:00:00+00\",\"parameters\":[\"no2\",\"pm10\",\"pm25\"]},{\"country\":\"AT\",\"city\":\"4600 Wels\",\"count\":2950,\"locations\":1,\"firstUpdated\":\"2024-06-10 22:00:00+00\",\"lastUpdated\":\"2024-07-27 18:00:00+00\",\"parameters\":[\"no2\",\"o3\",\"pm10\",\"pm25\",\"so2\"]},{\"country\":\"AT\",\"city\":\"4761 Enzenkirchen\",\"count\":2930,\"locations\":1,\"firstUpdated\":\"2024-06-10 22:00:00+00\",\"lastUpdated\":\"2024-07-27 18:00:00+00\",\"parameters\":[\"no2\",\"o3\",\"pm10\",\"pm25\",\"so2\"]},{\"country\":\"AT\",\"city\":\"4802 Ebensee\",\"count\":1770,\"locations\":1,\"firstUpdated\":\"2024-06-10 22:00:00+00\",\"lastUpdated\":\"2024-07-27 18:00:00+00\",\"parameters\":[\"o3\",\"pm10\",\"pm25\"]},{\"country\":\"AT\",\"city\":\"4820 Bad Ischl\",\"count\":2360,\"locations\":1,\"firstUpdated\":\"2024-06-10 22:00:00+00\",\"lastUpdated\":\"2024-07-27 18:00:00+00\",\"parameters\":[\"no2\",\"o3\",\"pm10\",\"pm25\"]},{\"country\":\"AT\",\"city\":\"4840 Vöcklabruck\",\"count\":2360,\"locations\":1,\"firstUpdated\":\"2024-06-10 22:00:00+00\",\"lastUpdated\":\"2024-07-27 18:00:00+00\",\"parameters\":[\"no2\",\"o3\",\"pm10\",\"pm25\"]},{\"country\":\"AT\",\"city\":\"4860 Lenzing\",\"count\":2950,\"locations\":1,\"firstUpdated\":\"2024-06-10 22:00:00+00\",\"lastUpdated\":\"2024-07-27 18:00:00+00\",\"parameters\":[\"no2\",\"o3\",\"pm10\",\"pm25\",\"so2\"]},{\"country\":\"AT\",\"city\":\"5020 Salzburg\",\"count\":4682,\"locations\":3,\"firstUpdated\":\"2024-06-10 22:00:00+00\",\"lastUpdated\":\"2024-07-27 18:00:00+00\",\"parameters\":[\"no2\",\"o3\",\"pm10\",\"so2\"]},{\"country\":\"AT\",\"city\":\"5071 Wals-Siezenheim\",\"count\":1180,\"locations\":1,\"firstUpdated\":\"2024-06-10 22:00:00+00\",\"lastUpdated\":\"2024-07-27 18:00:00+00\",\"parameters\":[\"no2\",\"pm10\"]},{\"country\":\"AT\",\"city\":\"5151 Nussdorf am Haunsberg\",\"count\":1180,\"locations\":1,\"firstUpdated\":\"2024-06-10 22:00:00+00\",\"lastUpdated\":\"2024-07-27 18:00:00+00\",\"parameters\":[\"no2\",\"o3\"]},{\"country\":\"AT\",\"city\":\"5280 Braunau am Inn\",\"count\":2950,\"locations\":1,\"firstUpdated\":\"2024-06-10 22:00:00+00\",\"lastUpdated\":\"2024-07-27 18:00:00+00\",\"parameters\":[\"no2\",\"o3\",\"pm10\",\"pm25\",\"so2\"]},{\"country\":\"AT\",\"city\":\"5400 Hallein\",\"count\":4130,\"locations\":3,\"firstUpdated\":\"2024-06-10 22:00:00+00\",\"lastUpdated\":\"2024-07-27 18:00:00+00\",\"parameters\":[\"no2\",\"o3\",\"pm10\",\"so2\"]},{\"country\":\"AT\",\"city\":\"5423 St. Koloman\",\"count\":590,\"locations\":1,\"firstUpdated\":\"2024-06-10 22:00:00+00\",\"lastUpdated\":\"2024-07-27 18:00:00+00\",\"parameters\":[\"o3\"]},{\"country\":\"AT\",\"city\":\"5580 Tamsweg\",\"count\":1770,\"locations\":1,\"firstUpdated\":\"2024-06-10 22:00:00+00\",\"lastUpdated\":\"2024-07-27 18:00:00+00\",\"parameters\":[\"no2\",\"o3\",\"pm10\"]},{\"country\":\"AT\",\"city\":\"5584 Zederhaus\",\"count\":1770,\"locations\":1,\"firstUpdated\":\"2024-06-10 22:00:00+00\",\"lastUpdated\":\"2024-07-27 18:00:00+00\",\"parameters\":[\"no2\",\"o3\",\"pm10\"]},{\"country\":\"AT\",\"city\":\"5600 St. Johann i. Pongau\",\"count\":1180,\"locations\":1,\"firstUpdated\":\"2024-06-10 22:00:00+00\",\"lastUpdated\":\"2024-07-27 18:00:00+00\",\"parameters\":[\"no2\",\"o3\"]},{\"country\":\"AT\",\"city\":\"5661 Rauris\",\"count\":1176,\"locations\":1,\"firstUpdated\":\"2024-06-10 22:00:00+00\",\"lastUpdated\":\"2024-07-27 18:00:00+00\",\"parameters\":[\"no2\",\"o3\"]},{\"country\":\"AT\",\"city\":\"5700 Zell am See\",\"count\":2360,\"locations\":1,\"firstUpdated\":\"2024-06-10 22:00:00+00\",\"lastUpdated\":\"2024-07-27 18:00:00+00\",\"parameters\":[\"no2\",\"o3\",\"pm10\",\"pm25\"]},{\"country\":\"AT\",\"city\":\"6020 Innsbruck\",\"count\":6964,\"locations\":5,\"firstUpdated\":\"2024-06-10 22:00:00+00\",\"lastUpdated\":\"2024-07-27 18:00:00+00\",\"parameters\":[\"no2\",\"o3\",\"pm10\",\"pm25\",\"so2\"]},{\"country\":\"AT\",\"city\":\"6060 Hall i.T.\",\"count\":1160,\"locations\":1,\"firstUpdated\":\"2024-06-10 22:00:00+00\",\"lastUpdated\":\"2024-07-27 18:00:00+00\",\"parameters\":[\"no2\",\"pm10\"]},{\"country\":\"AT\",\"city\":\"6134 Vomp bei Schwaz\",\"count\":1613,\"locations\":1,\"firstUpdated\":\"2024-06-10 22:00:00+00\",\"lastUpdated\":\"2024-07-27 18:00:00+00\",\"parameters\":[\"no2\",\"pm10\",\"pm25\"]},{\"country\":\"AT\",\"city\":\"6230 Brixlegg\",\"count\":1174,\"locations\":1,\"firstUpdated\":\"2024-06-10 22:00:00+00\",\"lastUpdated\":\"2024-07-27 18:00:00+00\",\"parameters\":[\"pm10\",\"so2\"]},{\"country\":\"AT\",\"city\":\"6233 Kramsach\",\"count\":1180,\"locations\":1,\"firstUpdated\":\"2024-06-10 22:00:00+00\",\"lastUpdated\":\"2024-07-27 18:00:00+00\",\"parameters\":[\"no2\",\"o3\"]},{\"country\":\"AT\",\"city\":\"6250 Kundl\",\"count\":590,\"locations\":1,\"firstUpdated\":\"2024-06-10 22:00:00+00\",\"lastUpdated\":\"2024-07-27 18:00:00+00\",\"parameters\":[\"no2\"]},{\"country\":\"AT\",\"city\":\"6300 Wörgl\",\"count\":1739,\"locations\":1,\"firstUpdated\":\"2024-06-10 22:00:00+00\",\"lastUpdated\":\"2024-07-27 18:00:00+00\",\"parameters\":[\"no2\",\"o3\",\"pm10\"]},{\"country\":\"AT\",\"city\":\"6330 Kufstein\",\"count\":1723,\"locations\":2,\"firstUpdated\":\"2024-06-10 22:00:00+00\",\"lastUpdated\":\"2024-07-27 18:00:00+00\",\"parameters\":[\"no2\",\"o3\",\"pm10\"]},{\"country\":\"AT\",\"city\":\"6460 Imst\",\"count\":1169,\"locations\":1,\"firstUpdated\":\"2024-06-10 22:00:00+00\",\"lastUpdated\":\"2024-07-27 18:00:00+00\",\"parameters\":[\"no2\",\"pm10\"]},{\"country\":\"AT\",\"city\":\"6580 St. Anton am Arlberg\",\"count\":590,\"locations\":1,\"firstUpdated\":\"2024-06-10 22:00:00+00\",\"lastUpdated\":\"2024-07-27 18:00:00+00\",\"parameters\":[\"o3\"]},{\"country\":\"AT\",\"city\":\"6600 Reutte\",\"count\":590,\"locations\":1,\"firstUpdated\":\"2024-06-10 22:00:00+00\",\"lastUpdated\":\"2024-07-27 18:00:00+00\",\"parameters\":[\"o3\"]},{\"country\":\"AT\",\"city\":\"6611 Heiterwang\",\"count\":2360,\"locations\":1,\"firstUpdated\":\"2024-06-10 22:00:00+00\",\"lastUpdated\":\"2024-07-27 18:00:00+00\",\"parameters\":[\"no2\",\"o3\",\"pm10\",\"pm25\"]},{\"country\":\"AT\",\"city\":\"6700 Bludenz\",\"count\":590,\"locations\":1,\"firstUpdated\":\"2024-06-10 22:00:00+00\",\"lastUpdated\":\"2024-07-27 18:00:00+00\",\"parameters\":[\"o3\"]},{\"country\":\"AT\",\"city\":\"6752 Dalaas\",\"count\":1180,\"locations\":1,\"firstUpdated\":\"2024-06-10 22:00:00+00\",\"lastUpdated\":\"2024-07-27 18:00:00+00\",\"parameters\":[\"no2\",\"o3\"]},{\"country\":\"AT\",\"city\":\"6800 Feldkirch\",\"count\":1180,\"locations\":1,\"firstUpdated\":\"2024-06-10 22:00:00+00\",\"lastUpdated\":\"2024-07-27 18:00:00+00\",\"parameters\":[\"no2\",\"pm10\"]},{\"country\":\"AT\",\"city\":\"6850 Dornbirn\",\"count\":590,\"locations\":1,\"firstUpdated\":\"2024-06-10 22:00:00+00\",\"lastUpdated\":\"2024-07-27 18:00:00+00\",\"parameters\":[\"no2\"]}]}\n"
     ]
    }
   ],
   "source": [
    "url = \"https://api.openaq.org/v2/cities?limit=100&page=1&offset=0&sort=asc&order_by=city\"\n",
    "headers = {\"accept\": \"application/json\"}\n",
    "\n",
    "response = requests.get(url, headers=headers)\n",
    "\n",
    "print(response.text)"
   ]
  },
  {
   "cell_type": "markdown",
   "metadata": {},
   "source": [
    "### Returning for a City"
   ]
  },
  {
   "cell_type": "code",
   "execution_count": 6,
   "metadata": {},
   "outputs": [
    {
     "name": "stdout",
     "output_type": "stream",
     "text": [
      "{\"meta\":{\"name\":\"openaq-api\",\"license\":\"\",\"website\":\"/\",\"page\":1,\"limit\":100,\"found\":0},\"results\":[]}\n"
     ]
    }
   ],
   "source": [
    "url = \"https://api.openaq.org/v2/averages?temporal=day&locations_id=70084&spatial=location&limit=100&page=1\"\n",
    "headers = {\"accept\": \"application/json\"}\n",
    "response = requests.get(url, headers=headers)\n",
    "\n",
    "print(response.text)"
   ]
  },
  {
   "cell_type": "markdown",
   "metadata": {},
   "source": [
    "### Testing Data Pull\n",
    "Returns latest measurement for location 1067 in portland oregon"
   ]
  },
  {
   "cell_type": "code",
   "execution_count": 18,
   "metadata": {},
   "outputs": [],
   "source": [
    "def query_weather_data(location):\n",
    "\n",
    "    # Defining url for location and requesting data\n",
    "    url = \"https://api.openaq.org/v2/measurements?date_from=2024-05-30T00%3A00%3A00Z&date_to=2024-06-06T20%3A45%3A00Z&limit=5000&page=1&offset=0&sort=desc&parameter_id=2&radius=1000&location_id={}&order_by=datetime\".format(location)\n",
    "    headers = {\"accept\": \"application/json\"}\n",
    "    response = requests.get(url, headers=headers)\n",
    "    converted = response.json()['results']\n",
    "    print(converted)\n",
    "\n",
    "    # Defining lists for data parsing\n",
    "    values = []\n",
    "    date = []\n",
    "    location = []\n",
    "    parameter = []\n",
    "    coordinates = []\n",
    "    latitude = []\n",
    "    longitude = []\n",
    "    \n",
    "    # Iterating through dict and appending values\n",
    "    for entry in converted:\n",
    "        values.append(entry['value'])\n",
    "        date.append(entry['date']['utc'])\n",
    "        location.append(entry['locationId'])\n",
    "        parameter.append(entry['parameter'])\n",
    "        latitude.append(entry['coordinates']['latitude'])\n",
    "        longitude.append(entry['coordinates']['longitude'])\n",
    "\n",
    "    df = pd.DataFrame.from_dict({\"Date\": date,\n",
    "                                \"Value\": values,\n",
    "                                \"location\": location,\n",
    "                                \"parameter\": parameter,\n",
    "                                'longitude': longitude,\n",
    "                                \"latitude\": latitude})\n",
    "    return df"
   ]
  },
  {
   "cell_type": "code",
   "execution_count": 19,
   "metadata": {},
   "outputs": [
    {
     "name": "stdout",
     "output_type": "stream",
     "text": [
      "[{'locationId': 1068, 'location': 'Portland - Spangler', 'parameter': 'pm25', 'value': 4.1, 'date': {'utc': '2024-06-06T20:00:00+00:00', 'local': '2024-06-06T13:00:00-07:00'}, 'unit': 'µg/m³', 'coordinates': {'latitude': 45.25928, 'longitude': -122.588151}, 'country': 'US', 'city': None, 'isMobile': False, 'isAnalysis': None, 'entity': 'Governmental Organization', 'sensorType': 'reference grade'}, {'locationId': 1068, 'location': 'Portland - Spangler', 'parameter': 'pm25', 'value': 4.3, 'date': {'utc': '2024-06-06T19:00:00+00:00', 'local': '2024-06-06T12:00:00-07:00'}, 'unit': 'µg/m³', 'coordinates': {'latitude': 45.25928, 'longitude': -122.588151}, 'country': 'US', 'city': None, 'isMobile': False, 'isAnalysis': None, 'entity': 'Governmental Organization', 'sensorType': 'reference grade'}, {'locationId': 1068, 'location': 'Portland - Spangler', 'parameter': 'pm25', 'value': 4.6, 'date': {'utc': '2024-06-06T18:00:00+00:00', 'local': '2024-06-06T11:00:00-07:00'}, 'unit': 'µg/m³', 'coordinates': {'latitude': 45.25928, 'longitude': -122.588151}, 'country': 'US', 'city': None, 'isMobile': False, 'isAnalysis': None, 'entity': 'Governmental Organization', 'sensorType': 'reference grade'}, {'locationId': 1068, 'location': 'Portland - Spangler', 'parameter': 'pm25', 'value': 4.5, 'date': {'utc': '2024-06-06T17:00:00+00:00', 'local': '2024-06-06T10:00:00-07:00'}, 'unit': 'µg/m³', 'coordinates': {'latitude': 45.25928, 'longitude': -122.588151}, 'country': 'US', 'city': None, 'isMobile': False, 'isAnalysis': None, 'entity': 'Governmental Organization', 'sensorType': 'reference grade'}, {'locationId': 1068, 'location': 'Portland - Spangler', 'parameter': 'pm25', 'value': 4.9, 'date': {'utc': '2024-06-06T16:00:00+00:00', 'local': '2024-06-06T09:00:00-07:00'}, 'unit': 'µg/m³', 'coordinates': {'latitude': 45.25928, 'longitude': -122.588151}, 'country': 'US', 'city': None, 'isMobile': False, 'isAnalysis': None, 'entity': 'Governmental Organization', 'sensorType': 'reference grade'}, {'locationId': 1068, 'location': 'Portland - Spangler', 'parameter': 'pm25', 'value': 4.8, 'date': {'utc': '2024-06-06T15:00:00+00:00', 'local': '2024-06-06T08:00:00-07:00'}, 'unit': 'µg/m³', 'coordinates': {'latitude': 45.25928, 'longitude': -122.588151}, 'country': 'US', 'city': None, 'isMobile': False, 'isAnalysis': None, 'entity': 'Governmental Organization', 'sensorType': 'reference grade'}, {'locationId': 1068, 'location': 'Portland - Spangler', 'parameter': 'pm25', 'value': 5.1, 'date': {'utc': '2024-06-06T14:00:00+00:00', 'local': '2024-06-06T07:00:00-07:00'}, 'unit': 'µg/m³', 'coordinates': {'latitude': 45.25928, 'longitude': -122.588151}, 'country': 'US', 'city': None, 'isMobile': False, 'isAnalysis': None, 'entity': 'Governmental Organization', 'sensorType': 'reference grade'}, {'locationId': 1068, 'location': 'Portland - Spangler', 'parameter': 'pm25', 'value': 4.8, 'date': {'utc': '2024-06-06T13:00:00+00:00', 'local': '2024-06-06T06:00:00-07:00'}, 'unit': 'µg/m³', 'coordinates': {'latitude': 45.25928, 'longitude': -122.588151}, 'country': 'US', 'city': None, 'isMobile': False, 'isAnalysis': None, 'entity': 'Governmental Organization', 'sensorType': 'reference grade'}, {'locationId': 1068, 'location': 'Portland - Spangler', 'parameter': 'pm25', 'value': 4.7, 'date': {'utc': '2024-06-06T12:00:00+00:00', 'local': '2024-06-06T05:00:00-07:00'}, 'unit': 'µg/m³', 'coordinates': {'latitude': 45.25928, 'longitude': -122.588151}, 'country': 'US', 'city': None, 'isMobile': False, 'isAnalysis': None, 'entity': 'Governmental Organization', 'sensorType': 'reference grade'}, {'locationId': 1068, 'location': 'Portland - Spangler', 'parameter': 'pm25', 'value': 4.2, 'date': {'utc': '2024-06-06T11:00:00+00:00', 'local': '2024-06-06T04:00:00-07:00'}, 'unit': 'µg/m³', 'coordinates': {'latitude': 45.25928, 'longitude': -122.588151}, 'country': 'US', 'city': None, 'isMobile': False, 'isAnalysis': None, 'entity': 'Governmental Organization', 'sensorType': 'reference grade'}, {'locationId': 1068, 'location': 'Portland - Spangler', 'parameter': 'pm25', 'value': 4.1, 'date': {'utc': '2024-06-06T10:00:00+00:00', 'local': '2024-06-06T03:00:00-07:00'}, 'unit': 'µg/m³', 'coordinates': {'latitude': 45.25928, 'longitude': -122.588151}, 'country': 'US', 'city': None, 'isMobile': False, 'isAnalysis': None, 'entity': 'Governmental Organization', 'sensorType': 'reference grade'}, {'locationId': 1068, 'location': 'Portland - Spangler', 'parameter': 'pm25', 'value': 4.2, 'date': {'utc': '2024-06-06T09:00:00+00:00', 'local': '2024-06-06T02:00:00-07:00'}, 'unit': 'µg/m³', 'coordinates': {'latitude': 45.25928, 'longitude': -122.588151}, 'country': 'US', 'city': None, 'isMobile': False, 'isAnalysis': None, 'entity': 'Governmental Organization', 'sensorType': 'reference grade'}, {'locationId': 1068, 'location': 'Portland - Spangler', 'parameter': 'pm25', 'value': 4.2, 'date': {'utc': '2024-06-06T08:00:00+00:00', 'local': '2024-06-06T01:00:00-07:00'}, 'unit': 'µg/m³', 'coordinates': {'latitude': 45.25928, 'longitude': -122.588151}, 'country': 'US', 'city': None, 'isMobile': False, 'isAnalysis': None, 'entity': 'Governmental Organization', 'sensorType': 'reference grade'}, {'locationId': 1068, 'location': 'Portland - Spangler', 'parameter': 'pm25', 'value': 3.9, 'date': {'utc': '2024-06-06T07:00:00+00:00', 'local': '2024-06-06T00:00:00-07:00'}, 'unit': 'µg/m³', 'coordinates': {'latitude': 45.25928, 'longitude': -122.588151}, 'country': 'US', 'city': None, 'isMobile': False, 'isAnalysis': None, 'entity': 'Governmental Organization', 'sensorType': 'reference grade'}, {'locationId': 1068, 'location': 'Portland - Spangler', 'parameter': 'pm25', 'value': 3.5, 'date': {'utc': '2024-06-06T06:00:00+00:00', 'local': '2024-06-05T23:00:00-07:00'}, 'unit': 'µg/m³', 'coordinates': {'latitude': 45.25928, 'longitude': -122.588151}, 'country': 'US', 'city': None, 'isMobile': False, 'isAnalysis': None, 'entity': 'Governmental Organization', 'sensorType': 'reference grade'}, {'locationId': 1068, 'location': 'Portland - Spangler', 'parameter': 'pm25', 'value': 3.2, 'date': {'utc': '2024-06-06T05:00:00+00:00', 'local': '2024-06-05T22:00:00-07:00'}, 'unit': 'µg/m³', 'coordinates': {'latitude': 45.25928, 'longitude': -122.588151}, 'country': 'US', 'city': None, 'isMobile': False, 'isAnalysis': None, 'entity': 'Governmental Organization', 'sensorType': 'reference grade'}, {'locationId': 1068, 'location': 'Portland - Spangler', 'parameter': 'pm25', 'value': 3.3, 'date': {'utc': '2024-06-06T04:00:00+00:00', 'local': '2024-06-05T21:00:00-07:00'}, 'unit': 'µg/m³', 'coordinates': {'latitude': 45.25928, 'longitude': -122.588151}, 'country': 'US', 'city': None, 'isMobile': False, 'isAnalysis': None, 'entity': 'Governmental Organization', 'sensorType': 'reference grade'}, {'locationId': 1068, 'location': 'Portland - Spangler', 'parameter': 'pm25', 'value': 3.2, 'date': {'utc': '2024-06-06T03:00:00+00:00', 'local': '2024-06-05T20:00:00-07:00'}, 'unit': 'µg/m³', 'coordinates': {'latitude': 45.25928, 'longitude': -122.588151}, 'country': 'US', 'city': None, 'isMobile': False, 'isAnalysis': None, 'entity': 'Governmental Organization', 'sensorType': 'reference grade'}, {'locationId': 1068, 'location': 'Portland - Spangler', 'parameter': 'pm25', 'value': 3.1, 'date': {'utc': '2024-06-06T02:00:00+00:00', 'local': '2024-06-05T19:00:00-07:00'}, 'unit': 'µg/m³', 'coordinates': {'latitude': 45.25928, 'longitude': -122.588151}, 'country': 'US', 'city': None, 'isMobile': False, 'isAnalysis': None, 'entity': 'Governmental Organization', 'sensorType': 'reference grade'}, {'locationId': 1068, 'location': 'Portland - Spangler', 'parameter': 'pm25', 'value': 3.1, 'date': {'utc': '2024-06-06T01:00:00+00:00', 'local': '2024-06-05T18:00:00-07:00'}, 'unit': 'µg/m³', 'coordinates': {'latitude': 45.25928, 'longitude': -122.588151}, 'country': 'US', 'city': None, 'isMobile': False, 'isAnalysis': None, 'entity': 'Governmental Organization', 'sensorType': 'reference grade'}, {'locationId': 1068, 'location': 'Portland - Spangler', 'parameter': 'pm25', 'value': 3.3, 'date': {'utc': '2024-06-06T00:00:00+00:00', 'local': '2024-06-05T17:00:00-07:00'}, 'unit': 'µg/m³', 'coordinates': {'latitude': 45.25928, 'longitude': -122.588151}, 'country': 'US', 'city': None, 'isMobile': False, 'isAnalysis': None, 'entity': 'Governmental Organization', 'sensorType': 'reference grade'}, {'locationId': 1068, 'location': 'Portland - Spangler', 'parameter': 'pm25', 'value': 3.8, 'date': {'utc': '2024-06-05T23:00:00+00:00', 'local': '2024-06-05T16:00:00-07:00'}, 'unit': 'µg/m³', 'coordinates': {'latitude': 45.25928, 'longitude': -122.588151}, 'country': 'US', 'city': None, 'isMobile': False, 'isAnalysis': None, 'entity': 'Governmental Organization', 'sensorType': 'reference grade'}, {'locationId': 1068, 'location': 'Portland - Spangler', 'parameter': 'pm25', 'value': 4.4, 'date': {'utc': '2024-06-05T22:00:00+00:00', 'local': '2024-06-05T15:00:00-07:00'}, 'unit': 'µg/m³', 'coordinates': {'latitude': 45.25928, 'longitude': -122.588151}, 'country': 'US', 'city': None, 'isMobile': False, 'isAnalysis': None, 'entity': 'Governmental Organization', 'sensorType': 'reference grade'}, {'locationId': 1068, 'location': 'Portland - Spangler', 'parameter': 'pm25', 'value': 4.9, 'date': {'utc': '2024-06-05T21:00:00+00:00', 'local': '2024-06-05T14:00:00-07:00'}, 'unit': 'µg/m³', 'coordinates': {'latitude': 45.25928, 'longitude': -122.588151}, 'country': 'US', 'city': None, 'isMobile': False, 'isAnalysis': None, 'entity': 'Governmental Organization', 'sensorType': 'reference grade'}, {'locationId': 1068, 'location': 'Portland - Spangler', 'parameter': 'pm25', 'value': 4.6, 'date': {'utc': '2024-06-05T20:00:00+00:00', 'local': '2024-06-05T13:00:00-07:00'}, 'unit': 'µg/m³', 'coordinates': {'latitude': 45.25928, 'longitude': -122.588151}, 'country': 'US', 'city': None, 'isMobile': False, 'isAnalysis': None, 'entity': 'Governmental Organization', 'sensorType': 'reference grade'}, {'locationId': 1068, 'location': 'Portland - Spangler', 'parameter': 'pm25', 'value': 5.0, 'date': {'utc': '2024-06-05T19:00:00+00:00', 'local': '2024-06-05T12:00:00-07:00'}, 'unit': 'µg/m³', 'coordinates': {'latitude': 45.25928, 'longitude': -122.588151}, 'country': 'US', 'city': None, 'isMobile': False, 'isAnalysis': None, 'entity': 'Governmental Organization', 'sensorType': 'reference grade'}, {'locationId': 1068, 'location': 'Portland - Spangler', 'parameter': 'pm25', 'value': 4.5, 'date': {'utc': '2024-06-05T18:00:00+00:00', 'local': '2024-06-05T11:00:00-07:00'}, 'unit': 'µg/m³', 'coordinates': {'latitude': 45.25928, 'longitude': -122.588151}, 'country': 'US', 'city': None, 'isMobile': False, 'isAnalysis': None, 'entity': 'Governmental Organization', 'sensorType': 'reference grade'}, {'locationId': 1068, 'location': 'Portland - Spangler', 'parameter': 'pm25', 'value': 5.0, 'date': {'utc': '2024-06-05T17:00:00+00:00', 'local': '2024-06-05T10:00:00-07:00'}, 'unit': 'µg/m³', 'coordinates': {'latitude': 45.25928, 'longitude': -122.588151}, 'country': 'US', 'city': None, 'isMobile': False, 'isAnalysis': None, 'entity': 'Governmental Organization', 'sensorType': 'reference grade'}, {'locationId': 1068, 'location': 'Portland - Spangler', 'parameter': 'pm25', 'value': 5.0, 'date': {'utc': '2024-06-05T16:00:00+00:00', 'local': '2024-06-05T09:00:00-07:00'}, 'unit': 'µg/m³', 'coordinates': {'latitude': 45.25928, 'longitude': -122.588151}, 'country': 'US', 'city': None, 'isMobile': False, 'isAnalysis': None, 'entity': 'Governmental Organization', 'sensorType': 'reference grade'}, {'locationId': 1068, 'location': 'Portland - Spangler', 'parameter': 'pm25', 'value': 5.0, 'date': {'utc': '2024-06-05T15:00:00+00:00', 'local': '2024-06-05T08:00:00-07:00'}, 'unit': 'µg/m³', 'coordinates': {'latitude': 45.25928, 'longitude': -122.588151}, 'country': 'US', 'city': None, 'isMobile': False, 'isAnalysis': None, 'entity': 'Governmental Organization', 'sensorType': 'reference grade'}, {'locationId': 1068, 'location': 'Portland - Spangler', 'parameter': 'pm25', 'value': 4.8, 'date': {'utc': '2024-06-05T14:00:00+00:00', 'local': '2024-06-05T07:00:00-07:00'}, 'unit': 'µg/m³', 'coordinates': {'latitude': 45.25928, 'longitude': -122.588151}, 'country': 'US', 'city': None, 'isMobile': False, 'isAnalysis': None, 'entity': 'Governmental Organization', 'sensorType': 'reference grade'}, {'locationId': 1068, 'location': 'Portland - Spangler', 'parameter': 'pm25', 'value': 3.9, 'date': {'utc': '2024-06-05T13:00:00+00:00', 'local': '2024-06-05T06:00:00-07:00'}, 'unit': 'µg/m³', 'coordinates': {'latitude': 45.25928, 'longitude': -122.588151}, 'country': 'US', 'city': None, 'isMobile': False, 'isAnalysis': None, 'entity': 'Governmental Organization', 'sensorType': 'reference grade'}, {'locationId': 1068, 'location': 'Portland - Spangler', 'parameter': 'pm25', 'value': 3.6, 'date': {'utc': '2024-06-05T12:00:00+00:00', 'local': '2024-06-05T05:00:00-07:00'}, 'unit': 'µg/m³', 'coordinates': {'latitude': 45.25928, 'longitude': -122.588151}, 'country': 'US', 'city': None, 'isMobile': False, 'isAnalysis': None, 'entity': 'Governmental Organization', 'sensorType': 'reference grade'}, {'locationId': 1068, 'location': 'Portland - Spangler', 'parameter': 'pm25', 'value': 3.8, 'date': {'utc': '2024-06-05T11:00:00+00:00', 'local': '2024-06-05T04:00:00-07:00'}, 'unit': 'µg/m³', 'coordinates': {'latitude': 45.25928, 'longitude': -122.588151}, 'country': 'US', 'city': None, 'isMobile': False, 'isAnalysis': None, 'entity': 'Governmental Organization', 'sensorType': 'reference grade'}, {'locationId': 1068, 'location': 'Portland - Spangler', 'parameter': 'pm25', 'value': 3.8, 'date': {'utc': '2024-06-05T10:00:00+00:00', 'local': '2024-06-05T03:00:00-07:00'}, 'unit': 'µg/m³', 'coordinates': {'latitude': 45.25928, 'longitude': -122.588151}, 'country': 'US', 'city': None, 'isMobile': False, 'isAnalysis': None, 'entity': 'Governmental Organization', 'sensorType': 'reference grade'}, {'locationId': 1068, 'location': 'Portland - Spangler', 'parameter': 'pm25', 'value': 3.8, 'date': {'utc': '2024-06-05T09:00:00+00:00', 'local': '2024-06-05T02:00:00-07:00'}, 'unit': 'µg/m³', 'coordinates': {'latitude': 45.25928, 'longitude': -122.588151}, 'country': 'US', 'city': None, 'isMobile': False, 'isAnalysis': None, 'entity': 'Governmental Organization', 'sensorType': 'reference grade'}, {'locationId': 1068, 'location': 'Portland - Spangler', 'parameter': 'pm25', 'value': 3.7, 'date': {'utc': '2024-06-05T08:00:00+00:00', 'local': '2024-06-05T01:00:00-07:00'}, 'unit': 'µg/m³', 'coordinates': {'latitude': 45.25928, 'longitude': -122.588151}, 'country': 'US', 'city': None, 'isMobile': False, 'isAnalysis': None, 'entity': 'Governmental Organization', 'sensorType': 'reference grade'}, {'locationId': 1068, 'location': 'Portland - Spangler', 'parameter': 'pm25', 'value': 3.3, 'date': {'utc': '2024-06-05T07:00:00+00:00', 'local': '2024-06-05T00:00:00-07:00'}, 'unit': 'µg/m³', 'coordinates': {'latitude': 45.25928, 'longitude': -122.588151}, 'country': 'US', 'city': None, 'isMobile': False, 'isAnalysis': None, 'entity': 'Governmental Organization', 'sensorType': 'reference grade'}, {'locationId': 1068, 'location': 'Portland - Spangler', 'parameter': 'pm25', 'value': 3.1, 'date': {'utc': '2024-06-05T06:00:00+00:00', 'local': '2024-06-04T23:00:00-07:00'}, 'unit': 'µg/m³', 'coordinates': {'latitude': 45.25928, 'longitude': -122.588151}, 'country': 'US', 'city': None, 'isMobile': False, 'isAnalysis': None, 'entity': 'Governmental Organization', 'sensorType': 'reference grade'}, {'locationId': 1068, 'location': 'Portland - Spangler', 'parameter': 'pm25', 'value': 1.7, 'date': {'utc': '2024-06-05T05:00:00+00:00', 'local': '2024-06-04T22:00:00-07:00'}, 'unit': 'µg/m³', 'coordinates': {'latitude': 45.25928, 'longitude': -122.588151}, 'country': 'US', 'city': None, 'isMobile': False, 'isAnalysis': None, 'entity': 'Governmental Organization', 'sensorType': 'reference grade'}, {'locationId': 1068, 'location': 'Portland - Spangler', 'parameter': 'pm25', 'value': 1.6, 'date': {'utc': '2024-06-05T04:00:00+00:00', 'local': '2024-06-04T21:00:00-07:00'}, 'unit': 'µg/m³', 'coordinates': {'latitude': 45.25928, 'longitude': -122.588151}, 'country': 'US', 'city': None, 'isMobile': False, 'isAnalysis': None, 'entity': 'Governmental Organization', 'sensorType': 'reference grade'}, {'locationId': 1068, 'location': 'Portland - Spangler', 'parameter': 'pm25', 'value': 1.6, 'date': {'utc': '2024-06-05T03:00:00+00:00', 'local': '2024-06-04T20:00:00-07:00'}, 'unit': 'µg/m³', 'coordinates': {'latitude': 45.25928, 'longitude': -122.588151}, 'country': 'US', 'city': None, 'isMobile': False, 'isAnalysis': None, 'entity': 'Governmental Organization', 'sensorType': 'reference grade'}, {'locationId': 1068, 'location': 'Portland - Spangler', 'parameter': 'pm25', 'value': 1.7, 'date': {'utc': '2024-06-05T02:00:00+00:00', 'local': '2024-06-04T19:00:00-07:00'}, 'unit': 'µg/m³', 'coordinates': {'latitude': 45.25928, 'longitude': -122.588151}, 'country': 'US', 'city': None, 'isMobile': False, 'isAnalysis': None, 'entity': 'Governmental Organization', 'sensorType': 'reference grade'}, {'locationId': 1068, 'location': 'Portland - Spangler', 'parameter': 'pm25', 'value': 2.8, 'date': {'utc': '2024-06-05T01:00:00+00:00', 'local': '2024-06-04T18:00:00-07:00'}, 'unit': 'µg/m³', 'coordinates': {'latitude': 45.25928, 'longitude': -122.588151}, 'country': 'US', 'city': None, 'isMobile': False, 'isAnalysis': None, 'entity': 'Governmental Organization', 'sensorType': 'reference grade'}, {'locationId': 1068, 'location': 'Portland - Spangler', 'parameter': 'pm25', 'value': 4.7, 'date': {'utc': '2024-06-05T00:00:00+00:00', 'local': '2024-06-04T17:00:00-07:00'}, 'unit': 'µg/m³', 'coordinates': {'latitude': 45.25928, 'longitude': -122.588151}, 'country': 'US', 'city': None, 'isMobile': False, 'isAnalysis': None, 'entity': 'Governmental Organization', 'sensorType': 'reference grade'}, {'locationId': 1068, 'location': 'Portland - Spangler', 'parameter': 'pm25', 'value': 4.3, 'date': {'utc': '2024-06-04T23:00:00+00:00', 'local': '2024-06-04T16:00:00-07:00'}, 'unit': 'µg/m³', 'coordinates': {'latitude': 45.25928, 'longitude': -122.588151}, 'country': 'US', 'city': None, 'isMobile': False, 'isAnalysis': None, 'entity': 'Governmental Organization', 'sensorType': 'reference grade'}, {'locationId': 1068, 'location': 'Portland - Spangler', 'parameter': 'pm25', 'value': 4.1, 'date': {'utc': '2024-06-04T22:00:00+00:00', 'local': '2024-06-04T15:00:00-07:00'}, 'unit': 'µg/m³', 'coordinates': {'latitude': 45.25928, 'longitude': -122.588151}, 'country': 'US', 'city': None, 'isMobile': False, 'isAnalysis': None, 'entity': 'Governmental Organization', 'sensorType': 'reference grade'}, {'locationId': 1068, 'location': 'Portland - Spangler', 'parameter': 'pm25', 'value': 3.9, 'date': {'utc': '2024-06-04T21:00:00+00:00', 'local': '2024-06-04T14:00:00-07:00'}, 'unit': 'µg/m³', 'coordinates': {'latitude': 45.25928, 'longitude': -122.588151}, 'country': 'US', 'city': None, 'isMobile': False, 'isAnalysis': None, 'entity': 'Governmental Organization', 'sensorType': 'reference grade'}, {'locationId': 1068, 'location': 'Portland - Spangler', 'parameter': 'pm25', 'value': 3.8, 'date': {'utc': '2024-06-04T20:00:00+00:00', 'local': '2024-06-04T13:00:00-07:00'}, 'unit': 'µg/m³', 'coordinates': {'latitude': 45.25928, 'longitude': -122.588151}, 'country': 'US', 'city': None, 'isMobile': False, 'isAnalysis': None, 'entity': 'Governmental Organization', 'sensorType': 'reference grade'}, {'locationId': 1068, 'location': 'Portland - Spangler', 'parameter': 'pm25', 'value': 3.5, 'date': {'utc': '2024-06-04T19:00:00+00:00', 'local': '2024-06-04T12:00:00-07:00'}, 'unit': 'µg/m³', 'coordinates': {'latitude': 45.25928, 'longitude': -122.588151}, 'country': 'US', 'city': None, 'isMobile': False, 'isAnalysis': None, 'entity': 'Governmental Organization', 'sensorType': 'reference grade'}, {'locationId': 1068, 'location': 'Portland - Spangler', 'parameter': 'pm25', 'value': 3.2, 'date': {'utc': '2024-06-04T18:00:00+00:00', 'local': '2024-06-04T11:00:00-07:00'}, 'unit': 'µg/m³', 'coordinates': {'latitude': 45.25928, 'longitude': -122.588151}, 'country': 'US', 'city': None, 'isMobile': False, 'isAnalysis': None, 'entity': 'Governmental Organization', 'sensorType': 'reference grade'}, {'locationId': 1068, 'location': 'Portland - Spangler', 'parameter': 'pm25', 'value': 3.0, 'date': {'utc': '2024-06-04T17:00:00+00:00', 'local': '2024-06-04T10:00:00-07:00'}, 'unit': 'µg/m³', 'coordinates': {'latitude': 45.25928, 'longitude': -122.588151}, 'country': 'US', 'city': None, 'isMobile': False, 'isAnalysis': None, 'entity': 'Governmental Organization', 'sensorType': 'reference grade'}, {'locationId': 1068, 'location': 'Portland - Spangler', 'parameter': 'pm25', 'value': 2.8, 'date': {'utc': '2024-06-04T16:00:00+00:00', 'local': '2024-06-04T09:00:00-07:00'}, 'unit': 'µg/m³', 'coordinates': {'latitude': 45.25928, 'longitude': -122.588151}, 'country': 'US', 'city': None, 'isMobile': False, 'isAnalysis': None, 'entity': 'Governmental Organization', 'sensorType': 'reference grade'}, {'locationId': 1068, 'location': 'Portland - Spangler', 'parameter': 'pm25', 'value': 2.6, 'date': {'utc': '2024-06-04T15:00:00+00:00', 'local': '2024-06-04T08:00:00-07:00'}, 'unit': 'µg/m³', 'coordinates': {'latitude': 45.25928, 'longitude': -122.588151}, 'country': 'US', 'city': None, 'isMobile': False, 'isAnalysis': None, 'entity': 'Governmental Organization', 'sensorType': 'reference grade'}, {'locationId': 1068, 'location': 'Portland - Spangler', 'parameter': 'pm25', 'value': 2.8, 'date': {'utc': '2024-06-04T14:00:00+00:00', 'local': '2024-06-04T07:00:00-07:00'}, 'unit': 'µg/m³', 'coordinates': {'latitude': 45.25928, 'longitude': -122.588151}, 'country': 'US', 'city': None, 'isMobile': False, 'isAnalysis': None, 'entity': 'Governmental Organization', 'sensorType': 'reference grade'}, {'locationId': 1068, 'location': 'Portland - Spangler', 'parameter': 'pm25', 'value': 2.9, 'date': {'utc': '2024-06-04T13:00:00+00:00', 'local': '2024-06-04T06:00:00-07:00'}, 'unit': 'µg/m³', 'coordinates': {'latitude': 45.25928, 'longitude': -122.588151}, 'country': 'US', 'city': None, 'isMobile': False, 'isAnalysis': None, 'entity': 'Governmental Organization', 'sensorType': 'reference grade'}, {'locationId': 1068, 'location': 'Portland - Spangler', 'parameter': 'pm25', 'value': 3.0, 'date': {'utc': '2024-06-04T12:00:00+00:00', 'local': '2024-06-04T05:00:00-07:00'}, 'unit': 'µg/m³', 'coordinates': {'latitude': 45.25928, 'longitude': -122.588151}, 'country': 'US', 'city': None, 'isMobile': False, 'isAnalysis': None, 'entity': 'Governmental Organization', 'sensorType': 'reference grade'}, {'locationId': 1068, 'location': 'Portland - Spangler', 'parameter': 'pm25', 'value': 3.1, 'date': {'utc': '2024-06-04T11:00:00+00:00', 'local': '2024-06-04T04:00:00-07:00'}, 'unit': 'µg/m³', 'coordinates': {'latitude': 45.25928, 'longitude': -122.588151}, 'country': 'US', 'city': None, 'isMobile': False, 'isAnalysis': None, 'entity': 'Governmental Organization', 'sensorType': 'reference grade'}, {'locationId': 1068, 'location': 'Portland - Spangler', 'parameter': 'pm25', 'value': 3.2, 'date': {'utc': '2024-06-04T10:00:00+00:00', 'local': '2024-06-04T03:00:00-07:00'}, 'unit': 'µg/m³', 'coordinates': {'latitude': 45.25928, 'longitude': -122.588151}, 'country': 'US', 'city': None, 'isMobile': False, 'isAnalysis': None, 'entity': 'Governmental Organization', 'sensorType': 'reference grade'}, {'locationId': 1068, 'location': 'Portland - Spangler', 'parameter': 'pm25', 'value': 3.2, 'date': {'utc': '2024-06-04T09:00:00+00:00', 'local': '2024-06-04T02:00:00-07:00'}, 'unit': 'µg/m³', 'coordinates': {'latitude': 45.25928, 'longitude': -122.588151}, 'country': 'US', 'city': None, 'isMobile': False, 'isAnalysis': None, 'entity': 'Governmental Organization', 'sensorType': 'reference grade'}, {'locationId': 1068, 'location': 'Portland - Spangler', 'parameter': 'pm25', 'value': 3.1, 'date': {'utc': '2024-06-04T08:00:00+00:00', 'local': '2024-06-04T01:00:00-07:00'}, 'unit': 'µg/m³', 'coordinates': {'latitude': 45.25928, 'longitude': -122.588151}, 'country': 'US', 'city': None, 'isMobile': False, 'isAnalysis': None, 'entity': 'Governmental Organization', 'sensorType': 'reference grade'}, {'locationId': 1068, 'location': 'Portland - Spangler', 'parameter': 'pm25', 'value': 2.9, 'date': {'utc': '2024-06-04T07:00:00+00:00', 'local': '2024-06-04T00:00:00-07:00'}, 'unit': 'µg/m³', 'coordinates': {'latitude': 45.25928, 'longitude': -122.588151}, 'country': 'US', 'city': None, 'isMobile': False, 'isAnalysis': None, 'entity': 'Governmental Organization', 'sensorType': 'reference grade'}, {'locationId': 1068, 'location': 'Portland - Spangler', 'parameter': 'pm25', 'value': 3.1, 'date': {'utc': '2024-06-04T06:00:00+00:00', 'local': '2024-06-03T23:00:00-07:00'}, 'unit': 'µg/m³', 'coordinates': {'latitude': 45.25928, 'longitude': -122.588151}, 'country': 'US', 'city': None, 'isMobile': False, 'isAnalysis': None, 'entity': 'Governmental Organization', 'sensorType': 'reference grade'}, {'locationId': 1068, 'location': 'Portland - Spangler', 'parameter': 'pm25', 'value': 3.7, 'date': {'utc': '2024-06-04T05:00:00+00:00', 'local': '2024-06-03T22:00:00-07:00'}, 'unit': 'µg/m³', 'coordinates': {'latitude': 45.25928, 'longitude': -122.588151}, 'country': 'US', 'city': None, 'isMobile': False, 'isAnalysis': None, 'entity': 'Governmental Organization', 'sensorType': 'reference grade'}, {'locationId': 1068, 'location': 'Portland - Spangler', 'parameter': 'pm25', 'value': 3.5, 'date': {'utc': '2024-06-04T04:00:00+00:00', 'local': '2024-06-03T21:00:00-07:00'}, 'unit': 'µg/m³', 'coordinates': {'latitude': 45.25928, 'longitude': -122.588151}, 'country': 'US', 'city': None, 'isMobile': False, 'isAnalysis': None, 'entity': 'Governmental Organization', 'sensorType': 'reference grade'}, {'locationId': 1068, 'location': 'Portland - Spangler', 'parameter': 'pm25', 'value': 3.2, 'date': {'utc': '2024-06-04T03:00:00+00:00', 'local': '2024-06-03T20:00:00-07:00'}, 'unit': 'µg/m³', 'coordinates': {'latitude': 45.25928, 'longitude': -122.588151}, 'country': 'US', 'city': None, 'isMobile': False, 'isAnalysis': None, 'entity': 'Governmental Organization', 'sensorType': 'reference grade'}, {'locationId': 1068, 'location': 'Portland - Spangler', 'parameter': 'pm25', 'value': 3.2, 'date': {'utc': '2024-06-04T02:00:00+00:00', 'local': '2024-06-03T19:00:00-07:00'}, 'unit': 'µg/m³', 'coordinates': {'latitude': 45.25928, 'longitude': -122.588151}, 'country': 'US', 'city': None, 'isMobile': False, 'isAnalysis': None, 'entity': 'Governmental Organization', 'sensorType': 'reference grade'}, {'locationId': 1068, 'location': 'Portland - Spangler', 'parameter': 'pm25', 'value': 2.9, 'date': {'utc': '2024-06-04T01:00:00+00:00', 'local': '2024-06-03T18:00:00-07:00'}, 'unit': 'µg/m³', 'coordinates': {'latitude': 45.25928, 'longitude': -122.588151}, 'country': 'US', 'city': None, 'isMobile': False, 'isAnalysis': None, 'entity': 'Governmental Organization', 'sensorType': 'reference grade'}, {'locationId': 1068, 'location': 'Portland - Spangler', 'parameter': 'pm25', 'value': 3.1, 'date': {'utc': '2024-06-04T00:00:00+00:00', 'local': '2024-06-03T17:00:00-07:00'}, 'unit': 'µg/m³', 'coordinates': {'latitude': 45.25928, 'longitude': -122.588151}, 'country': 'US', 'city': None, 'isMobile': False, 'isAnalysis': None, 'entity': 'Governmental Organization', 'sensorType': 'reference grade'}, {'locationId': 1068, 'location': 'Portland - Spangler', 'parameter': 'pm25', 'value': 3.2, 'date': {'utc': '2024-06-03T23:00:00+00:00', 'local': '2024-06-03T16:00:00-07:00'}, 'unit': 'µg/m³', 'coordinates': {'latitude': 45.25928, 'longitude': -122.588151}, 'country': 'US', 'city': None, 'isMobile': False, 'isAnalysis': None, 'entity': 'Governmental Organization', 'sensorType': 'reference grade'}, {'locationId': 1068, 'location': 'Portland - Spangler', 'parameter': 'pm25', 'value': 3.1, 'date': {'utc': '2024-06-03T22:00:00+00:00', 'local': '2024-06-03T15:00:00-07:00'}, 'unit': 'µg/m³', 'coordinates': {'latitude': 45.25928, 'longitude': -122.588151}, 'country': 'US', 'city': None, 'isMobile': False, 'isAnalysis': None, 'entity': 'Governmental Organization', 'sensorType': 'reference grade'}, {'locationId': 1068, 'location': 'Portland - Spangler', 'parameter': 'pm25', 'value': 3.1, 'date': {'utc': '2024-06-03T21:00:00+00:00', 'local': '2024-06-03T14:00:00-07:00'}, 'unit': 'µg/m³', 'coordinates': {'latitude': 45.25928, 'longitude': -122.588151}, 'country': 'US', 'city': None, 'isMobile': False, 'isAnalysis': None, 'entity': 'Governmental Organization', 'sensorType': 'reference grade'}, {'locationId': 1068, 'location': 'Portland - Spangler', 'parameter': 'pm25', 'value': 2.6, 'date': {'utc': '2024-06-03T20:00:00+00:00', 'local': '2024-06-03T13:00:00-07:00'}, 'unit': 'µg/m³', 'coordinates': {'latitude': 45.25928, 'longitude': -122.588151}, 'country': 'US', 'city': None, 'isMobile': False, 'isAnalysis': None, 'entity': 'Governmental Organization', 'sensorType': 'reference grade'}, {'locationId': 1068, 'location': 'Portland - Spangler', 'parameter': 'pm25', 'value': 2.7, 'date': {'utc': '2024-06-03T19:00:00+00:00', 'local': '2024-06-03T12:00:00-07:00'}, 'unit': 'µg/m³', 'coordinates': {'latitude': 45.25928, 'longitude': -122.588151}, 'country': 'US', 'city': None, 'isMobile': False, 'isAnalysis': None, 'entity': 'Governmental Organization', 'sensorType': 'reference grade'}, {'locationId': 1068, 'location': 'Portland - Spangler', 'parameter': 'pm25', 'value': 2.7, 'date': {'utc': '2024-06-03T18:00:00+00:00', 'local': '2024-06-03T11:00:00-07:00'}, 'unit': 'µg/m³', 'coordinates': {'latitude': 45.25928, 'longitude': -122.588151}, 'country': 'US', 'city': None, 'isMobile': False, 'isAnalysis': None, 'entity': 'Governmental Organization', 'sensorType': 'reference grade'}, {'locationId': 1068, 'location': 'Portland - Spangler', 'parameter': 'pm25', 'value': 2.7, 'date': {'utc': '2024-06-03T17:00:00+00:00', 'local': '2024-06-03T10:00:00-07:00'}, 'unit': 'µg/m³', 'coordinates': {'latitude': 45.25928, 'longitude': -122.588151}, 'country': 'US', 'city': None, 'isMobile': False, 'isAnalysis': None, 'entity': 'Governmental Organization', 'sensorType': 'reference grade'}, {'locationId': 1068, 'location': 'Portland - Spangler', 'parameter': 'pm25', 'value': 3.1, 'date': {'utc': '2024-06-03T16:00:00+00:00', 'local': '2024-06-03T09:00:00-07:00'}, 'unit': 'µg/m³', 'coordinates': {'latitude': 45.25928, 'longitude': -122.588151}, 'country': 'US', 'city': None, 'isMobile': False, 'isAnalysis': None, 'entity': 'Governmental Organization', 'sensorType': 'reference grade'}, {'locationId': 1068, 'location': 'Portland - Spangler', 'parameter': 'pm25', 'value': 3.6, 'date': {'utc': '2024-06-03T15:00:00+00:00', 'local': '2024-06-03T08:00:00-07:00'}, 'unit': 'µg/m³', 'coordinates': {'latitude': 45.25928, 'longitude': -122.588151}, 'country': 'US', 'city': None, 'isMobile': False, 'isAnalysis': None, 'entity': 'Governmental Organization', 'sensorType': 'reference grade'}, {'locationId': 1068, 'location': 'Portland - Spangler', 'parameter': 'pm25', 'value': 3.7, 'date': {'utc': '2024-06-03T14:00:00+00:00', 'local': '2024-06-03T07:00:00-07:00'}, 'unit': 'µg/m³', 'coordinates': {'latitude': 45.25928, 'longitude': -122.588151}, 'country': 'US', 'city': None, 'isMobile': False, 'isAnalysis': None, 'entity': 'Governmental Organization', 'sensorType': 'reference grade'}, {'locationId': 1068, 'location': 'Portland - Spangler', 'parameter': 'pm25', 'value': 3.8, 'date': {'utc': '2024-06-03T13:00:00+00:00', 'local': '2024-06-03T06:00:00-07:00'}, 'unit': 'µg/m³', 'coordinates': {'latitude': 45.25928, 'longitude': -122.588151}, 'country': 'US', 'city': None, 'isMobile': False, 'isAnalysis': None, 'entity': 'Governmental Organization', 'sensorType': 'reference grade'}, {'locationId': 1068, 'location': 'Portland - Spangler', 'parameter': 'pm25', 'value': 2.7, 'date': {'utc': '2024-06-03T12:00:00+00:00', 'local': '2024-06-03T05:00:00-07:00'}, 'unit': 'µg/m³', 'coordinates': {'latitude': 45.25928, 'longitude': -122.588151}, 'country': 'US', 'city': None, 'isMobile': False, 'isAnalysis': None, 'entity': 'Governmental Organization', 'sensorType': 'reference grade'}, {'locationId': 1068, 'location': 'Portland - Spangler', 'parameter': 'pm25', 'value': 1.5, 'date': {'utc': '2024-06-03T11:00:00+00:00', 'local': '2024-06-03T04:00:00-07:00'}, 'unit': 'µg/m³', 'coordinates': {'latitude': 45.25928, 'longitude': -122.588151}, 'country': 'US', 'city': None, 'isMobile': False, 'isAnalysis': None, 'entity': 'Governmental Organization', 'sensorType': 'reference grade'}, {'locationId': 1068, 'location': 'Portland - Spangler', 'parameter': 'pm25', 'value': 1.6, 'date': {'utc': '2024-06-03T10:00:00+00:00', 'local': '2024-06-03T03:00:00-07:00'}, 'unit': 'µg/m³', 'coordinates': {'latitude': 45.25928, 'longitude': -122.588151}, 'country': 'US', 'city': None, 'isMobile': False, 'isAnalysis': None, 'entity': 'Governmental Organization', 'sensorType': 'reference grade'}, {'locationId': 1068, 'location': 'Portland - Spangler', 'parameter': 'pm25', 'value': 1.5, 'date': {'utc': '2024-06-03T09:00:00+00:00', 'local': '2024-06-03T02:00:00-07:00'}, 'unit': 'µg/m³', 'coordinates': {'latitude': 45.25928, 'longitude': -122.588151}, 'country': 'US', 'city': None, 'isMobile': False, 'isAnalysis': None, 'entity': 'Governmental Organization', 'sensorType': 'reference grade'}, {'locationId': 1068, 'location': 'Portland - Spangler', 'parameter': 'pm25', 'value': 1.5, 'date': {'utc': '2024-06-03T08:00:00+00:00', 'local': '2024-06-03T01:00:00-07:00'}, 'unit': 'µg/m³', 'coordinates': {'latitude': 45.25928, 'longitude': -122.588151}, 'country': 'US', 'city': None, 'isMobile': False, 'isAnalysis': None, 'entity': 'Governmental Organization', 'sensorType': 'reference grade'}, {'locationId': 1068, 'location': 'Portland - Spangler', 'parameter': 'pm25', 'value': 1.6, 'date': {'utc': '2024-06-03T07:00:00+00:00', 'local': '2024-06-03T00:00:00-07:00'}, 'unit': 'µg/m³', 'coordinates': {'latitude': 45.25928, 'longitude': -122.588151}, 'country': 'US', 'city': None, 'isMobile': False, 'isAnalysis': None, 'entity': 'Governmental Organization', 'sensorType': 'reference grade'}, {'locationId': 1068, 'location': 'Portland - Spangler', 'parameter': 'pm25', 'value': 1.9, 'date': {'utc': '2024-06-03T06:00:00+00:00', 'local': '2024-06-02T23:00:00-07:00'}, 'unit': 'µg/m³', 'coordinates': {'latitude': 45.25928, 'longitude': -122.588151}, 'country': 'US', 'city': None, 'isMobile': False, 'isAnalysis': None, 'entity': 'Governmental Organization', 'sensorType': 'reference grade'}, {'locationId': 1068, 'location': 'Portland - Spangler', 'parameter': 'pm25', 'value': 1.7, 'date': {'utc': '2024-06-03T05:00:00+00:00', 'local': '2024-06-02T22:00:00-07:00'}, 'unit': 'µg/m³', 'coordinates': {'latitude': 45.25928, 'longitude': -122.588151}, 'country': 'US', 'city': None, 'isMobile': False, 'isAnalysis': None, 'entity': 'Governmental Organization', 'sensorType': 'reference grade'}, {'locationId': 1068, 'location': 'Portland - Spangler', 'parameter': 'pm25', 'value': 1.8, 'date': {'utc': '2024-06-03T04:00:00+00:00', 'local': '2024-06-02T21:00:00-07:00'}, 'unit': 'µg/m³', 'coordinates': {'latitude': 45.25928, 'longitude': -122.588151}, 'country': 'US', 'city': None, 'isMobile': False, 'isAnalysis': None, 'entity': 'Governmental Organization', 'sensorType': 'reference grade'}, {'locationId': 1068, 'location': 'Portland - Spangler', 'parameter': 'pm25', 'value': 1.8, 'date': {'utc': '2024-06-03T03:00:00+00:00', 'local': '2024-06-02T20:00:00-07:00'}, 'unit': 'µg/m³', 'coordinates': {'latitude': 45.25928, 'longitude': -122.588151}, 'country': 'US', 'city': None, 'isMobile': False, 'isAnalysis': None, 'entity': 'Governmental Organization', 'sensorType': 'reference grade'}, {'locationId': 1068, 'location': 'Portland - Spangler', 'parameter': 'pm25', 'value': 1.9, 'date': {'utc': '2024-06-03T02:00:00+00:00', 'local': '2024-06-02T19:00:00-07:00'}, 'unit': 'µg/m³', 'coordinates': {'latitude': 45.25928, 'longitude': -122.588151}, 'country': 'US', 'city': None, 'isMobile': False, 'isAnalysis': None, 'entity': 'Governmental Organization', 'sensorType': 'reference grade'}, {'locationId': 1068, 'location': 'Portland - Spangler', 'parameter': 'pm25', 'value': 1.9, 'date': {'utc': '2024-06-03T01:00:00+00:00', 'local': '2024-06-02T18:00:00-07:00'}, 'unit': 'µg/m³', 'coordinates': {'latitude': 45.25928, 'longitude': -122.588151}, 'country': 'US', 'city': None, 'isMobile': False, 'isAnalysis': None, 'entity': 'Governmental Organization', 'sensorType': 'reference grade'}, {'locationId': 1068, 'location': 'Portland - Spangler', 'parameter': 'pm25', 'value': 2.0, 'date': {'utc': '2024-06-03T00:00:00+00:00', 'local': '2024-06-02T17:00:00-07:00'}, 'unit': 'µg/m³', 'coordinates': {'latitude': 45.25928, 'longitude': -122.588151}, 'country': 'US', 'city': None, 'isMobile': False, 'isAnalysis': None, 'entity': 'Governmental Organization', 'sensorType': 'reference grade'}, {'locationId': 1068, 'location': 'Portland - Spangler', 'parameter': 'pm25', 'value': 2.1, 'date': {'utc': '2024-06-02T23:00:00+00:00', 'local': '2024-06-02T16:00:00-07:00'}, 'unit': 'µg/m³', 'coordinates': {'latitude': 45.25928, 'longitude': -122.588151}, 'country': 'US', 'city': None, 'isMobile': False, 'isAnalysis': None, 'entity': 'Governmental Organization', 'sensorType': 'reference grade'}, {'locationId': 1068, 'location': 'Portland - Spangler', 'parameter': 'pm25', 'value': 2.0, 'date': {'utc': '2024-06-02T22:00:00+00:00', 'local': '2024-06-02T15:00:00-07:00'}, 'unit': 'µg/m³', 'coordinates': {'latitude': 45.25928, 'longitude': -122.588151}, 'country': 'US', 'city': None, 'isMobile': False, 'isAnalysis': None, 'entity': 'Governmental Organization', 'sensorType': 'reference grade'}, {'locationId': 1068, 'location': 'Portland - Spangler', 'parameter': 'pm25', 'value': 2.1, 'date': {'utc': '2024-06-02T21:00:00+00:00', 'local': '2024-06-02T14:00:00-07:00'}, 'unit': 'µg/m³', 'coordinates': {'latitude': 45.25928, 'longitude': -122.588151}, 'country': 'US', 'city': None, 'isMobile': False, 'isAnalysis': None, 'entity': 'Governmental Organization', 'sensorType': 'reference grade'}, {'locationId': 1068, 'location': 'Portland - Spangler', 'parameter': 'pm25', 'value': 2.2, 'date': {'utc': '2024-06-02T20:00:00+00:00', 'local': '2024-06-02T13:00:00-07:00'}, 'unit': 'µg/m³', 'coordinates': {'latitude': 45.25928, 'longitude': -122.588151}, 'country': 'US', 'city': None, 'isMobile': False, 'isAnalysis': None, 'entity': 'Governmental Organization', 'sensorType': 'reference grade'}, {'locationId': 1068, 'location': 'Portland - Spangler', 'parameter': 'pm25', 'value': 2.1, 'date': {'utc': '2024-06-02T19:00:00+00:00', 'local': '2024-06-02T12:00:00-07:00'}, 'unit': 'µg/m³', 'coordinates': {'latitude': 45.25928, 'longitude': -122.588151}, 'country': 'US', 'city': None, 'isMobile': False, 'isAnalysis': None, 'entity': 'Governmental Organization', 'sensorType': 'reference grade'}, {'locationId': 1068, 'location': 'Portland - Spangler', 'parameter': 'pm25', 'value': 1.8, 'date': {'utc': '2024-06-02T18:00:00+00:00', 'local': '2024-06-02T11:00:00-07:00'}, 'unit': 'µg/m³', 'coordinates': {'latitude': 45.25928, 'longitude': -122.588151}, 'country': 'US', 'city': None, 'isMobile': False, 'isAnalysis': None, 'entity': 'Governmental Organization', 'sensorType': 'reference grade'}, {'locationId': 1068, 'location': 'Portland - Spangler', 'parameter': 'pm25', 'value': 1.6, 'date': {'utc': '2024-06-02T17:00:00+00:00', 'local': '2024-06-02T10:00:00-07:00'}, 'unit': 'µg/m³', 'coordinates': {'latitude': 45.25928, 'longitude': -122.588151}, 'country': 'US', 'city': None, 'isMobile': False, 'isAnalysis': None, 'entity': 'Governmental Organization', 'sensorType': 'reference grade'}, {'locationId': 1068, 'location': 'Portland - Spangler', 'parameter': 'pm25', 'value': 1.7, 'date': {'utc': '2024-06-02T16:00:00+00:00', 'local': '2024-06-02T09:00:00-07:00'}, 'unit': 'µg/m³', 'coordinates': {'latitude': 45.25928, 'longitude': -122.588151}, 'country': 'US', 'city': None, 'isMobile': False, 'isAnalysis': None, 'entity': 'Governmental Organization', 'sensorType': 'reference grade'}, {'locationId': 1068, 'location': 'Portland - Spangler', 'parameter': 'pm25', 'value': 1.6, 'date': {'utc': '2024-06-02T15:00:00+00:00', 'local': '2024-06-02T08:00:00-07:00'}, 'unit': 'µg/m³', 'coordinates': {'latitude': 45.25928, 'longitude': -122.588151}, 'country': 'US', 'city': None, 'isMobile': False, 'isAnalysis': None, 'entity': 'Governmental Organization', 'sensorType': 'reference grade'}, {'locationId': 1068, 'location': 'Portland - Spangler', 'parameter': 'pm25', 'value': 1.7, 'date': {'utc': '2024-06-02T14:00:00+00:00', 'local': '2024-06-02T07:00:00-07:00'}, 'unit': 'µg/m³', 'coordinates': {'latitude': 45.25928, 'longitude': -122.588151}, 'country': 'US', 'city': None, 'isMobile': False, 'isAnalysis': None, 'entity': 'Governmental Organization', 'sensorType': 'reference grade'}, {'locationId': 1068, 'location': 'Portland - Spangler', 'parameter': 'pm25', 'value': 1.7, 'date': {'utc': '2024-06-02T13:00:00+00:00', 'local': '2024-06-02T06:00:00-07:00'}, 'unit': 'µg/m³', 'coordinates': {'latitude': 45.25928, 'longitude': -122.588151}, 'country': 'US', 'city': None, 'isMobile': False, 'isAnalysis': None, 'entity': 'Governmental Organization', 'sensorType': 'reference grade'}, {'locationId': 1068, 'location': 'Portland - Spangler', 'parameter': 'pm25', 'value': 1.9, 'date': {'utc': '2024-06-02T12:00:00+00:00', 'local': '2024-06-02T05:00:00-07:00'}, 'unit': 'µg/m³', 'coordinates': {'latitude': 45.25928, 'longitude': -122.588151}, 'country': 'US', 'city': None, 'isMobile': False, 'isAnalysis': None, 'entity': 'Governmental Organization', 'sensorType': 'reference grade'}, {'locationId': 1068, 'location': 'Portland - Spangler', 'parameter': 'pm25', 'value': 2.1, 'date': {'utc': '2024-06-02T11:00:00+00:00', 'local': '2024-06-02T04:00:00-07:00'}, 'unit': 'µg/m³', 'coordinates': {'latitude': 45.25928, 'longitude': -122.588151}, 'country': 'US', 'city': None, 'isMobile': False, 'isAnalysis': None, 'entity': 'Governmental Organization', 'sensorType': 'reference grade'}, {'locationId': 1068, 'location': 'Portland - Spangler', 'parameter': 'pm25', 'value': 2.2, 'date': {'utc': '2024-06-02T10:00:00+00:00', 'local': '2024-06-02T03:00:00-07:00'}, 'unit': 'µg/m³', 'coordinates': {'latitude': 45.25928, 'longitude': -122.588151}, 'country': 'US', 'city': None, 'isMobile': False, 'isAnalysis': None, 'entity': 'Governmental Organization', 'sensorType': 'reference grade'}, {'locationId': 1068, 'location': 'Portland - Spangler', 'parameter': 'pm25', 'value': 2.3, 'date': {'utc': '2024-06-02T09:00:00+00:00', 'local': '2024-06-02T02:00:00-07:00'}, 'unit': 'µg/m³', 'coordinates': {'latitude': 45.25928, 'longitude': -122.588151}, 'country': 'US', 'city': None, 'isMobile': False, 'isAnalysis': None, 'entity': 'Governmental Organization', 'sensorType': 'reference grade'}, {'locationId': 1068, 'location': 'Portland - Spangler', 'parameter': 'pm25', 'value': 2.1, 'date': {'utc': '2024-06-02T08:00:00+00:00', 'local': '2024-06-02T01:00:00-07:00'}, 'unit': 'µg/m³', 'coordinates': {'latitude': 45.25928, 'longitude': -122.588151}, 'country': 'US', 'city': None, 'isMobile': False, 'isAnalysis': None, 'entity': 'Governmental Organization', 'sensorType': 'reference grade'}, {'locationId': 1068, 'location': 'Portland - Spangler', 'parameter': 'pm25', 'value': 2.0, 'date': {'utc': '2024-06-02T07:00:00+00:00', 'local': '2024-06-02T00:00:00-07:00'}, 'unit': 'µg/m³', 'coordinates': {'latitude': 45.25928, 'longitude': -122.588151}, 'country': 'US', 'city': None, 'isMobile': False, 'isAnalysis': None, 'entity': 'Governmental Organization', 'sensorType': 'reference grade'}, {'locationId': 1068, 'location': 'Portland - Spangler', 'parameter': 'pm25', 'value': 2.0, 'date': {'utc': '2024-06-02T06:00:00+00:00', 'local': '2024-06-01T23:00:00-07:00'}, 'unit': 'µg/m³', 'coordinates': {'latitude': 45.25928, 'longitude': -122.588151}, 'country': 'US', 'city': None, 'isMobile': False, 'isAnalysis': None, 'entity': 'Governmental Organization', 'sensorType': 'reference grade'}, {'locationId': 1068, 'location': 'Portland - Spangler', 'parameter': 'pm25', 'value': 2.3, 'date': {'utc': '2024-06-02T05:00:00+00:00', 'local': '2024-06-01T22:00:00-07:00'}, 'unit': 'µg/m³', 'coordinates': {'latitude': 45.25928, 'longitude': -122.588151}, 'country': 'US', 'city': None, 'isMobile': False, 'isAnalysis': None, 'entity': 'Governmental Organization', 'sensorType': 'reference grade'}, {'locationId': 1068, 'location': 'Portland - Spangler', 'parameter': 'pm25', 'value': 2.1, 'date': {'utc': '2024-06-02T04:00:00+00:00', 'local': '2024-06-01T21:00:00-07:00'}, 'unit': 'µg/m³', 'coordinates': {'latitude': 45.25928, 'longitude': -122.588151}, 'country': 'US', 'city': None, 'isMobile': False, 'isAnalysis': None, 'entity': 'Governmental Organization', 'sensorType': 'reference grade'}, {'locationId': 1068, 'location': 'Portland - Spangler', 'parameter': 'pm25', 'value': 2.4, 'date': {'utc': '2024-06-02T03:00:00+00:00', 'local': '2024-06-01T20:00:00-07:00'}, 'unit': 'µg/m³', 'coordinates': {'latitude': 45.25928, 'longitude': -122.588151}, 'country': 'US', 'city': None, 'isMobile': False, 'isAnalysis': None, 'entity': 'Governmental Organization', 'sensorType': 'reference grade'}, {'locationId': 1068, 'location': 'Portland - Spangler', 'parameter': 'pm25', 'value': 2.7, 'date': {'utc': '2024-06-02T02:00:00+00:00', 'local': '2024-06-01T19:00:00-07:00'}, 'unit': 'µg/m³', 'coordinates': {'latitude': 45.25928, 'longitude': -122.588151}, 'country': 'US', 'city': None, 'isMobile': False, 'isAnalysis': None, 'entity': 'Governmental Organization', 'sensorType': 'reference grade'}, {'locationId': 1068, 'location': 'Portland - Spangler', 'parameter': 'pm25', 'value': 2.8, 'date': {'utc': '2024-06-02T01:00:00+00:00', 'local': '2024-06-01T18:00:00-07:00'}, 'unit': 'µg/m³', 'coordinates': {'latitude': 45.25928, 'longitude': -122.588151}, 'country': 'US', 'city': None, 'isMobile': False, 'isAnalysis': None, 'entity': 'Governmental Organization', 'sensorType': 'reference grade'}, {'locationId': 1068, 'location': 'Portland - Spangler', 'parameter': 'pm25', 'value': 3.9, 'date': {'utc': '2024-06-02T00:00:00+00:00', 'local': '2024-06-01T17:00:00-07:00'}, 'unit': 'µg/m³', 'coordinates': {'latitude': 45.25928, 'longitude': -122.588151}, 'country': 'US', 'city': None, 'isMobile': False, 'isAnalysis': None, 'entity': 'Governmental Organization', 'sensorType': 'reference grade'}, {'locationId': 1068, 'location': 'Portland - Spangler', 'parameter': 'pm25', 'value': 4.0, 'date': {'utc': '2024-06-01T23:00:00+00:00', 'local': '2024-06-01T16:00:00-07:00'}, 'unit': 'µg/m³', 'coordinates': {'latitude': 45.25928, 'longitude': -122.588151}, 'country': 'US', 'city': None, 'isMobile': False, 'isAnalysis': None, 'entity': 'Governmental Organization', 'sensorType': 'reference grade'}, {'locationId': 1068, 'location': 'Portland - Spangler', 'parameter': 'pm25', 'value': 4.5, 'date': {'utc': '2024-06-01T22:00:00+00:00', 'local': '2024-06-01T15:00:00-07:00'}, 'unit': 'µg/m³', 'coordinates': {'latitude': 45.25928, 'longitude': -122.588151}, 'country': 'US', 'city': None, 'isMobile': False, 'isAnalysis': None, 'entity': 'Governmental Organization', 'sensorType': 'reference grade'}, {'locationId': 1068, 'location': 'Portland - Spangler', 'parameter': 'pm25', 'value': 4.0, 'date': {'utc': '2024-06-01T21:00:00+00:00', 'local': '2024-06-01T14:00:00-07:00'}, 'unit': 'µg/m³', 'coordinates': {'latitude': 45.25928, 'longitude': -122.588151}, 'country': 'US', 'city': None, 'isMobile': False, 'isAnalysis': None, 'entity': 'Governmental Organization', 'sensorType': 'reference grade'}, {'locationId': 1068, 'location': 'Portland - Spangler', 'parameter': 'pm25', 'value': 4.1, 'date': {'utc': '2024-06-01T20:00:00+00:00', 'local': '2024-06-01T13:00:00-07:00'}, 'unit': 'µg/m³', 'coordinates': {'latitude': 45.25928, 'longitude': -122.588151}, 'country': 'US', 'city': None, 'isMobile': False, 'isAnalysis': None, 'entity': 'Governmental Organization', 'sensorType': 'reference grade'}, {'locationId': 1068, 'location': 'Portland - Spangler', 'parameter': 'pm25', 'value': 4.4, 'date': {'utc': '2024-06-01T19:00:00+00:00', 'local': '2024-06-01T12:00:00-07:00'}, 'unit': 'µg/m³', 'coordinates': {'latitude': 45.25928, 'longitude': -122.588151}, 'country': 'US', 'city': None, 'isMobile': False, 'isAnalysis': None, 'entity': 'Governmental Organization', 'sensorType': 'reference grade'}, {'locationId': 1068, 'location': 'Portland - Spangler', 'parameter': 'pm25', 'value': 4.8, 'date': {'utc': '2024-06-01T18:00:00+00:00', 'local': '2024-06-01T11:00:00-07:00'}, 'unit': 'µg/m³', 'coordinates': {'latitude': 45.25928, 'longitude': -122.588151}, 'country': 'US', 'city': None, 'isMobile': False, 'isAnalysis': None, 'entity': 'Governmental Organization', 'sensorType': 'reference grade'}, {'locationId': 1068, 'location': 'Portland - Spangler', 'parameter': 'pm25', 'value': 4.3, 'date': {'utc': '2024-06-01T17:00:00+00:00', 'local': '2024-06-01T10:00:00-07:00'}, 'unit': 'µg/m³', 'coordinates': {'latitude': 45.25928, 'longitude': -122.588151}, 'country': 'US', 'city': None, 'isMobile': False, 'isAnalysis': None, 'entity': 'Governmental Organization', 'sensorType': 'reference grade'}, {'locationId': 1068, 'location': 'Portland - Spangler', 'parameter': 'pm25', 'value': 4.0, 'date': {'utc': '2024-06-01T16:00:00+00:00', 'local': '2024-06-01T09:00:00-07:00'}, 'unit': 'µg/m³', 'coordinates': {'latitude': 45.25928, 'longitude': -122.588151}, 'country': 'US', 'city': None, 'isMobile': False, 'isAnalysis': None, 'entity': 'Governmental Organization', 'sensorType': 'reference grade'}, {'locationId': 1068, 'location': 'Portland - Spangler', 'parameter': 'pm25', 'value': 3.6, 'date': {'utc': '2024-06-01T15:00:00+00:00', 'local': '2024-06-01T08:00:00-07:00'}, 'unit': 'µg/m³', 'coordinates': {'latitude': 45.25928, 'longitude': -122.588151}, 'country': 'US', 'city': None, 'isMobile': False, 'isAnalysis': None, 'entity': 'Governmental Organization', 'sensorType': 'reference grade'}, {'locationId': 1068, 'location': 'Portland - Spangler', 'parameter': 'pm25', 'value': 3.7, 'date': {'utc': '2024-06-01T14:00:00+00:00', 'local': '2024-06-01T07:00:00-07:00'}, 'unit': 'µg/m³', 'coordinates': {'latitude': 45.25928, 'longitude': -122.588151}, 'country': 'US', 'city': None, 'isMobile': False, 'isAnalysis': None, 'entity': 'Governmental Organization', 'sensorType': 'reference grade'}, {'locationId': 1068, 'location': 'Portland - Spangler', 'parameter': 'pm25', 'value': 3.8, 'date': {'utc': '2024-06-01T13:00:00+00:00', 'local': '2024-06-01T06:00:00-07:00'}, 'unit': 'µg/m³', 'coordinates': {'latitude': 45.25928, 'longitude': -122.588151}, 'country': 'US', 'city': None, 'isMobile': False, 'isAnalysis': None, 'entity': 'Governmental Organization', 'sensorType': 'reference grade'}, {'locationId': 1068, 'location': 'Portland - Spangler', 'parameter': 'pm25', 'value': 4.1, 'date': {'utc': '2024-06-01T12:00:00+00:00', 'local': '2024-06-01T05:00:00-07:00'}, 'unit': 'µg/m³', 'coordinates': {'latitude': 45.25928, 'longitude': -122.588151}, 'country': 'US', 'city': None, 'isMobile': False, 'isAnalysis': None, 'entity': 'Governmental Organization', 'sensorType': 'reference grade'}, {'locationId': 1068, 'location': 'Portland - Spangler', 'parameter': 'pm25', 'value': 4.5, 'date': {'utc': '2024-06-01T11:00:00+00:00', 'local': '2024-06-01T04:00:00-07:00'}, 'unit': 'µg/m³', 'coordinates': {'latitude': 45.25928, 'longitude': -122.588151}, 'country': 'US', 'city': None, 'isMobile': False, 'isAnalysis': None, 'entity': 'Governmental Organization', 'sensorType': 'reference grade'}, {'locationId': 1068, 'location': 'Portland - Spangler', 'parameter': 'pm25', 'value': 4.5, 'date': {'utc': '2024-06-01T10:00:00+00:00', 'local': '2024-06-01T03:00:00-07:00'}, 'unit': 'µg/m³', 'coordinates': {'latitude': 45.25928, 'longitude': -122.588151}, 'country': 'US', 'city': None, 'isMobile': False, 'isAnalysis': None, 'entity': 'Governmental Organization', 'sensorType': 'reference grade'}, {'locationId': 1068, 'location': 'Portland - Spangler', 'parameter': 'pm25', 'value': 5.0, 'date': {'utc': '2024-06-01T09:00:00+00:00', 'local': '2024-06-01T02:00:00-07:00'}, 'unit': 'µg/m³', 'coordinates': {'latitude': 45.25928, 'longitude': -122.588151}, 'country': 'US', 'city': None, 'isMobile': False, 'isAnalysis': None, 'entity': 'Governmental Organization', 'sensorType': 'reference grade'}, {'locationId': 1068, 'location': 'Portland - Spangler', 'parameter': 'pm25', 'value': 5.4, 'date': {'utc': '2024-06-01T08:00:00+00:00', 'local': '2024-06-01T01:00:00-07:00'}, 'unit': 'µg/m³', 'coordinates': {'latitude': 45.25928, 'longitude': -122.588151}, 'country': 'US', 'city': None, 'isMobile': False, 'isAnalysis': None, 'entity': 'Governmental Organization', 'sensorType': 'reference grade'}, {'locationId': 1068, 'location': 'Portland - Spangler', 'parameter': 'pm25', 'value': 3.8, 'date': {'utc': '2024-06-01T07:00:00+00:00', 'local': '2024-06-01T00:00:00-07:00'}, 'unit': 'µg/m³', 'coordinates': {'latitude': 45.25928, 'longitude': -122.588151}, 'country': 'US', 'city': None, 'isMobile': False, 'isAnalysis': None, 'entity': 'Governmental Organization', 'sensorType': 'reference grade'}, {'locationId': 1068, 'location': 'Portland - Spangler', 'parameter': 'pm25', 'value': 3.5, 'date': {'utc': '2024-06-01T06:00:00+00:00', 'local': '2024-05-31T23:00:00-07:00'}, 'unit': 'µg/m³', 'coordinates': {'latitude': 45.25928, 'longitude': -122.588151}, 'country': 'US', 'city': None, 'isMobile': False, 'isAnalysis': None, 'entity': 'Governmental Organization', 'sensorType': 'reference grade'}, {'locationId': 1068, 'location': 'Portland - Spangler', 'parameter': 'pm25', 'value': 3.3, 'date': {'utc': '2024-06-01T05:00:00+00:00', 'local': '2024-05-31T22:00:00-07:00'}, 'unit': 'µg/m³', 'coordinates': {'latitude': 45.25928, 'longitude': -122.588151}, 'country': 'US', 'city': None, 'isMobile': False, 'isAnalysis': None, 'entity': 'Governmental Organization', 'sensorType': 'reference grade'}, {'locationId': 1068, 'location': 'Portland - Spangler', 'parameter': 'pm25', 'value': 3.0, 'date': {'utc': '2024-06-01T04:00:00+00:00', 'local': '2024-05-31T21:00:00-07:00'}, 'unit': 'µg/m³', 'coordinates': {'latitude': 45.25928, 'longitude': -122.588151}, 'country': 'US', 'city': None, 'isMobile': False, 'isAnalysis': None, 'entity': 'Governmental Organization', 'sensorType': 'reference grade'}, {'locationId': 1068, 'location': 'Portland - Spangler', 'parameter': 'pm25', 'value': 2.6, 'date': {'utc': '2024-06-01T03:00:00+00:00', 'local': '2024-05-31T20:00:00-07:00'}, 'unit': 'µg/m³', 'coordinates': {'latitude': 45.25928, 'longitude': -122.588151}, 'country': 'US', 'city': None, 'isMobile': False, 'isAnalysis': None, 'entity': 'Governmental Organization', 'sensorType': 'reference grade'}, {'locationId': 1068, 'location': 'Portland - Spangler', 'parameter': 'pm25', 'value': 2.6, 'date': {'utc': '2024-06-01T02:00:00+00:00', 'local': '2024-05-31T19:00:00-07:00'}, 'unit': 'µg/m³', 'coordinates': {'latitude': 45.25928, 'longitude': -122.588151}, 'country': 'US', 'city': None, 'isMobile': False, 'isAnalysis': None, 'entity': 'Governmental Organization', 'sensorType': 'reference grade'}, {'locationId': 1068, 'location': 'Portland - Spangler', 'parameter': 'pm25', 'value': 2.6, 'date': {'utc': '2024-06-01T01:00:00+00:00', 'local': '2024-05-31T18:00:00-07:00'}, 'unit': 'µg/m³', 'coordinates': {'latitude': 45.25928, 'longitude': -122.588151}, 'country': 'US', 'city': None, 'isMobile': False, 'isAnalysis': None, 'entity': 'Governmental Organization', 'sensorType': 'reference grade'}, {'locationId': 1068, 'location': 'Portland - Spangler', 'parameter': 'pm25', 'value': 2.7, 'date': {'utc': '2024-06-01T00:00:00+00:00', 'local': '2024-05-31T17:00:00-07:00'}, 'unit': 'µg/m³', 'coordinates': {'latitude': 45.25928, 'longitude': -122.588151}, 'country': 'US', 'city': None, 'isMobile': False, 'isAnalysis': None, 'entity': 'Governmental Organization', 'sensorType': 'reference grade'}, {'locationId': 1068, 'location': 'Portland - Spangler', 'parameter': 'pm25', 'value': 3.0, 'date': {'utc': '2024-05-31T23:00:00+00:00', 'local': '2024-05-31T16:00:00-07:00'}, 'unit': 'µg/m³', 'coordinates': {'latitude': 45.25928, 'longitude': -122.588151}, 'country': 'US', 'city': None, 'isMobile': False, 'isAnalysis': None, 'entity': 'Governmental Organization', 'sensorType': 'reference grade'}, {'locationId': 1068, 'location': 'Portland - Spangler', 'parameter': 'pm25', 'value': 3.3, 'date': {'utc': '2024-05-31T22:00:00+00:00', 'local': '2024-05-31T15:00:00-07:00'}, 'unit': 'µg/m³', 'coordinates': {'latitude': 45.25928, 'longitude': -122.588151}, 'country': 'US', 'city': None, 'isMobile': False, 'isAnalysis': None, 'entity': 'Governmental Organization', 'sensorType': 'reference grade'}, {'locationId': 1068, 'location': 'Portland - Spangler', 'parameter': 'pm25', 'value': 3.7, 'date': {'utc': '2024-05-31T21:00:00+00:00', 'local': '2024-05-31T14:00:00-07:00'}, 'unit': 'µg/m³', 'coordinates': {'latitude': 45.25928, 'longitude': -122.588151}, 'country': 'US', 'city': None, 'isMobile': False, 'isAnalysis': None, 'entity': 'Governmental Organization', 'sensorType': 'reference grade'}, {'locationId': 1068, 'location': 'Portland - Spangler', 'parameter': 'pm25', 'value': 4.0, 'date': {'utc': '2024-05-31T20:00:00+00:00', 'local': '2024-05-31T13:00:00-07:00'}, 'unit': 'µg/m³', 'coordinates': {'latitude': 45.25928, 'longitude': -122.588151}, 'country': 'US', 'city': None, 'isMobile': False, 'isAnalysis': None, 'entity': 'Governmental Organization', 'sensorType': 'reference grade'}, {'locationId': 1068, 'location': 'Portland - Spangler', 'parameter': 'pm25', 'value': 4.1, 'date': {'utc': '2024-05-31T19:00:00+00:00', 'local': '2024-05-31T12:00:00-07:00'}, 'unit': 'µg/m³', 'coordinates': {'latitude': 45.25928, 'longitude': -122.588151}, 'country': 'US', 'city': None, 'isMobile': False, 'isAnalysis': None, 'entity': 'Governmental Organization', 'sensorType': 'reference grade'}, {'locationId': 1068, 'location': 'Portland - Spangler', 'parameter': 'pm25', 'value': 3.8, 'date': {'utc': '2024-05-31T18:00:00+00:00', 'local': '2024-05-31T11:00:00-07:00'}, 'unit': 'µg/m³', 'coordinates': {'latitude': 45.25928, 'longitude': -122.588151}, 'country': 'US', 'city': None, 'isMobile': False, 'isAnalysis': None, 'entity': 'Governmental Organization', 'sensorType': 'reference grade'}, {'locationId': 1068, 'location': 'Portland - Spangler', 'parameter': 'pm25', 'value': 3.9, 'date': {'utc': '2024-05-31T17:00:00+00:00', 'local': '2024-05-31T10:00:00-07:00'}, 'unit': 'µg/m³', 'coordinates': {'latitude': 45.25928, 'longitude': -122.588151}, 'country': 'US', 'city': None, 'isMobile': False, 'isAnalysis': None, 'entity': 'Governmental Organization', 'sensorType': 'reference grade'}, {'locationId': 1068, 'location': 'Portland - Spangler', 'parameter': 'pm25', 'value': 3.5, 'date': {'utc': '2024-05-31T16:00:00+00:00', 'local': '2024-05-31T09:00:00-07:00'}, 'unit': 'µg/m³', 'coordinates': {'latitude': 45.25928, 'longitude': -122.588151}, 'country': 'US', 'city': None, 'isMobile': False, 'isAnalysis': None, 'entity': 'Governmental Organization', 'sensorType': 'reference grade'}, {'locationId': 1068, 'location': 'Portland - Spangler', 'parameter': 'pm25', 'value': 3.6, 'date': {'utc': '2024-05-31T15:00:00+00:00', 'local': '2024-05-31T08:00:00-07:00'}, 'unit': 'µg/m³', 'coordinates': {'latitude': 45.25928, 'longitude': -122.588151}, 'country': 'US', 'city': None, 'isMobile': False, 'isAnalysis': None, 'entity': 'Governmental Organization', 'sensorType': 'reference grade'}, {'locationId': 1068, 'location': 'Portland - Spangler', 'parameter': 'pm25', 'value': 4.2, 'date': {'utc': '2024-05-31T14:00:00+00:00', 'local': '2024-05-31T07:00:00-07:00'}, 'unit': 'µg/m³', 'coordinates': {'latitude': 45.25928, 'longitude': -122.588151}, 'country': 'US', 'city': None, 'isMobile': False, 'isAnalysis': None, 'entity': 'Governmental Organization', 'sensorType': 'reference grade'}, {'locationId': 1068, 'location': 'Portland - Spangler', 'parameter': 'pm25', 'value': 3.8, 'date': {'utc': '2024-05-31T13:00:00+00:00', 'local': '2024-05-31T06:00:00-07:00'}, 'unit': 'µg/m³', 'coordinates': {'latitude': 45.25928, 'longitude': -122.588151}, 'country': 'US', 'city': None, 'isMobile': False, 'isAnalysis': None, 'entity': 'Governmental Organization', 'sensorType': 'reference grade'}, {'locationId': 1068, 'location': 'Portland - Spangler', 'parameter': 'pm25', 'value': 3.5, 'date': {'utc': '2024-05-31T12:00:00+00:00', 'local': '2024-05-31T05:00:00-07:00'}, 'unit': 'µg/m³', 'coordinates': {'latitude': 45.25928, 'longitude': -122.588151}, 'country': 'US', 'city': None, 'isMobile': False, 'isAnalysis': None, 'entity': 'Governmental Organization', 'sensorType': 'reference grade'}, {'locationId': 1068, 'location': 'Portland - Spangler', 'parameter': 'pm25', 'value': 2.8, 'date': {'utc': '2024-05-31T11:00:00+00:00', 'local': '2024-05-31T04:00:00-07:00'}, 'unit': 'µg/m³', 'coordinates': {'latitude': 45.25928, 'longitude': -122.588151}, 'country': 'US', 'city': None, 'isMobile': False, 'isAnalysis': None, 'entity': 'Governmental Organization', 'sensorType': 'reference grade'}, {'locationId': 1068, 'location': 'Portland - Spangler', 'parameter': 'pm25', 'value': 3.1, 'date': {'utc': '2024-05-31T10:00:00+00:00', 'local': '2024-05-31T03:00:00-07:00'}, 'unit': 'µg/m³', 'coordinates': {'latitude': 45.25928, 'longitude': -122.588151}, 'country': 'US', 'city': None, 'isMobile': False, 'isAnalysis': None, 'entity': 'Governmental Organization', 'sensorType': 'reference grade'}, {'locationId': 1068, 'location': 'Portland - Spangler', 'parameter': 'pm25', 'value': 4.1, 'date': {'utc': '2024-05-31T09:00:00+00:00', 'local': '2024-05-31T02:00:00-07:00'}, 'unit': 'µg/m³', 'coordinates': {'latitude': 45.25928, 'longitude': -122.588151}, 'country': 'US', 'city': None, 'isMobile': False, 'isAnalysis': None, 'entity': 'Governmental Organization', 'sensorType': 'reference grade'}, {'locationId': 1068, 'location': 'Portland - Spangler', 'parameter': 'pm25', 'value': 2.9, 'date': {'utc': '2024-05-31T08:00:00+00:00', 'local': '2024-05-31T01:00:00-07:00'}, 'unit': 'µg/m³', 'coordinates': {'latitude': 45.25928, 'longitude': -122.588151}, 'country': 'US', 'city': None, 'isMobile': False, 'isAnalysis': None, 'entity': 'Governmental Organization', 'sensorType': 'reference grade'}, {'locationId': 1068, 'location': 'Portland - Spangler', 'parameter': 'pm25', 'value': 2.7, 'date': {'utc': '2024-05-31T07:00:00+00:00', 'local': '2024-05-31T00:00:00-07:00'}, 'unit': 'µg/m³', 'coordinates': {'latitude': 45.25928, 'longitude': -122.588151}, 'country': 'US', 'city': None, 'isMobile': False, 'isAnalysis': None, 'entity': 'Governmental Organization', 'sensorType': 'reference grade'}, {'locationId': 1068, 'location': 'Portland - Spangler', 'parameter': 'pm25', 'value': 2.6, 'date': {'utc': '2024-05-31T06:00:00+00:00', 'local': '2024-05-30T23:00:00-07:00'}, 'unit': 'µg/m³', 'coordinates': {'latitude': 45.25928, 'longitude': -122.588151}, 'country': 'US', 'city': None, 'isMobile': False, 'isAnalysis': None, 'entity': 'Governmental Organization', 'sensorType': 'reference grade'}, {'locationId': 1068, 'location': 'Portland - Spangler', 'parameter': 'pm25', 'value': 2.6, 'date': {'utc': '2024-05-31T05:00:00+00:00', 'local': '2024-05-30T22:00:00-07:00'}, 'unit': 'µg/m³', 'coordinates': {'latitude': 45.25928, 'longitude': -122.588151}, 'country': 'US', 'city': None, 'isMobile': False, 'isAnalysis': None, 'entity': 'Governmental Organization', 'sensorType': 'reference grade'}, {'locationId': 1068, 'location': 'Portland - Spangler', 'parameter': 'pm25', 'value': 2.5, 'date': {'utc': '2024-05-31T04:00:00+00:00', 'local': '2024-05-30T21:00:00-07:00'}, 'unit': 'µg/m³', 'coordinates': {'latitude': 45.25928, 'longitude': -122.588151}, 'country': 'US', 'city': None, 'isMobile': False, 'isAnalysis': None, 'entity': 'Governmental Organization', 'sensorType': 'reference grade'}, {'locationId': 1068, 'location': 'Portland - Spangler', 'parameter': 'pm25', 'value': 2.5, 'date': {'utc': '2024-05-31T03:00:00+00:00', 'local': '2024-05-30T20:00:00-07:00'}, 'unit': 'µg/m³', 'coordinates': {'latitude': 45.25928, 'longitude': -122.588151}, 'country': 'US', 'city': None, 'isMobile': False, 'isAnalysis': None, 'entity': 'Governmental Organization', 'sensorType': 'reference grade'}, {'locationId': 1068, 'location': 'Portland - Spangler', 'parameter': 'pm25', 'value': 2.6, 'date': {'utc': '2024-05-31T02:00:00+00:00', 'local': '2024-05-30T19:00:00-07:00'}, 'unit': 'µg/m³', 'coordinates': {'latitude': 45.25928, 'longitude': -122.588151}, 'country': 'US', 'city': None, 'isMobile': False, 'isAnalysis': None, 'entity': 'Governmental Organization', 'sensorType': 'reference grade'}, {'locationId': 1068, 'location': 'Portland - Spangler', 'parameter': 'pm25', 'value': 2.5, 'date': {'utc': '2024-05-31T01:00:00+00:00', 'local': '2024-05-30T18:00:00-07:00'}, 'unit': 'µg/m³', 'coordinates': {'latitude': 45.25928, 'longitude': -122.588151}, 'country': 'US', 'city': None, 'isMobile': False, 'isAnalysis': None, 'entity': 'Governmental Organization', 'sensorType': 'reference grade'}, {'locationId': 1068, 'location': 'Portland - Spangler', 'parameter': 'pm25', 'value': 2.6, 'date': {'utc': '2024-05-31T00:00:00+00:00', 'local': '2024-05-30T17:00:00-07:00'}, 'unit': 'µg/m³', 'coordinates': {'latitude': 45.25928, 'longitude': -122.588151}, 'country': 'US', 'city': None, 'isMobile': False, 'isAnalysis': None, 'entity': 'Governmental Organization', 'sensorType': 'reference grade'}, {'locationId': 1068, 'location': 'Portland - Spangler', 'parameter': 'pm25', 'value': 2.6, 'date': {'utc': '2024-05-30T23:00:00+00:00', 'local': '2024-05-30T16:00:00-07:00'}, 'unit': 'µg/m³', 'coordinates': {'latitude': 45.25928, 'longitude': -122.588151}, 'country': 'US', 'city': None, 'isMobile': False, 'isAnalysis': None, 'entity': 'Governmental Organization', 'sensorType': 'reference grade'}, {'locationId': 1068, 'location': 'Portland - Spangler', 'parameter': 'pm25', 'value': 2.5, 'date': {'utc': '2024-05-30T22:00:00+00:00', 'local': '2024-05-30T15:00:00-07:00'}, 'unit': 'µg/m³', 'coordinates': {'latitude': 45.25928, 'longitude': -122.588151}, 'country': 'US', 'city': None, 'isMobile': False, 'isAnalysis': None, 'entity': 'Governmental Organization', 'sensorType': 'reference grade'}, {'locationId': 1068, 'location': 'Portland - Spangler', 'parameter': 'pm25', 'value': 2.7, 'date': {'utc': '2024-05-30T21:00:00+00:00', 'local': '2024-05-30T14:00:00-07:00'}, 'unit': 'µg/m³', 'coordinates': {'latitude': 45.25928, 'longitude': -122.588151}, 'country': 'US', 'city': None, 'isMobile': False, 'isAnalysis': None, 'entity': 'Governmental Organization', 'sensorType': 'reference grade'}, {'locationId': 1068, 'location': 'Portland - Spangler', 'parameter': 'pm25', 'value': 2.9, 'date': {'utc': '2024-05-30T20:00:00+00:00', 'local': '2024-05-30T13:00:00-07:00'}, 'unit': 'µg/m³', 'coordinates': {'latitude': 45.25928, 'longitude': -122.588151}, 'country': 'US', 'city': None, 'isMobile': False, 'isAnalysis': None, 'entity': 'Governmental Organization', 'sensorType': 'reference grade'}, {'locationId': 1068, 'location': 'Portland - Spangler', 'parameter': 'pm25', 'value': 3.2, 'date': {'utc': '2024-05-30T19:00:00+00:00', 'local': '2024-05-30T12:00:00-07:00'}, 'unit': 'µg/m³', 'coordinates': {'latitude': 45.25928, 'longitude': -122.588151}, 'country': 'US', 'city': None, 'isMobile': False, 'isAnalysis': None, 'entity': 'Governmental Organization', 'sensorType': 'reference grade'}, {'locationId': 1068, 'location': 'Portland - Spangler', 'parameter': 'pm25', 'value': 3.2, 'date': {'utc': '2024-05-30T18:00:00+00:00', 'local': '2024-05-30T11:00:00-07:00'}, 'unit': 'µg/m³', 'coordinates': {'latitude': 45.25928, 'longitude': -122.588151}, 'country': 'US', 'city': None, 'isMobile': False, 'isAnalysis': None, 'entity': 'Governmental Organization', 'sensorType': 'reference grade'}, {'locationId': 1068, 'location': 'Portland - Spangler', 'parameter': 'pm25', 'value': 3.2, 'date': {'utc': '2024-05-30T17:00:00+00:00', 'local': '2024-05-30T10:00:00-07:00'}, 'unit': 'µg/m³', 'coordinates': {'latitude': 45.25928, 'longitude': -122.588151}, 'country': 'US', 'city': None, 'isMobile': False, 'isAnalysis': None, 'entity': 'Governmental Organization', 'sensorType': 'reference grade'}, {'locationId': 1068, 'location': 'Portland - Spangler', 'parameter': 'pm25', 'value': 3.1, 'date': {'utc': '2024-05-30T16:00:00+00:00', 'local': '2024-05-30T09:00:00-07:00'}, 'unit': 'µg/m³', 'coordinates': {'latitude': 45.25928, 'longitude': -122.588151}, 'country': 'US', 'city': None, 'isMobile': False, 'isAnalysis': None, 'entity': 'Governmental Organization', 'sensorType': 'reference grade'}, {'locationId': 1068, 'location': 'Portland - Spangler', 'parameter': 'pm25', 'value': 2.8, 'date': {'utc': '2024-05-30T15:00:00+00:00', 'local': '2024-05-30T08:00:00-07:00'}, 'unit': 'µg/m³', 'coordinates': {'latitude': 45.25928, 'longitude': -122.588151}, 'country': 'US', 'city': None, 'isMobile': False, 'isAnalysis': None, 'entity': 'Governmental Organization', 'sensorType': 'reference grade'}, {'locationId': 1068, 'location': 'Portland - Spangler', 'parameter': 'pm25', 'value': 2.9, 'date': {'utc': '2024-05-30T14:00:00+00:00', 'local': '2024-05-30T07:00:00-07:00'}, 'unit': 'µg/m³', 'coordinates': {'latitude': 45.25928, 'longitude': -122.588151}, 'country': 'US', 'city': None, 'isMobile': False, 'isAnalysis': None, 'entity': 'Governmental Organization', 'sensorType': 'reference grade'}, {'locationId': 1068, 'location': 'Portland - Spangler', 'parameter': 'pm25', 'value': 2.8, 'date': {'utc': '2024-05-30T13:00:00+00:00', 'local': '2024-05-30T06:00:00-07:00'}, 'unit': 'µg/m³', 'coordinates': {'latitude': 45.25928, 'longitude': -122.588151}, 'country': 'US', 'city': None, 'isMobile': False, 'isAnalysis': None, 'entity': 'Governmental Organization', 'sensorType': 'reference grade'}, {'locationId': 1068, 'location': 'Portland - Spangler', 'parameter': 'pm25', 'value': 2.6, 'date': {'utc': '2024-05-30T12:00:00+00:00', 'local': '2024-05-30T05:00:00-07:00'}, 'unit': 'µg/m³', 'coordinates': {'latitude': 45.25928, 'longitude': -122.588151}, 'country': 'US', 'city': None, 'isMobile': False, 'isAnalysis': None, 'entity': 'Governmental Organization', 'sensorType': 'reference grade'}, {'locationId': 1068, 'location': 'Portland - Spangler', 'parameter': 'pm25', 'value': 3.0, 'date': {'utc': '2024-05-30T11:00:00+00:00', 'local': '2024-05-30T04:00:00-07:00'}, 'unit': 'µg/m³', 'coordinates': {'latitude': 45.25928, 'longitude': -122.588151}, 'country': 'US', 'city': None, 'isMobile': False, 'isAnalysis': None, 'entity': 'Governmental Organization', 'sensorType': 'reference grade'}, {'locationId': 1068, 'location': 'Portland - Spangler', 'parameter': 'pm25', 'value': 2.8, 'date': {'utc': '2024-05-30T10:00:00+00:00', 'local': '2024-05-30T03:00:00-07:00'}, 'unit': 'µg/m³', 'coordinates': {'latitude': 45.25928, 'longitude': -122.588151}, 'country': 'US', 'city': None, 'isMobile': False, 'isAnalysis': None, 'entity': 'Governmental Organization', 'sensorType': 'reference grade'}, {'locationId': 1068, 'location': 'Portland - Spangler', 'parameter': 'pm25', 'value': 2.2, 'date': {'utc': '2024-05-30T09:00:00+00:00', 'local': '2024-05-30T02:00:00-07:00'}, 'unit': 'µg/m³', 'coordinates': {'latitude': 45.25928, 'longitude': -122.588151}, 'country': 'US', 'city': None, 'isMobile': False, 'isAnalysis': None, 'entity': 'Governmental Organization', 'sensorType': 'reference grade'}, {'locationId': 1068, 'location': 'Portland - Spangler', 'parameter': 'pm25', 'value': 2.2, 'date': {'utc': '2024-05-30T08:00:00+00:00', 'local': '2024-05-30T01:00:00-07:00'}, 'unit': 'µg/m³', 'coordinates': {'latitude': 45.25928, 'longitude': -122.588151}, 'country': 'US', 'city': None, 'isMobile': False, 'isAnalysis': None, 'entity': 'Governmental Organization', 'sensorType': 'reference grade'}, {'locationId': 1068, 'location': 'Portland - Spangler', 'parameter': 'pm25', 'value': 2.0, 'date': {'utc': '2024-05-30T07:00:00+00:00', 'local': '2024-05-30T00:00:00-07:00'}, 'unit': 'µg/m³', 'coordinates': {'latitude': 45.25928, 'longitude': -122.588151}, 'country': 'US', 'city': None, 'isMobile': False, 'isAnalysis': None, 'entity': 'Governmental Organization', 'sensorType': 'reference grade'}, {'locationId': 1068, 'location': 'Portland - Spangler', 'parameter': 'pm25', 'value': 2.2, 'date': {'utc': '2024-05-30T06:00:00+00:00', 'local': '2024-05-29T23:00:00-07:00'}, 'unit': 'µg/m³', 'coordinates': {'latitude': 45.25928, 'longitude': -122.588151}, 'country': 'US', 'city': None, 'isMobile': False, 'isAnalysis': None, 'entity': 'Governmental Organization', 'sensorType': 'reference grade'}, {'locationId': 1068, 'location': 'Portland - Spangler', 'parameter': 'pm25', 'value': 2.3, 'date': {'utc': '2024-05-30T05:00:00+00:00', 'local': '2024-05-29T22:00:00-07:00'}, 'unit': 'µg/m³', 'coordinates': {'latitude': 45.25928, 'longitude': -122.588151}, 'country': 'US', 'city': None, 'isMobile': False, 'isAnalysis': None, 'entity': 'Governmental Organization', 'sensorType': 'reference grade'}, {'locationId': 1068, 'location': 'Portland - Spangler', 'parameter': 'pm25', 'value': 2.4, 'date': {'utc': '2024-05-30T04:00:00+00:00', 'local': '2024-05-29T21:00:00-07:00'}, 'unit': 'µg/m³', 'coordinates': {'latitude': 45.25928, 'longitude': -122.588151}, 'country': 'US', 'city': None, 'isMobile': False, 'isAnalysis': None, 'entity': 'Governmental Organization', 'sensorType': 'reference grade'}, {'locationId': 1068, 'location': 'Portland - Spangler', 'parameter': 'pm25', 'value': 2.1, 'date': {'utc': '2024-05-30T03:00:00+00:00', 'local': '2024-05-29T20:00:00-07:00'}, 'unit': 'µg/m³', 'coordinates': {'latitude': 45.25928, 'longitude': -122.588151}, 'country': 'US', 'city': None, 'isMobile': False, 'isAnalysis': None, 'entity': 'Governmental Organization', 'sensorType': 'reference grade'}, {'locationId': 1068, 'location': 'Portland - Spangler', 'parameter': 'pm25', 'value': 2.3, 'date': {'utc': '2024-05-30T02:00:00+00:00', 'local': '2024-05-29T19:00:00-07:00'}, 'unit': 'µg/m³', 'coordinates': {'latitude': 45.25928, 'longitude': -122.588151}, 'country': 'US', 'city': None, 'isMobile': False, 'isAnalysis': None, 'entity': 'Governmental Organization', 'sensorType': 'reference grade'}, {'locationId': 1068, 'location': 'Portland - Spangler', 'parameter': 'pm25', 'value': 2.5, 'date': {'utc': '2024-05-30T01:00:00+00:00', 'local': '2024-05-29T18:00:00-07:00'}, 'unit': 'µg/m³', 'coordinates': {'latitude': 45.25928, 'longitude': -122.588151}, 'country': 'US', 'city': None, 'isMobile': False, 'isAnalysis': None, 'entity': 'Governmental Organization', 'sensorType': 'reference grade'}]\n"
     ]
    },
    {
     "data": {
      "text/html": [
       "<div>\n",
       "<style scoped>\n",
       "    .dataframe tbody tr th:only-of-type {\n",
       "        vertical-align: middle;\n",
       "    }\n",
       "\n",
       "    .dataframe tbody tr th {\n",
       "        vertical-align: top;\n",
       "    }\n",
       "\n",
       "    .dataframe thead th {\n",
       "        text-align: right;\n",
       "    }\n",
       "</style>\n",
       "<table border=\"1\" class=\"dataframe\">\n",
       "  <thead>\n",
       "    <tr style=\"text-align: right;\">\n",
       "      <th></th>\n",
       "      <th>Date</th>\n",
       "      <th>Value</th>\n",
       "      <th>location</th>\n",
       "      <th>parameter</th>\n",
       "      <th>longitude</th>\n",
       "      <th>latitude</th>\n",
       "    </tr>\n",
       "  </thead>\n",
       "  <tbody>\n",
       "    <tr>\n",
       "      <th>0</th>\n",
       "      <td>2024-06-06T20:00:00+00:00</td>\n",
       "      <td>4.1</td>\n",
       "      <td>1068</td>\n",
       "      <td>pm25</td>\n",
       "      <td>-122.588151</td>\n",
       "      <td>45.25928</td>\n",
       "    </tr>\n",
       "    <tr>\n",
       "      <th>1</th>\n",
       "      <td>2024-06-06T19:00:00+00:00</td>\n",
       "      <td>4.3</td>\n",
       "      <td>1068</td>\n",
       "      <td>pm25</td>\n",
       "      <td>-122.588151</td>\n",
       "      <td>45.25928</td>\n",
       "    </tr>\n",
       "    <tr>\n",
       "      <th>2</th>\n",
       "      <td>2024-06-06T18:00:00+00:00</td>\n",
       "      <td>4.6</td>\n",
       "      <td>1068</td>\n",
       "      <td>pm25</td>\n",
       "      <td>-122.588151</td>\n",
       "      <td>45.25928</td>\n",
       "    </tr>\n",
       "    <tr>\n",
       "      <th>3</th>\n",
       "      <td>2024-06-06T17:00:00+00:00</td>\n",
       "      <td>4.5</td>\n",
       "      <td>1068</td>\n",
       "      <td>pm25</td>\n",
       "      <td>-122.588151</td>\n",
       "      <td>45.25928</td>\n",
       "    </tr>\n",
       "    <tr>\n",
       "      <th>4</th>\n",
       "      <td>2024-06-06T16:00:00+00:00</td>\n",
       "      <td>4.9</td>\n",
       "      <td>1068</td>\n",
       "      <td>pm25</td>\n",
       "      <td>-122.588151</td>\n",
       "      <td>45.25928</td>\n",
       "    </tr>\n",
       "    <tr>\n",
       "      <th>5</th>\n",
       "      <td>2024-06-06T15:00:00+00:00</td>\n",
       "      <td>4.8</td>\n",
       "      <td>1068</td>\n",
       "      <td>pm25</td>\n",
       "      <td>-122.588151</td>\n",
       "      <td>45.25928</td>\n",
       "    </tr>\n",
       "    <tr>\n",
       "      <th>6</th>\n",
       "      <td>2024-06-06T14:00:00+00:00</td>\n",
       "      <td>5.1</td>\n",
       "      <td>1068</td>\n",
       "      <td>pm25</td>\n",
       "      <td>-122.588151</td>\n",
       "      <td>45.25928</td>\n",
       "    </tr>\n",
       "    <tr>\n",
       "      <th>7</th>\n",
       "      <td>2024-06-06T13:00:00+00:00</td>\n",
       "      <td>4.8</td>\n",
       "      <td>1068</td>\n",
       "      <td>pm25</td>\n",
       "      <td>-122.588151</td>\n",
       "      <td>45.25928</td>\n",
       "    </tr>\n",
       "    <tr>\n",
       "      <th>8</th>\n",
       "      <td>2024-06-06T12:00:00+00:00</td>\n",
       "      <td>4.7</td>\n",
       "      <td>1068</td>\n",
       "      <td>pm25</td>\n",
       "      <td>-122.588151</td>\n",
       "      <td>45.25928</td>\n",
       "    </tr>\n",
       "    <tr>\n",
       "      <th>9</th>\n",
       "      <td>2024-06-06T11:00:00+00:00</td>\n",
       "      <td>4.2</td>\n",
       "      <td>1068</td>\n",
       "      <td>pm25</td>\n",
       "      <td>-122.588151</td>\n",
       "      <td>45.25928</td>\n",
       "    </tr>\n",
       "  </tbody>\n",
       "</table>\n",
       "</div>"
      ],
      "text/plain": [
       "                        Date  Value  location parameter   longitude  latitude\n",
       "0  2024-06-06T20:00:00+00:00    4.1      1068      pm25 -122.588151  45.25928\n",
       "1  2024-06-06T19:00:00+00:00    4.3      1068      pm25 -122.588151  45.25928\n",
       "2  2024-06-06T18:00:00+00:00    4.6      1068      pm25 -122.588151  45.25928\n",
       "3  2024-06-06T17:00:00+00:00    4.5      1068      pm25 -122.588151  45.25928\n",
       "4  2024-06-06T16:00:00+00:00    4.9      1068      pm25 -122.588151  45.25928\n",
       "5  2024-06-06T15:00:00+00:00    4.8      1068      pm25 -122.588151  45.25928\n",
       "6  2024-06-06T14:00:00+00:00    5.1      1068      pm25 -122.588151  45.25928\n",
       "7  2024-06-06T13:00:00+00:00    4.8      1068      pm25 -122.588151  45.25928\n",
       "8  2024-06-06T12:00:00+00:00    4.7      1068      pm25 -122.588151  45.25928\n",
       "9  2024-06-06T11:00:00+00:00    4.2      1068      pm25 -122.588151  45.25928"
      ]
     },
     "execution_count": 19,
     "metadata": {},
     "output_type": "execute_result"
    }
   ],
   "source": [
    "test_location = 1068\n",
    "test_df = query_weather_data(test_location)\n",
    "test_df.head(10)"
   ]
  },
  {
   "cell_type": "code",
   "execution_count": 9,
   "metadata": {},
   "outputs": [
    {
     "data": {
      "text/html": [
       "<div>\n",
       "<style scoped>\n",
       "    .dataframe tbody tr th:only-of-type {\n",
       "        vertical-align: middle;\n",
       "    }\n",
       "\n",
       "    .dataframe tbody tr th {\n",
       "        vertical-align: top;\n",
       "    }\n",
       "\n",
       "    .dataframe thead th {\n",
       "        text-align: right;\n",
       "    }\n",
       "</style>\n",
       "<table border=\"1\" class=\"dataframe\">\n",
       "  <thead>\n",
       "    <tr style=\"text-align: right;\">\n",
       "      <th></th>\n",
       "      <th>Date</th>\n",
       "      <th>Value</th>\n",
       "      <th>location</th>\n",
       "      <th>parameter</th>\n",
       "      <th>Data_Converted</th>\n",
       "    </tr>\n",
       "  </thead>\n",
       "  <tbody>\n",
       "    <tr>\n",
       "      <th>0</th>\n",
       "      <td>2024-06-06T20:00:00+00:00</td>\n",
       "      <td>4.1</td>\n",
       "      <td>1068</td>\n",
       "      <td>pm25</td>\n",
       "      <td>2024-06-06 20:00:00+00:00</td>\n",
       "    </tr>\n",
       "    <tr>\n",
       "      <th>1</th>\n",
       "      <td>2024-06-06T19:00:00+00:00</td>\n",
       "      <td>4.3</td>\n",
       "      <td>1068</td>\n",
       "      <td>pm25</td>\n",
       "      <td>2024-06-06 19:00:00+00:00</td>\n",
       "    </tr>\n",
       "    <tr>\n",
       "      <th>2</th>\n",
       "      <td>2024-06-06T18:00:00+00:00</td>\n",
       "      <td>4.6</td>\n",
       "      <td>1068</td>\n",
       "      <td>pm25</td>\n",
       "      <td>2024-06-06 18:00:00+00:00</td>\n",
       "    </tr>\n",
       "    <tr>\n",
       "      <th>3</th>\n",
       "      <td>2024-06-06T17:00:00+00:00</td>\n",
       "      <td>4.5</td>\n",
       "      <td>1068</td>\n",
       "      <td>pm25</td>\n",
       "      <td>2024-06-06 17:00:00+00:00</td>\n",
       "    </tr>\n",
       "    <tr>\n",
       "      <th>4</th>\n",
       "      <td>2024-06-06T16:00:00+00:00</td>\n",
       "      <td>4.9</td>\n",
       "      <td>1068</td>\n",
       "      <td>pm25</td>\n",
       "      <td>2024-06-06 16:00:00+00:00</td>\n",
       "    </tr>\n",
       "    <tr>\n",
       "      <th>5</th>\n",
       "      <td>2024-06-06T15:00:00+00:00</td>\n",
       "      <td>4.8</td>\n",
       "      <td>1068</td>\n",
       "      <td>pm25</td>\n",
       "      <td>2024-06-06 15:00:00+00:00</td>\n",
       "    </tr>\n",
       "    <tr>\n",
       "      <th>6</th>\n",
       "      <td>2024-06-06T14:00:00+00:00</td>\n",
       "      <td>5.1</td>\n",
       "      <td>1068</td>\n",
       "      <td>pm25</td>\n",
       "      <td>2024-06-06 14:00:00+00:00</td>\n",
       "    </tr>\n",
       "    <tr>\n",
       "      <th>7</th>\n",
       "      <td>2024-06-06T13:00:00+00:00</td>\n",
       "      <td>4.8</td>\n",
       "      <td>1068</td>\n",
       "      <td>pm25</td>\n",
       "      <td>2024-06-06 13:00:00+00:00</td>\n",
       "    </tr>\n",
       "    <tr>\n",
       "      <th>8</th>\n",
       "      <td>2024-06-06T12:00:00+00:00</td>\n",
       "      <td>4.7</td>\n",
       "      <td>1068</td>\n",
       "      <td>pm25</td>\n",
       "      <td>2024-06-06 12:00:00+00:00</td>\n",
       "    </tr>\n",
       "    <tr>\n",
       "      <th>9</th>\n",
       "      <td>2024-06-06T11:00:00+00:00</td>\n",
       "      <td>4.2</td>\n",
       "      <td>1068</td>\n",
       "      <td>pm25</td>\n",
       "      <td>2024-06-06 11:00:00+00:00</td>\n",
       "    </tr>\n",
       "  </tbody>\n",
       "</table>\n",
       "</div>"
      ],
      "text/plain": [
       "                        Date  Value  location parameter  \\\n",
       "0  2024-06-06T20:00:00+00:00    4.1      1068      pm25   \n",
       "1  2024-06-06T19:00:00+00:00    4.3      1068      pm25   \n",
       "2  2024-06-06T18:00:00+00:00    4.6      1068      pm25   \n",
       "3  2024-06-06T17:00:00+00:00    4.5      1068      pm25   \n",
       "4  2024-06-06T16:00:00+00:00    4.9      1068      pm25   \n",
       "5  2024-06-06T15:00:00+00:00    4.8      1068      pm25   \n",
       "6  2024-06-06T14:00:00+00:00    5.1      1068      pm25   \n",
       "7  2024-06-06T13:00:00+00:00    4.8      1068      pm25   \n",
       "8  2024-06-06T12:00:00+00:00    4.7      1068      pm25   \n",
       "9  2024-06-06T11:00:00+00:00    4.2      1068      pm25   \n",
       "\n",
       "             Data_Converted  \n",
       "0 2024-06-06 20:00:00+00:00  \n",
       "1 2024-06-06 19:00:00+00:00  \n",
       "2 2024-06-06 18:00:00+00:00  \n",
       "3 2024-06-06 17:00:00+00:00  \n",
       "4 2024-06-06 16:00:00+00:00  \n",
       "5 2024-06-06 15:00:00+00:00  \n",
       "6 2024-06-06 14:00:00+00:00  \n",
       "7 2024-06-06 13:00:00+00:00  \n",
       "8 2024-06-06 12:00:00+00:00  \n",
       "9 2024-06-06 11:00:00+00:00  "
      ]
     },
     "execution_count": 9,
     "metadata": {},
     "output_type": "execute_result"
    }
   ],
   "source": [
    "test_df['Data_Converted'] = test_df['Date'].str.slice(start = 0, stop = 10) + \" \" + test_df['Date'].str.slice(start = 11)\n",
    "#test_df['test'] = test_df['test'].astype('datetime64[ns]')\n",
    "test_df['Data_Converted'] = pd.to_datetime(test_df['Data_Converted'], format='mixed') \n",
    "test_df.head(10)"
   ]
  },
  {
   "cell_type": "markdown",
   "metadata": {},
   "source": [
    "### Visualizing"
   ]
  },
  {
   "cell_type": "code",
   "execution_count": 10,
   "metadata": {},
   "outputs": [
    {
     "data": {
      "application/vnd.plotly.v1+json": {
       "config": {
        "plotlyServerURL": "https://plot.ly"
       },
       "data": [
        {
         "hovertemplate": "Date=%{x}<br>Value=%{y}<extra></extra>",
         "legendgroup": "",
         "line": {
          "color": "#636efa",
          "dash": "solid"
         },
         "marker": {
          "symbol": "circle"
         },
         "mode": "lines",
         "name": "",
         "orientation": "v",
         "showlegend": false,
         "type": "scatter",
         "x": [
          "2024-06-06T20:00:00+00:00",
          "2024-06-06T19:00:00+00:00",
          "2024-06-06T18:00:00+00:00",
          "2024-06-06T17:00:00+00:00",
          "2024-06-06T16:00:00+00:00",
          "2024-06-06T15:00:00+00:00",
          "2024-06-06T14:00:00+00:00",
          "2024-06-06T13:00:00+00:00",
          "2024-06-06T12:00:00+00:00",
          "2024-06-06T11:00:00+00:00",
          "2024-06-06T10:00:00+00:00",
          "2024-06-06T09:00:00+00:00",
          "2024-06-06T08:00:00+00:00",
          "2024-06-06T07:00:00+00:00",
          "2024-06-06T06:00:00+00:00",
          "2024-06-06T05:00:00+00:00",
          "2024-06-06T04:00:00+00:00",
          "2024-06-06T03:00:00+00:00",
          "2024-06-06T02:00:00+00:00",
          "2024-06-06T01:00:00+00:00",
          "2024-06-06T00:00:00+00:00",
          "2024-06-05T23:00:00+00:00",
          "2024-06-05T22:00:00+00:00",
          "2024-06-05T21:00:00+00:00",
          "2024-06-05T20:00:00+00:00",
          "2024-06-05T19:00:00+00:00",
          "2024-06-05T18:00:00+00:00",
          "2024-06-05T17:00:00+00:00",
          "2024-06-05T16:00:00+00:00",
          "2024-06-05T15:00:00+00:00",
          "2024-06-05T14:00:00+00:00",
          "2024-06-05T13:00:00+00:00",
          "2024-06-05T12:00:00+00:00",
          "2024-06-05T11:00:00+00:00",
          "2024-06-05T10:00:00+00:00",
          "2024-06-05T09:00:00+00:00",
          "2024-06-05T08:00:00+00:00",
          "2024-06-05T07:00:00+00:00",
          "2024-06-05T06:00:00+00:00",
          "2024-06-05T05:00:00+00:00",
          "2024-06-05T04:00:00+00:00",
          "2024-06-05T03:00:00+00:00",
          "2024-06-05T02:00:00+00:00",
          "2024-06-05T01:00:00+00:00",
          "2024-06-05T00:00:00+00:00",
          "2024-06-04T23:00:00+00:00",
          "2024-06-04T22:00:00+00:00",
          "2024-06-04T21:00:00+00:00",
          "2024-06-04T20:00:00+00:00",
          "2024-06-04T19:00:00+00:00",
          "2024-06-04T18:00:00+00:00",
          "2024-06-04T17:00:00+00:00",
          "2024-06-04T16:00:00+00:00",
          "2024-06-04T15:00:00+00:00",
          "2024-06-04T14:00:00+00:00",
          "2024-06-04T13:00:00+00:00",
          "2024-06-04T12:00:00+00:00",
          "2024-06-04T11:00:00+00:00",
          "2024-06-04T10:00:00+00:00",
          "2024-06-04T09:00:00+00:00",
          "2024-06-04T08:00:00+00:00",
          "2024-06-04T07:00:00+00:00",
          "2024-06-04T06:00:00+00:00",
          "2024-06-04T05:00:00+00:00",
          "2024-06-04T04:00:00+00:00",
          "2024-06-04T03:00:00+00:00",
          "2024-06-04T02:00:00+00:00",
          "2024-06-04T01:00:00+00:00",
          "2024-06-04T00:00:00+00:00",
          "2024-06-03T23:00:00+00:00",
          "2024-06-03T22:00:00+00:00",
          "2024-06-03T21:00:00+00:00",
          "2024-06-03T20:00:00+00:00",
          "2024-06-03T19:00:00+00:00",
          "2024-06-03T18:00:00+00:00",
          "2024-06-03T17:00:00+00:00",
          "2024-06-03T16:00:00+00:00",
          "2024-06-03T15:00:00+00:00",
          "2024-06-03T14:00:00+00:00",
          "2024-06-03T13:00:00+00:00",
          "2024-06-03T12:00:00+00:00",
          "2024-06-03T11:00:00+00:00",
          "2024-06-03T10:00:00+00:00",
          "2024-06-03T09:00:00+00:00",
          "2024-06-03T08:00:00+00:00",
          "2024-06-03T07:00:00+00:00",
          "2024-06-03T06:00:00+00:00",
          "2024-06-03T05:00:00+00:00",
          "2024-06-03T04:00:00+00:00",
          "2024-06-03T03:00:00+00:00",
          "2024-06-03T02:00:00+00:00",
          "2024-06-03T01:00:00+00:00",
          "2024-06-03T00:00:00+00:00",
          "2024-06-02T23:00:00+00:00",
          "2024-06-02T22:00:00+00:00",
          "2024-06-02T21:00:00+00:00",
          "2024-06-02T20:00:00+00:00",
          "2024-06-02T19:00:00+00:00",
          "2024-06-02T18:00:00+00:00",
          "2024-06-02T17:00:00+00:00",
          "2024-06-02T16:00:00+00:00",
          "2024-06-02T15:00:00+00:00",
          "2024-06-02T14:00:00+00:00",
          "2024-06-02T13:00:00+00:00",
          "2024-06-02T12:00:00+00:00",
          "2024-06-02T11:00:00+00:00",
          "2024-06-02T10:00:00+00:00",
          "2024-06-02T09:00:00+00:00",
          "2024-06-02T08:00:00+00:00",
          "2024-06-02T07:00:00+00:00",
          "2024-06-02T06:00:00+00:00",
          "2024-06-02T05:00:00+00:00",
          "2024-06-02T04:00:00+00:00",
          "2024-06-02T03:00:00+00:00",
          "2024-06-02T02:00:00+00:00",
          "2024-06-02T01:00:00+00:00",
          "2024-06-02T00:00:00+00:00",
          "2024-06-01T23:00:00+00:00",
          "2024-06-01T22:00:00+00:00",
          "2024-06-01T21:00:00+00:00",
          "2024-06-01T20:00:00+00:00",
          "2024-06-01T19:00:00+00:00",
          "2024-06-01T18:00:00+00:00",
          "2024-06-01T17:00:00+00:00",
          "2024-06-01T16:00:00+00:00",
          "2024-06-01T15:00:00+00:00",
          "2024-06-01T14:00:00+00:00",
          "2024-06-01T13:00:00+00:00",
          "2024-06-01T12:00:00+00:00",
          "2024-06-01T11:00:00+00:00",
          "2024-06-01T10:00:00+00:00",
          "2024-06-01T09:00:00+00:00",
          "2024-06-01T08:00:00+00:00",
          "2024-06-01T07:00:00+00:00",
          "2024-06-01T06:00:00+00:00",
          "2024-06-01T05:00:00+00:00",
          "2024-06-01T04:00:00+00:00",
          "2024-06-01T03:00:00+00:00",
          "2024-06-01T02:00:00+00:00",
          "2024-06-01T01:00:00+00:00",
          "2024-06-01T00:00:00+00:00",
          "2024-05-31T23:00:00+00:00",
          "2024-05-31T22:00:00+00:00",
          "2024-05-31T21:00:00+00:00",
          "2024-05-31T20:00:00+00:00",
          "2024-05-31T19:00:00+00:00",
          "2024-05-31T18:00:00+00:00",
          "2024-05-31T17:00:00+00:00",
          "2024-05-31T16:00:00+00:00",
          "2024-05-31T15:00:00+00:00",
          "2024-05-31T14:00:00+00:00",
          "2024-05-31T13:00:00+00:00",
          "2024-05-31T12:00:00+00:00",
          "2024-05-31T11:00:00+00:00",
          "2024-05-31T10:00:00+00:00",
          "2024-05-31T09:00:00+00:00",
          "2024-05-31T08:00:00+00:00",
          "2024-05-31T07:00:00+00:00",
          "2024-05-31T06:00:00+00:00",
          "2024-05-31T05:00:00+00:00",
          "2024-05-31T04:00:00+00:00",
          "2024-05-31T03:00:00+00:00",
          "2024-05-31T02:00:00+00:00",
          "2024-05-31T01:00:00+00:00",
          "2024-05-31T00:00:00+00:00",
          "2024-05-30T23:00:00+00:00",
          "2024-05-30T22:00:00+00:00",
          "2024-05-30T21:00:00+00:00",
          "2024-05-30T20:00:00+00:00",
          "2024-05-30T19:00:00+00:00",
          "2024-05-30T18:00:00+00:00",
          "2024-05-30T17:00:00+00:00",
          "2024-05-30T16:00:00+00:00",
          "2024-05-30T15:00:00+00:00",
          "2024-05-30T14:00:00+00:00",
          "2024-05-30T13:00:00+00:00",
          "2024-05-30T12:00:00+00:00",
          "2024-05-30T11:00:00+00:00",
          "2024-05-30T10:00:00+00:00",
          "2024-05-30T09:00:00+00:00",
          "2024-05-30T08:00:00+00:00",
          "2024-05-30T07:00:00+00:00",
          "2024-05-30T06:00:00+00:00",
          "2024-05-30T05:00:00+00:00",
          "2024-05-30T04:00:00+00:00",
          "2024-05-30T03:00:00+00:00",
          "2024-05-30T02:00:00+00:00",
          "2024-05-30T01:00:00+00:00"
         ],
         "xaxis": "x",
         "y": [
          4.1,
          4.3,
          4.6,
          4.5,
          4.9,
          4.8,
          5.1,
          4.8,
          4.7,
          4.2,
          4.1,
          4.2,
          4.2,
          3.9,
          3.5,
          3.2,
          3.3,
          3.2,
          3.1,
          3.1,
          3.3,
          3.8,
          4.4,
          4.9,
          4.6,
          5,
          4.5,
          5,
          5,
          5,
          4.8,
          3.9,
          3.6,
          3.8,
          3.8,
          3.8,
          3.7,
          3.3,
          3.1,
          1.7,
          1.6,
          1.6,
          1.7,
          2.8,
          4.7,
          4.3,
          4.1,
          3.9,
          3.8,
          3.5,
          3.2,
          3,
          2.8,
          2.6,
          2.8,
          2.9,
          3,
          3.1,
          3.2,
          3.2,
          3.1,
          2.9,
          3.1,
          3.7,
          3.5,
          3.2,
          3.2,
          2.9,
          3.1,
          3.2,
          3.1,
          3.1,
          2.6,
          2.7,
          2.7,
          2.7,
          3.1,
          3.6,
          3.7,
          3.8,
          2.7,
          1.5,
          1.6,
          1.5,
          1.5,
          1.6,
          1.9,
          1.7,
          1.8,
          1.8,
          1.9,
          1.9,
          2,
          2.1,
          2,
          2.1,
          2.2,
          2.1,
          1.8,
          1.6,
          1.7,
          1.6,
          1.7,
          1.7,
          1.9,
          2.1,
          2.2,
          2.3,
          2.1,
          2,
          2,
          2.3,
          2.1,
          2.4,
          2.7,
          2.8,
          3.9,
          4,
          4.5,
          4,
          4.1,
          4.4,
          4.8,
          4.3,
          4,
          3.6,
          3.7,
          3.8,
          4.1,
          4.5,
          4.5,
          5,
          5.4,
          3.8,
          3.5,
          3.3,
          3,
          2.6,
          2.6,
          2.6,
          2.7,
          3,
          3.3,
          3.7,
          4,
          4.1,
          3.8,
          3.9,
          3.5,
          3.6,
          4.2,
          3.8,
          3.5,
          2.8,
          3.1,
          4.1,
          2.9,
          2.7,
          2.6,
          2.6,
          2.5,
          2.5,
          2.6,
          2.5,
          2.6,
          2.6,
          2.5,
          2.7,
          2.9,
          3.2,
          3.2,
          3.2,
          3.1,
          2.8,
          2.9,
          2.8,
          2.6,
          3,
          2.8,
          2.2,
          2.2,
          2,
          2.2,
          2.3,
          2.4,
          2.1,
          2.3,
          2.5
         ],
         "yaxis": "y"
        }
       ],
       "layout": {
        "legend": {
         "tracegroupgap": 0
        },
        "template": {
         "data": {
          "bar": [
           {
            "error_x": {
             "color": "#2a3f5f"
            },
            "error_y": {
             "color": "#2a3f5f"
            },
            "marker": {
             "line": {
              "color": "#E5ECF6",
              "width": 0.5
             },
             "pattern": {
              "fillmode": "overlay",
              "size": 10,
              "solidity": 0.2
             }
            },
            "type": "bar"
           }
          ],
          "barpolar": [
           {
            "marker": {
             "line": {
              "color": "#E5ECF6",
              "width": 0.5
             },
             "pattern": {
              "fillmode": "overlay",
              "size": 10,
              "solidity": 0.2
             }
            },
            "type": "barpolar"
           }
          ],
          "carpet": [
           {
            "aaxis": {
             "endlinecolor": "#2a3f5f",
             "gridcolor": "white",
             "linecolor": "white",
             "minorgridcolor": "white",
             "startlinecolor": "#2a3f5f"
            },
            "baxis": {
             "endlinecolor": "#2a3f5f",
             "gridcolor": "white",
             "linecolor": "white",
             "minorgridcolor": "white",
             "startlinecolor": "#2a3f5f"
            },
            "type": "carpet"
           }
          ],
          "choropleth": [
           {
            "colorbar": {
             "outlinewidth": 0,
             "ticks": ""
            },
            "type": "choropleth"
           }
          ],
          "contour": [
           {
            "colorbar": {
             "outlinewidth": 0,
             "ticks": ""
            },
            "colorscale": [
             [
              0,
              "#0d0887"
             ],
             [
              0.1111111111111111,
              "#46039f"
             ],
             [
              0.2222222222222222,
              "#7201a8"
             ],
             [
              0.3333333333333333,
              "#9c179e"
             ],
             [
              0.4444444444444444,
              "#bd3786"
             ],
             [
              0.5555555555555556,
              "#d8576b"
             ],
             [
              0.6666666666666666,
              "#ed7953"
             ],
             [
              0.7777777777777778,
              "#fb9f3a"
             ],
             [
              0.8888888888888888,
              "#fdca26"
             ],
             [
              1,
              "#f0f921"
             ]
            ],
            "type": "contour"
           }
          ],
          "contourcarpet": [
           {
            "colorbar": {
             "outlinewidth": 0,
             "ticks": ""
            },
            "type": "contourcarpet"
           }
          ],
          "heatmap": [
           {
            "colorbar": {
             "outlinewidth": 0,
             "ticks": ""
            },
            "colorscale": [
             [
              0,
              "#0d0887"
             ],
             [
              0.1111111111111111,
              "#46039f"
             ],
             [
              0.2222222222222222,
              "#7201a8"
             ],
             [
              0.3333333333333333,
              "#9c179e"
             ],
             [
              0.4444444444444444,
              "#bd3786"
             ],
             [
              0.5555555555555556,
              "#d8576b"
             ],
             [
              0.6666666666666666,
              "#ed7953"
             ],
             [
              0.7777777777777778,
              "#fb9f3a"
             ],
             [
              0.8888888888888888,
              "#fdca26"
             ],
             [
              1,
              "#f0f921"
             ]
            ],
            "type": "heatmap"
           }
          ],
          "heatmapgl": [
           {
            "colorbar": {
             "outlinewidth": 0,
             "ticks": ""
            },
            "colorscale": [
             [
              0,
              "#0d0887"
             ],
             [
              0.1111111111111111,
              "#46039f"
             ],
             [
              0.2222222222222222,
              "#7201a8"
             ],
             [
              0.3333333333333333,
              "#9c179e"
             ],
             [
              0.4444444444444444,
              "#bd3786"
             ],
             [
              0.5555555555555556,
              "#d8576b"
             ],
             [
              0.6666666666666666,
              "#ed7953"
             ],
             [
              0.7777777777777778,
              "#fb9f3a"
             ],
             [
              0.8888888888888888,
              "#fdca26"
             ],
             [
              1,
              "#f0f921"
             ]
            ],
            "type": "heatmapgl"
           }
          ],
          "histogram": [
           {
            "marker": {
             "pattern": {
              "fillmode": "overlay",
              "size": 10,
              "solidity": 0.2
             }
            },
            "type": "histogram"
           }
          ],
          "histogram2d": [
           {
            "colorbar": {
             "outlinewidth": 0,
             "ticks": ""
            },
            "colorscale": [
             [
              0,
              "#0d0887"
             ],
             [
              0.1111111111111111,
              "#46039f"
             ],
             [
              0.2222222222222222,
              "#7201a8"
             ],
             [
              0.3333333333333333,
              "#9c179e"
             ],
             [
              0.4444444444444444,
              "#bd3786"
             ],
             [
              0.5555555555555556,
              "#d8576b"
             ],
             [
              0.6666666666666666,
              "#ed7953"
             ],
             [
              0.7777777777777778,
              "#fb9f3a"
             ],
             [
              0.8888888888888888,
              "#fdca26"
             ],
             [
              1,
              "#f0f921"
             ]
            ],
            "type": "histogram2d"
           }
          ],
          "histogram2dcontour": [
           {
            "colorbar": {
             "outlinewidth": 0,
             "ticks": ""
            },
            "colorscale": [
             [
              0,
              "#0d0887"
             ],
             [
              0.1111111111111111,
              "#46039f"
             ],
             [
              0.2222222222222222,
              "#7201a8"
             ],
             [
              0.3333333333333333,
              "#9c179e"
             ],
             [
              0.4444444444444444,
              "#bd3786"
             ],
             [
              0.5555555555555556,
              "#d8576b"
             ],
             [
              0.6666666666666666,
              "#ed7953"
             ],
             [
              0.7777777777777778,
              "#fb9f3a"
             ],
             [
              0.8888888888888888,
              "#fdca26"
             ],
             [
              1,
              "#f0f921"
             ]
            ],
            "type": "histogram2dcontour"
           }
          ],
          "mesh3d": [
           {
            "colorbar": {
             "outlinewidth": 0,
             "ticks": ""
            },
            "type": "mesh3d"
           }
          ],
          "parcoords": [
           {
            "line": {
             "colorbar": {
              "outlinewidth": 0,
              "ticks": ""
             }
            },
            "type": "parcoords"
           }
          ],
          "pie": [
           {
            "automargin": true,
            "type": "pie"
           }
          ],
          "scatter": [
           {
            "fillpattern": {
             "fillmode": "overlay",
             "size": 10,
             "solidity": 0.2
            },
            "type": "scatter"
           }
          ],
          "scatter3d": [
           {
            "line": {
             "colorbar": {
              "outlinewidth": 0,
              "ticks": ""
             }
            },
            "marker": {
             "colorbar": {
              "outlinewidth": 0,
              "ticks": ""
             }
            },
            "type": "scatter3d"
           }
          ],
          "scattercarpet": [
           {
            "marker": {
             "colorbar": {
              "outlinewidth": 0,
              "ticks": ""
             }
            },
            "type": "scattercarpet"
           }
          ],
          "scattergeo": [
           {
            "marker": {
             "colorbar": {
              "outlinewidth": 0,
              "ticks": ""
             }
            },
            "type": "scattergeo"
           }
          ],
          "scattergl": [
           {
            "marker": {
             "colorbar": {
              "outlinewidth": 0,
              "ticks": ""
             }
            },
            "type": "scattergl"
           }
          ],
          "scattermapbox": [
           {
            "marker": {
             "colorbar": {
              "outlinewidth": 0,
              "ticks": ""
             }
            },
            "type": "scattermapbox"
           }
          ],
          "scatterpolar": [
           {
            "marker": {
             "colorbar": {
              "outlinewidth": 0,
              "ticks": ""
             }
            },
            "type": "scatterpolar"
           }
          ],
          "scatterpolargl": [
           {
            "marker": {
             "colorbar": {
              "outlinewidth": 0,
              "ticks": ""
             }
            },
            "type": "scatterpolargl"
           }
          ],
          "scatterternary": [
           {
            "marker": {
             "colorbar": {
              "outlinewidth": 0,
              "ticks": ""
             }
            },
            "type": "scatterternary"
           }
          ],
          "surface": [
           {
            "colorbar": {
             "outlinewidth": 0,
             "ticks": ""
            },
            "colorscale": [
             [
              0,
              "#0d0887"
             ],
             [
              0.1111111111111111,
              "#46039f"
             ],
             [
              0.2222222222222222,
              "#7201a8"
             ],
             [
              0.3333333333333333,
              "#9c179e"
             ],
             [
              0.4444444444444444,
              "#bd3786"
             ],
             [
              0.5555555555555556,
              "#d8576b"
             ],
             [
              0.6666666666666666,
              "#ed7953"
             ],
             [
              0.7777777777777778,
              "#fb9f3a"
             ],
             [
              0.8888888888888888,
              "#fdca26"
             ],
             [
              1,
              "#f0f921"
             ]
            ],
            "type": "surface"
           }
          ],
          "table": [
           {
            "cells": {
             "fill": {
              "color": "#EBF0F8"
             },
             "line": {
              "color": "white"
             }
            },
            "header": {
             "fill": {
              "color": "#C8D4E3"
             },
             "line": {
              "color": "white"
             }
            },
            "type": "table"
           }
          ]
         },
         "layout": {
          "annotationdefaults": {
           "arrowcolor": "#2a3f5f",
           "arrowhead": 0,
           "arrowwidth": 1
          },
          "autotypenumbers": "strict",
          "coloraxis": {
           "colorbar": {
            "outlinewidth": 0,
            "ticks": ""
           }
          },
          "colorscale": {
           "diverging": [
            [
             0,
             "#8e0152"
            ],
            [
             0.1,
             "#c51b7d"
            ],
            [
             0.2,
             "#de77ae"
            ],
            [
             0.3,
             "#f1b6da"
            ],
            [
             0.4,
             "#fde0ef"
            ],
            [
             0.5,
             "#f7f7f7"
            ],
            [
             0.6,
             "#e6f5d0"
            ],
            [
             0.7,
             "#b8e186"
            ],
            [
             0.8,
             "#7fbc41"
            ],
            [
             0.9,
             "#4d9221"
            ],
            [
             1,
             "#276419"
            ]
           ],
           "sequential": [
            [
             0,
             "#0d0887"
            ],
            [
             0.1111111111111111,
             "#46039f"
            ],
            [
             0.2222222222222222,
             "#7201a8"
            ],
            [
             0.3333333333333333,
             "#9c179e"
            ],
            [
             0.4444444444444444,
             "#bd3786"
            ],
            [
             0.5555555555555556,
             "#d8576b"
            ],
            [
             0.6666666666666666,
             "#ed7953"
            ],
            [
             0.7777777777777778,
             "#fb9f3a"
            ],
            [
             0.8888888888888888,
             "#fdca26"
            ],
            [
             1,
             "#f0f921"
            ]
           ],
           "sequentialminus": [
            [
             0,
             "#0d0887"
            ],
            [
             0.1111111111111111,
             "#46039f"
            ],
            [
             0.2222222222222222,
             "#7201a8"
            ],
            [
             0.3333333333333333,
             "#9c179e"
            ],
            [
             0.4444444444444444,
             "#bd3786"
            ],
            [
             0.5555555555555556,
             "#d8576b"
            ],
            [
             0.6666666666666666,
             "#ed7953"
            ],
            [
             0.7777777777777778,
             "#fb9f3a"
            ],
            [
             0.8888888888888888,
             "#fdca26"
            ],
            [
             1,
             "#f0f921"
            ]
           ]
          },
          "colorway": [
           "#636efa",
           "#EF553B",
           "#00cc96",
           "#ab63fa",
           "#FFA15A",
           "#19d3f3",
           "#FF6692",
           "#B6E880",
           "#FF97FF",
           "#FECB52"
          ],
          "font": {
           "color": "#2a3f5f"
          },
          "geo": {
           "bgcolor": "white",
           "lakecolor": "white",
           "landcolor": "#E5ECF6",
           "showlakes": true,
           "showland": true,
           "subunitcolor": "white"
          },
          "hoverlabel": {
           "align": "left"
          },
          "hovermode": "closest",
          "mapbox": {
           "style": "light"
          },
          "paper_bgcolor": "white",
          "plot_bgcolor": "#E5ECF6",
          "polar": {
           "angularaxis": {
            "gridcolor": "white",
            "linecolor": "white",
            "ticks": ""
           },
           "bgcolor": "#E5ECF6",
           "radialaxis": {
            "gridcolor": "white",
            "linecolor": "white",
            "ticks": ""
           }
          },
          "scene": {
           "xaxis": {
            "backgroundcolor": "#E5ECF6",
            "gridcolor": "white",
            "gridwidth": 2,
            "linecolor": "white",
            "showbackground": true,
            "ticks": "",
            "zerolinecolor": "white"
           },
           "yaxis": {
            "backgroundcolor": "#E5ECF6",
            "gridcolor": "white",
            "gridwidth": 2,
            "linecolor": "white",
            "showbackground": true,
            "ticks": "",
            "zerolinecolor": "white"
           },
           "zaxis": {
            "backgroundcolor": "#E5ECF6",
            "gridcolor": "white",
            "gridwidth": 2,
            "linecolor": "white",
            "showbackground": true,
            "ticks": "",
            "zerolinecolor": "white"
           }
          },
          "shapedefaults": {
           "line": {
            "color": "#2a3f5f"
           }
          },
          "ternary": {
           "aaxis": {
            "gridcolor": "white",
            "linecolor": "white",
            "ticks": ""
           },
           "baxis": {
            "gridcolor": "white",
            "linecolor": "white",
            "ticks": ""
           },
           "bgcolor": "#E5ECF6",
           "caxis": {
            "gridcolor": "white",
            "linecolor": "white",
            "ticks": ""
           }
          },
          "title": {
           "x": 0.05
          },
          "xaxis": {
           "automargin": true,
           "gridcolor": "white",
           "linecolor": "white",
           "ticks": "",
           "title": {
            "standoff": 15
           },
           "zerolinecolor": "white",
           "zerolinewidth": 2
          },
          "yaxis": {
           "automargin": true,
           "gridcolor": "white",
           "linecolor": "white",
           "ticks": "",
           "title": {
            "standoff": 15
           },
           "zerolinecolor": "white",
           "zerolinewidth": 2
          }
         }
        },
        "title": {
         "text": "Polution over time"
        },
        "xaxis": {
         "anchor": "y",
         "domain": [
          0,
          1
         ],
         "title": {
          "text": "Date"
         }
        },
        "yaxis": {
         "anchor": "x",
         "domain": [
          0,
          1
         ],
         "title": {
          "text": "Value"
         }
        }
       }
      }
     },
     "metadata": {},
     "output_type": "display_data"
    }
   ],
   "source": [
    "fig = px.line(test_df, x = 'Date', y = 'Value', title = 'Polution over time')\n",
    "fig.show()"
   ]
  },
  {
   "cell_type": "markdown",
   "metadata": {},
   "source": [
    "### Training Model"
   ]
  },
  {
   "cell_type": "code",
   "execution_count": 11,
   "metadata": {},
   "outputs": [
    {
     "name": "stderr",
     "output_type": "stream",
     "text": [
      "13:27:39 - cmdstanpy - INFO - Chain [1] start processing\n",
      "13:27:40 - cmdstanpy - INFO - Chain [1] done processing\n"
     ]
    },
    {
     "data": {
      "text/html": [
       "<div>\n",
       "<style scoped>\n",
       "    .dataframe tbody tr th:only-of-type {\n",
       "        vertical-align: middle;\n",
       "    }\n",
       "\n",
       "    .dataframe tbody tr th {\n",
       "        vertical-align: top;\n",
       "    }\n",
       "\n",
       "    .dataframe thead th {\n",
       "        text-align: right;\n",
       "    }\n",
       "</style>\n",
       "<table border=\"1\" class=\"dataframe\">\n",
       "  <thead>\n",
       "    <tr style=\"text-align: right;\">\n",
       "      <th></th>\n",
       "      <th>ds</th>\n",
       "    </tr>\n",
       "  </thead>\n",
       "  <tbody>\n",
       "    <tr>\n",
       "      <th>184</th>\n",
       "      <td>2024-06-06 17:00:00</td>\n",
       "    </tr>\n",
       "    <tr>\n",
       "      <th>185</th>\n",
       "      <td>2024-06-06 18:00:00</td>\n",
       "    </tr>\n",
       "    <tr>\n",
       "      <th>186</th>\n",
       "      <td>2024-06-06 19:00:00</td>\n",
       "    </tr>\n",
       "    <tr>\n",
       "      <th>187</th>\n",
       "      <td>2024-06-06 20:00:00</td>\n",
       "    </tr>\n",
       "    <tr>\n",
       "      <th>188</th>\n",
       "      <td>2024-06-07 20:00:00</td>\n",
       "    </tr>\n",
       "  </tbody>\n",
       "</table>\n",
       "</div>"
      ],
      "text/plain": [
       "                     ds\n",
       "184 2024-06-06 17:00:00\n",
       "185 2024-06-06 18:00:00\n",
       "186 2024-06-06 19:00:00\n",
       "187 2024-06-06 20:00:00\n",
       "188 2024-06-07 20:00:00"
      ]
     },
     "execution_count": 11,
     "metadata": {},
     "output_type": "execute_result"
    }
   ],
   "source": [
    "train = test_df[['Data_Converted', 'Value']]\n",
    "train = train.rename(columns = {'Data_Converted': 'ds', 'Value': 'y'})\n",
    "train['ds'] = train['ds'].dt.tz_localize(None)\n",
    "\n",
    "# Fitting model\n",
    "model = Prophet()\n",
    "model.fit(train)\n",
    "\n",
    "# Making prediction\n",
    "future = model.make_future_dataframe(periods=1)\n",
    "future.tail()\n"
   ]
  },
  {
   "cell_type": "code",
   "execution_count": 12,
   "metadata": {},
   "outputs": [
    {
     "data": {
      "text/html": [
       "<div>\n",
       "<style scoped>\n",
       "    .dataframe tbody tr th:only-of-type {\n",
       "        vertical-align: middle;\n",
       "    }\n",
       "\n",
       "    .dataframe tbody tr th {\n",
       "        vertical-align: top;\n",
       "    }\n",
       "\n",
       "    .dataframe thead th {\n",
       "        text-align: right;\n",
       "    }\n",
       "</style>\n",
       "<table border=\"1\" class=\"dataframe\">\n",
       "  <thead>\n",
       "    <tr style=\"text-align: right;\">\n",
       "      <th></th>\n",
       "      <th>ds</th>\n",
       "      <th>yhat</th>\n",
       "      <th>yhat_lower</th>\n",
       "      <th>yhat_upper</th>\n",
       "    </tr>\n",
       "  </thead>\n",
       "  <tbody>\n",
       "    <tr>\n",
       "      <th>184</th>\n",
       "      <td>2024-06-06 17:00:00</td>\n",
       "      <td>4.386789</td>\n",
       "      <td>3.458368</td>\n",
       "      <td>5.383268</td>\n",
       "    </tr>\n",
       "    <tr>\n",
       "      <th>185</th>\n",
       "      <td>2024-06-06 18:00:00</td>\n",
       "      <td>4.395766</td>\n",
       "      <td>3.346730</td>\n",
       "      <td>5.333323</td>\n",
       "    </tr>\n",
       "    <tr>\n",
       "      <th>186</th>\n",
       "      <td>2024-06-06 19:00:00</td>\n",
       "      <td>4.439168</td>\n",
       "      <td>3.488113</td>\n",
       "      <td>5.457135</td>\n",
       "    </tr>\n",
       "    <tr>\n",
       "      <th>187</th>\n",
       "      <td>2024-06-06 20:00:00</td>\n",
       "      <td>4.496993</td>\n",
       "      <td>3.485917</td>\n",
       "      <td>5.373283</td>\n",
       "    </tr>\n",
       "    <tr>\n",
       "      <th>188</th>\n",
       "      <td>2024-06-07 20:00:00</td>\n",
       "      <td>4.871307</td>\n",
       "      <td>3.916629</td>\n",
       "      <td>5.833853</td>\n",
       "    </tr>\n",
       "  </tbody>\n",
       "</table>\n",
       "</div>"
      ],
      "text/plain": [
       "                     ds      yhat  yhat_lower  yhat_upper\n",
       "184 2024-06-06 17:00:00  4.386789    3.458368    5.383268\n",
       "185 2024-06-06 18:00:00  4.395766    3.346730    5.333323\n",
       "186 2024-06-06 19:00:00  4.439168    3.488113    5.457135\n",
       "187 2024-06-06 20:00:00  4.496993    3.485917    5.373283\n",
       "188 2024-06-07 20:00:00  4.871307    3.916629    5.833853"
      ]
     },
     "execution_count": 12,
     "metadata": {},
     "output_type": "execute_result"
    }
   ],
   "source": [
    "forecast = model.predict(future)\n",
    "forecast[['ds', 'yhat', 'yhat_lower', 'yhat_upper']].tail()\n"
   ]
  },
  {
   "cell_type": "code",
   "execution_count": 13,
   "metadata": {},
   "outputs": [
    {
     "name": "stderr",
     "output_type": "stream",
     "text": [
      "c:\\Users\\seelc\\OneDrive\\Desktop\\Lucas Desktop Items\\Projects\\Air Polution Forecasting\\.venv\\Lib\\site-packages\\prophet\\plot.py:72: FutureWarning:\n",
      "\n",
      "The behavior of DatetimeProperties.to_pydatetime is deprecated, in a future version this will return a Series containing python datetime objects instead of an ndarray. To retain the old behavior, call `np.array` on the result\n",
      "\n",
      "c:\\Users\\seelc\\OneDrive\\Desktop\\Lucas Desktop Items\\Projects\\Air Polution Forecasting\\.venv\\Lib\\site-packages\\prophet\\plot.py:73: FutureWarning:\n",
      "\n",
      "The behavior of DatetimeProperties.to_pydatetime is deprecated, in a future version this will return a Series containing python datetime objects instead of an ndarray. To retain the old behavior, call `np.array` on the result\n",
      "\n"
     ]
    },
    {
     "data": {
      "image/png": "[encoded data removed]",
      "text/plain": [
       "<Figure size 1000x600 with 1 Axes>"
      ]
     },
     "metadata": {},
     "output_type": "display_data"
    }
   ],
   "source": [
    "fig1 = model.plot(forecast)"
   ]
  },
  {
   "cell_type": "markdown",
   "metadata": {},
   "source": [
    "# Experimenting with Date"
   ]
  },
  {
   "cell_type": "code",
   "execution_count": 7,
   "metadata": {},
   "outputs": [
    {
     "name": "stdout",
     "output_type": "stream",
     "text": [
      "2024-07-27\n",
      "2024\n",
      "07\n",
      "27\n"
     ]
    }
   ],
   "source": [
    "today = str(date.today())\n",
    "print(today)\n",
    "year = today[:4]\n",
    "month = today[5:7]\n",
    "day = today[-2:]\n",
    "print(year)\n",
    "print(month)\n",
    "print(day)\n"
   ]
  }
 ],
 "metadata": {
  "kernelspec": {
   "display_name": ".venv",
   "language": "python",
   "name": "python3"
  },
  "language_info": {
   "codemirror_mode": {
    "name": "ipython",
    "version": 3
   },
   "file_extension": ".py",
   "mimetype": "text/x-python",
   "name": "python",
   "nbconvert_exporter": "python",
   "pygments_lexer": "ipython3",
   "version": "3.12.0"
  }
 },
 "nbformat": 4,
 "nbformat_minor": 2
}
